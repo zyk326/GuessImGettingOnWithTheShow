{
 "cells": [
  {
   "cell_type": "code",
   "execution_count": null,
   "metadata": {},
   "outputs": [],
   "source": [
    "# 1226 包子凑数\n",
    "# 加上数论的裴蜀定理 a, b 能凑出来的数是gcd(a, b)的整数倍,且不能凑出来的最大数是a*b - a - b\n",
    "# 状态转移时,可以把有没有的问题转化成有多少的问题,最后遍历,没有的就是不能的,有的不用管他有多少\n",
    "N = int(input())\n",
    "n = N\n",
    "li = []\n",
    "while(n):\n",
    "    li.append(int(input()))\n",
    "    n -= 1\n",
    "li.insert(0, 0)\n",
    "gd = li[1]\n",
    "\n",
    "def gcd(a, b):\n",
    "    return gcd(b, a % b) if b else a\n",
    "\n",
    "for i in range(1, N + 1):\n",
    "    gd = gcd(gd, li[i])\n",
    "if gd == 1:\n",
    "    dp = [[0 for _ in range(10001)] for _ in range(105)]\n",
    "    dp[0][0] = 1\n",
    "    for i in range(1,N + 1):\n",
    "        for j in range(10001):\n",
    "            dp[i][j] = dp[i - 1][j]\n",
    "            if j >= li[i]:\n",
    "                dp[i][j] += dp[i][j - li[i]] # 这里是一个状态的压缩,因为重量可以选无数件\n",
    "    ans = 0\n",
    "    for i in range(10001):\n",
    "        if dp[N][i] == 0:\n",
    "            ans += 1\n",
    "    print(ans)\n",
    "else:\n",
    "    print(\"INF\")"
   ]
  }
 ],
 "metadata": {
  "language_info": {
   "name": "python"
  }
 },
 "nbformat": 4,
 "nbformat_minor": 2
}
