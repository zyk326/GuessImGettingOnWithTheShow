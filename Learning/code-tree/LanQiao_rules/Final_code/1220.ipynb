{
 "cells": [
  {
   "cell_type": "code",
   "execution_count": null,
   "metadata": {},
   "outputs": [],
   "source": [
    "# # 1220 生命之树\n",
    "# 状态表示数组和深度优先搜索,把节点的空间开到合适n*2,把节点的index搞清楚\n",
    "n = int(input())\n",
    "w = list(map(int, input().split()))\n",
    "N = n\n",
    "\n",
    "e = [0] * (2 * n)\n",
    "ne = [0] * (2 * n)\n",
    "cnt = 0\n",
    "h = [-1] * (2 * n)\n",
    "\n",
    "def add(a, b):\n",
    "    global cnt\n",
    "    e[cnt] = b\n",
    "    ne[cnt] = h[a]\n",
    "    h[a] = cnt\n",
    "    cnt += 1\n",
    " \n",
    "while(N - 1):\n",
    "    a, b = map(int, input().split())\n",
    "    add(a - 1, b - 1)\n",
    "    add(b - 1, a - 1)\n",
    "    N -= 1\n",
    "\n",
    "q = [0] * (n + 10)\n",
    "\n",
    "def dfs(a, father):\n",
    "    q[a] = w[a]\n",
    "    buf = h[a]\n",
    "    while(buf != -1):\n",
    "        if e[buf] != father:\n",
    "            dfs(e[buf], a)\n",
    "            q[a] += max(0, q[e[buf]])\n",
    "        buf = ne[buf]\n",
    "\n",
    "\n",
    "dfs(0, -1)\n",
    "ans = q[0]\n",
    "for i in range(1, n):\n",
    "    ans = max(ans, q[i])\n",
    "print(ans)"
   ]
  }
 ],
 "metadata": {
  "language_info": {
   "name": "python"
  }
 },
 "nbformat": 4,
 "nbformat_minor": 2
}
