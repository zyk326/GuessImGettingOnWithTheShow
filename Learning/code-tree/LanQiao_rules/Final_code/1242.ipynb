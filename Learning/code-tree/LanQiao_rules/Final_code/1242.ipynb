{
 "cells": [
  {
   "cell_type": "code",
   "execution_count": null,
   "metadata": {},
   "outputs": [],
   "source": [
    "# 1242 修改数组\n",
    "# 转移要想清楚,QAQ感觉状态转移学魔怔了QAQ\n",
    "N = int(input())\n",
    "\n",
    "li = list(map(int, input().split()))\n",
    "\n",
    "h = []\n",
    "for i in range(1100000):\n",
    "    h.append(i)\n",
    "\n",
    "def find(x):\n",
    "    if x != h[x]:\n",
    "        h[x] = find(h[x])\n",
    "    return h[x]\n",
    "\n",
    "for i in range(1, N + 1):\n",
    "    he = find(li[i - 1])\n",
    "    print(he, end = ' ')\n",
    "    h[he] = he + 1"
   ]
  }
 ],
 "metadata": {
  "language_info": {
   "name": "python"
  }
 },
 "nbformat": 4,
 "nbformat_minor": 2
}
