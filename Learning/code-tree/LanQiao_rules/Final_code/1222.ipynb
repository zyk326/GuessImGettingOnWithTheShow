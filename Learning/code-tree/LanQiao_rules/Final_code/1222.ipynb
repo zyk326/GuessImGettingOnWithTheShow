{
 "cells": [
  {
   "cell_type": "code",
   "execution_count": null,
   "metadata": {},
   "outputs": [],
   "source": [
    "# 1222 密码脱落\n",
    "# 区间DP 左右区间的状态转移要想清楚,状态间的同等关系要想清楚\n",
    "li = input()\n",
    "le = len(li)\n",
    "dp = [[0 for _ in range(le + 10)] for _ in range(le + 10)]\n",
    "\n",
    "for i in range(1, le + 1):\n",
    "    j = 0\n",
    "    while(i + j - 1 < le):\n",
    "        l, r = j, i + j - 1\n",
    "        if i == 1:\n",
    "            dp[l][r] = 1\n",
    "        else:\n",
    "            if li[l] == li[r]:\n",
    "                dp[l][r] = dp[l + 1][r - 1] + 2\n",
    "            if dp[l][r - 1] > dp[l][r]:\n",
    "                dp[l][r] = dp[l][r - 1]\n",
    "            if dp[l + 1][r] > dp[l][r]:\n",
    "                dp[l][r] = dp[l + 1][r]\n",
    "        j += 1\n",
    "\n",
    "print(le - dp[0][le - 1])\n",
    "        "
   ]
  }
 ],
 "metadata": {
  "language_info": {
   "name": "python"
  }
 },
 "nbformat": 4,
 "nbformat_minor": 2
}
