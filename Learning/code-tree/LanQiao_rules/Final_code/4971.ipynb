{
 "cells": [
  {
   "cell_type": "code",
   "execution_count": null,
   "metadata": {},
   "outputs": [],
   "source": [
    "# 4971 子树的大小\n",
    "# n ×树的左右节点公式\n",
    "# l = point * n - n + 2\n",
    "# r = point * n + 1\n",
    "T = int(input())\n",
    "\n",
    "ans = []\n",
    "\n",
    "def deal(n, m, k):\n",
    "    l, r = k, k\n",
    "    res = 1\n",
    "    an = 1\n",
    "    while(n >= m * r + 1):\n",
    "        res = res * m\n",
    "        an += res\n",
    "        l = m * l - m + 2\n",
    "        r = m * r + 1\n",
    "    lef = m * l - m + 2\n",
    "    an += max(0, n - lef + 1)\n",
    "    return an\n",
    "\n",
    "while(T):\n",
    "    n, m, k = map(int, input().split())\n",
    "    ans.append(deal(n, m, k))\n",
    "    T -= 1\n",
    "for i in ans:\n",
    "    print(i)"
   ]
  }
 ],
 "metadata": {
  "language_info": {
   "name": "python"
  }
 },
 "nbformat": 4,
 "nbformat_minor": 2
}
