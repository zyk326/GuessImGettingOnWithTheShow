{
 "cells": [
  {
   "cell_type": "code",
   "execution_count": null,
   "metadata": {},
   "outputs": [],
   "source": [
    "# 4650 数的拆分\n",
    "T = int(input())\n",
    "\n",
    "ans = []\n",
    "factor = []\n",
    "cnt = 0\n",
    "mi = []\n",
    "\n",
    "def deal(a):\n",
    "    global factor, cnt, mi\n",
    "    factor = []\n",
    "    cnt = 0\n",
    "    mi = []\n",
    "\n",
    "    i = 2\n",
    "    while(a % i == 0):\n",
    "        factor[cnt] = i\n",
    "        while(a % i == 0):\n",
    "            a = a // i\n",
    "            mi[cnt] += 1\n",
    "        cnt += 1\n",
    "        if cnt >= 2:\n",
    "            return 0\n",
    "    return 1 if cnt < 2 else 0\n",
    "\n",
    "while(T):\n",
    "    ans.append(deal(int(input())))\n",
    "    T -= 1\n",
    "\n",
    "for i in ans:\n",
    "    if i == 1:\n",
    "        print(\"yes\")\n",
    "    else:\n",
    "        print(\"no\")"
   ]
  }
 ],
 "metadata": {
  "language_info": {
   "name": "python"
  }
 },
 "nbformat": 4,
 "nbformat_minor": 2
}
