{
 "cells": [
  {
   "cell_type": "code",
   "execution_count": null,
   "metadata": {},
   "outputs": [],
   "source": [
    "# 1047 糖果\n",
    "# 初始值要考虑空余值是否可以为0,初始状态值是否为0或者1,值是取最大值还是和值\n",
    "\n",
    "N, K = map(int, input().split())\n",
    "\n",
    "dp = [[float('-inf') for _ in range(K + 10)] for _ in range(N + 10)]\n",
    "w = [0 for i in range(N)]\n",
    "\n",
    "for i in range(N):\n",
    "    w[i] = int(input())\n",
    "\n",
    "dp[0][0] = 0\n",
    "\n",
    "for i in range(1, N + 1):\n",
    "    for j in range(K):\n",
    "        dp[i][j] = max(dp[i - 1][j], dp[i - 1][(j - w[i - 1] % K) % K] + w[i - 1])\n",
    "print(dp[N][0])"
   ]
  }
 ],
 "metadata": {
  "language_info": {
   "name": "python"
  }
 },
 "nbformat": 4,
 "nbformat_minor": 2
}
