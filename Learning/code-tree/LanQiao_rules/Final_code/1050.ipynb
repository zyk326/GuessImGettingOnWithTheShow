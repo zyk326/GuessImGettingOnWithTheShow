{
 "cells": [
  {
   "cell_type": "code",
   "execution_count": null,
   "metadata": {},
   "outputs": [],
   "source": [
    "# 1050 鸣人的影分身\n",
    "# 线性DP,重点是把那个状态表示和状态转移找出来,用技巧,ij数组的划分和怎么把当前状态的一部分用前状态表示出来\n",
    "T = int(input())\n",
    "ans = []\n",
    "\n",
    "while(T):\n",
    "    M, N = map(int, input().split())\n",
    "    dp = [[0 for _ in range(N + 10)] for _ in range(M + 10)]\n",
    "    dp[0][0] = 1\n",
    "    for i in range(0, M + 1):\n",
    "        for j in range(1, N + 1):\n",
    "            dp[i][j] = dp[i][j - 1]\n",
    "            if i >= j:\n",
    "                dp[i][j] += dp[i - j][j]\n",
    "    T -= 1\n",
    "    ans.append(dp[M][N])\n",
    "\n",
    "for i in ans:\n",
    "    print(i)"
   ]
  }
 ],
 "metadata": {
  "language_info": {
   "name": "python"
  }
 },
 "nbformat": 4,
 "nbformat_minor": 2
}
