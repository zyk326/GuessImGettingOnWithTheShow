{
 "cells": [
  {
   "cell_type": "code",
   "execution_count": null,
   "metadata": {},
   "outputs": [],
   "source": [
    "# 4646 爬树的甲壳虫\n",
    "# 数论的困难题 QAQ\n",
    "# 重要的是公式的推导\n",
    "n = int(input())\n",
    "N = n\n",
    "res = 0\n",
    "p = 998244353\n",
    "\n",
    "def qmi(a, b):\n",
    "    res = 1\n",
    "    while(b):\n",
    "        if b & 1:\n",
    "            res = res * a % p\n",
    "        a = a * a % p\n",
    "        b >>= 1\n",
    "    return res\n",
    "\n",
    "\n",
    "while(N):\n",
    "    a, b = map(int, input().split())\n",
    "    res = (1 + res) * b % p * qmi((b - a), p - 2) % p\n",
    "    N -= 1\n",
    "print(res)"
   ]
  }
 ],
 "metadata": {
  "language_info": {
   "name": "python"
  }
 },
 "nbformat": 4,
 "nbformat_minor": 2
}
