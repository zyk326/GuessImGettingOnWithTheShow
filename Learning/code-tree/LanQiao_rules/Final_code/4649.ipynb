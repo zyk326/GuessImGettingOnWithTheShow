{
 "cells": [
  {
   "cell_type": "code",
   "execution_count": null,
   "metadata": {},
   "outputs": [],
   "source": [
    "n,l=map(int,input().split())\n",
    "a,b,c,d=[],[],[],[]\n",
    "for i in range(1,n+1):\n",
    "    x,y,z=map(int,input().split())\n",
    "    e=((x*x+y*y)**0.5)\n",
    "    if x>=0 and y>0:\n",
    "        cc=float('inf') if x==0 else y/x\n",
    "        a.append([cc,e,z,i,1])\n",
    "    elif x>0 and y<=0:\n",
    "        b.append([y/x,e,z,i,2])\n",
    "    elif x<=0 and y<0:\n",
    "        cc=float('inf') if x==0 else y/x\n",
    "        c.append([cc,e,z,i,3])\n",
    "    else:\n",
    "        d.append([y/x,e,z,i,4])\n",
    "\n",
    "# a.sort(key=lambda x:x[1])\n",
    "# b.sort(key=lambda x:x[1])\n",
    "# c.sort(key=lambda x:x[1])\n",
    "# d.sort(key=lambda x:x[1])\n",
    "a.sort(key=lambda x:x[0],reverse=True)\n",
    "b.sort(key=lambda x:x[0],reverse=True)\n",
    "c.sort(key=lambda x:x[0],reverse=True)\n",
    "d.sort(key=lambda x:x[0],reverse=True)\n",
    "a=a[:]+b[:]+c[:]+d[:]\n",
    "vis=[0]*(n+1)\n",
    "cnt=1\n",
    "pai=[-1]*(n+1)\n",
    "while 1:\n",
    "    flag=0\n",
    "    temp=-1.0\n",
    "    tempcnt=-1.0\n",
    "    for i in range(n):\n",
    "        if not vis[i]:\n",
    "            if l>=a[i][1]:\n",
    "                vis[i]=1\n",
    "                l+=a[i][2]\n",
    "                if temp==a[i][0] and a[i][4]==flag:\n",
    "                    pai[a[i][3]]=tempcnt\n",
    "                else:\n",
    "                    pai[a[i][3]]=cnt\n",
    "                    flag=a[i][4]\n",
    "                    temp=a[i][0]\n",
    "                    tempcnt=cnt\n",
    "                cnt+=1\n",
    "    if flag==0:\n",
    "        break\n",
    "for i in range(1,n+1):\n",
    "    print(pai[i],end=' ')\n"
   ]
  }
 ],
 "metadata": {
  "language_info": {
   "name": "python"
  }
 },
 "nbformat": 4,
 "nbformat_minor": 2
}
