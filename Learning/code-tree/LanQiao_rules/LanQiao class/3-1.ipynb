{
 "cells": [
  {
   "cell_type": "code",
   "execution_count": 2,
   "metadata": {},
   "outputs": [
    {
     "name": "stdout",
     "output_type": "stream",
     "text": [
      "3\n"
     ]
    }
   ],
   "source": [
    "# 1211 蚂蚁感冒\n",
    "# 分类 让后统计\n",
    "n = int(input())\n",
    "num = list(map(int, input().split()))\n",
    "\n",
    "left, right = 0, 0\n",
    "\n",
    "for i in range(1, n):\n",
    "    if abs(num[0]) < abs(num[i]) and num[i] < 0:\n",
    "        right += 1\n",
    "    elif abs(num[0]) > abs(num[i]) and num[i] > 0:\n",
    "        left += 1\n",
    "if num[0] < 0 and left == 0 or num[0] > 0 and right == 0:\n",
    "    print(1)\n",
    "else:\n",
    "    print(left + right + 1)"
   ]
  }
 ],
 "metadata": {
  "kernelspec": {
   "display_name": "Algorithm",
   "language": "python",
   "name": "python3"
  },
  "language_info": {
   "codemirror_mode": {
    "name": "ipython",
    "version": 3
   },
   "file_extension": ".py",
   "mimetype": "text/x-python",
   "name": "python",
   "nbconvert_exporter": "python",
   "pygments_lexer": "ipython3",
   "version": "3.8.0"
  }
 },
 "nbformat": 4,
 "nbformat_minor": 2
}
