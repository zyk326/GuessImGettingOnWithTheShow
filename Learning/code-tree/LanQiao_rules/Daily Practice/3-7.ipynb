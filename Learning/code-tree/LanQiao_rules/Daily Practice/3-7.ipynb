{
 "cells": [
  {
   "cell_type": "code",
   "execution_count": 4,
   "metadata": {},
   "outputs": [
    {
     "name": "stdout",
     "output_type": "stream",
     "text": [
      "61\n"
     ]
    }
   ],
   "source": [
    "# 1262 鱼塘钓鱼\n",
    "# 归并排序 + 谈心\n",
    "\n",
    "def get(i, ti):\n",
    "    return max(0, fishes[i] - ti * loss[i])\n",
    "\n",
    "def work(i, t):\n",
    "    ans = 0\n",
    "    ti = [0 for i in range(N + 1)]\n",
    "\n",
    "    for s in range(1, t + 1):\n",
    "        j = 1\n",
    "        for k in range(2, i + 1):\n",
    "            if get(k, ti[k]) > get(j, ti[j]):\n",
    "                j = k\n",
    "        ans += get(j, ti[j])\n",
    "        ti[j] += 1\n",
    "    return ans\n",
    "\n",
    "if __name__ == '__main__':\n",
    "    N = int(input())\n",
    "    fishes = list(map(int, input().strip().split()))\n",
    "    loss = list(map(int, input().strip().split()))\n",
    "    totime = list(map(int, input().strip().split()))\n",
    "    fishes.insert(0, 0)\n",
    "    loss.insert(0, 0)\n",
    "    totime.insert(0, 0)\n",
    "    totime.insert(0, 0)\n",
    "    for i in range(2, N + 1):\n",
    "        totime[i] += totime[i - 1]\n",
    "    T = int(input())\n",
    "    d = [0 for i in range(1, N + 1)]\n",
    "    res = 0\n",
    "    for i in range(1, N + 1):\n",
    "        res = max(res, work(i, T - totime[i]))\n",
    "    print(res)\n"
   ]
  }
 ],
 "metadata": {
  "kernelspec": {
   "display_name": "Algorithm",
   "language": "python",
   "name": "python3"
  },
  "language_info": {
   "codemirror_mode": {
    "name": "ipython",
    "version": 3
   },
   "file_extension": ".py",
   "mimetype": "text/x-python",
   "name": "python",
   "nbconvert_exporter": "python",
   "pygments_lexer": "ipython3",
   "version": "3.8.0"
  }
 },
 "nbformat": 4,
 "nbformat_minor": 2
}
