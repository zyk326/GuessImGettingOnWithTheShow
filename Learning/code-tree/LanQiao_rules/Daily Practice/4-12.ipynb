{
 "cells": [
  {
   "cell_type": "code",
   "execution_count": null,
   "metadata": {},
   "outputs": [],
   "source": [
    "# 1349 修理牛棚\n",
    "M, S, C = map(int, input().split())\n",
    "\n",
    "ho = [0 for _ in range(S + 10)]\n",
    "c = C\n",
    "\n",
    "l, r = 300, -1\n",
    "while(c):\n",
    "    cow = int(input())\n",
    "    l = min(l, cow)\n",
    "    r = max(r, cow)\n",
    "    ho[cow] = 1\n",
    "    c -= 1\n",
    "\n",
    "infop = []\n",
    "infod = []\n",
    "t = 0\n",
    "for i in range(l, r + 1):\n",
    "    h = t\n",
    "    if ho[i] == 1:\n",
    "        t += 1\n",
    "    else:\n",
    "        t -= 1 \n",
    "    if h > 0 and h > t:\n",
    "        infop.append(t + 1)\n",
    "        t = -1\n",
    "    if h < 0 and h < t:\n",
    "        infod.append(t - 1)\n",
    "        t = 1\n",
    "infop.append(t)\n",
    "\n",
    "infop = sorted(infop)\n",
    "infod = sorted(infod, reverse = True)\n",
    "\n",
    "ans = 0\n",
    "for i in infop:\n",
    "    ans += i\n",
    "lenp = len(infop)\n",
    "if lenp - M > 0:\n",
    "    for j in range(0, lenp - M):\n",
    "        ans += (-infod[j])\n",
    "print(ans)"
   ]
  }
 ],
 "metadata": {
  "language_info": {
   "name": "python"
  }
 },
 "nbformat": 4,
 "nbformat_minor": 2
}
