{
 "cells": [
  {
   "cell_type": "code",
   "execution_count": 13,
   "metadata": {},
   "outputs": [
    {
     "name": "stdout",
     "output_type": "stream",
     "text": [
      "[[0, 0, 10]]\n",
      "[[2, 0, 8], [0, 5, 5]]\n",
      "[[2, 0, 8], [2, 3, 5], [2, 5, 3]]\n",
      "[[2, 0, 8], [2, 3, 5]]\n",
      "[[2, 0, 8], [0, 3, 7]]\n",
      "[[2, 0, 8], [2, 1, 7]]\n",
      "[[2, 0, 8], [0, 1, 9]]\n",
      "[[2, 0, 8], [1, 0, 9]]\n",
      "[[2, 0, 8], [1, 5, 4]]\n",
      "[[2, 0, 8], [2, 4, 4]]\n",
      "[[2, 0, 8], [0, 4, 6]]\n",
      "[[2, 0, 8], [2, 2, 6]]\n",
      "[[2, 0, 8], [0, 2, 8]]\n",
      "[[2, 0, 8]]\n",
      "5 6 7 8 9 10 "
     ]
    }
   ],
   "source": [
    "# 1355 母亲的牛奶,用bfs做\n",
    "# bfs要用到队列\n",
    "\n",
    "A, B, C = map(int, input().split())\n",
    "W = [A, B, C]\n",
    "N = 22\n",
    "m = [[[0 for i in range(N)] for j in range(N)] for k in range(N)]\n",
    "m[0][0][C] = 1\n",
    "que = [[0, 0, C]]\n",
    "\n",
    "def bfs(): \n",
    "    while(len(que) != 0):\n",
    "        t = que.pop()\n",
    "        for i in range(3):\n",
    "            for j in range(3):\n",
    "                if i != j:\n",
    "                    w = t[:]\n",
    "                    buf = min(w[i], W[j] - w[j])\n",
    "                    w[i] -= buf\n",
    "                    w[j] += buf\n",
    "                    if m[w[0]][w[1]][w[2]] == 0:\n",
    "                        m[w[0]][w[1]][w[2]] = 1\n",
    "                        que.append(w)\n",
    "\n",
    "bfs()\n",
    "\n",
    "for i in range(C + 1):\n",
    "    for j in range(B + 1):\n",
    "        if m[0][j][i] == 1:\n",
    "            print(i, end=\" \")"
   ]
  }
 ],
 "metadata": {
  "kernelspec": {
   "display_name": "Python 3",
   "language": "python",
   "name": "python3"
  },
  "language_info": {
   "codemirror_mode": {
    "name": "ipython",
    "version": 3
   },
   "file_extension": ".py",
   "mimetype": "text/x-python",
   "name": "python",
   "nbconvert_exporter": "python",
   "pygments_lexer": "ipython3",
   "version": "3.9.0"
  }
 },
 "nbformat": 4,
 "nbformat_minor": 2
}
