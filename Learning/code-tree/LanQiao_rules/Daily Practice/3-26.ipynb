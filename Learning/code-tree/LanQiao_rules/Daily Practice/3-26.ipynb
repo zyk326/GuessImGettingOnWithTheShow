{
 "cells": [
  {
   "cell_type": "code",
   "execution_count": null,
   "metadata": {},
   "outputs": [],
   "source": [
    "# 状态压缩DP\n",
    "# 731 毕业旅行问题\n",
    "n = int(input())\n",
    "N = 20\n",
    "M = 1 << N\n",
    "g = []\n",
    "for _ in range(n):\n",
    "    buf = list(map(int, input().split()))\n",
    "    g.append(buf)\n",
    "\n",
    "m = [[0x3f3f3f3f] * N for i in range(M)]\n",
    "# m = [[[0x3f3f3f3f] * (n + 1)] for i in range(n + 1)]\n",
    "\n",
    "m[1][0] = 0\n",
    "\n",
    "for i in range(1, 1 << n, 2):\n",
    "    for j in range(n):\n",
    "        if i >> j & 1:\n",
    "            for k in range(n):\n",
    "                if ((i - (1 << j)) >> k & 1):\n",
    "                    m[i][j] = min(m[i][j], m[i - (1 << j)][k] + g[k][j])\n",
    "res = 0x3f3f3f3f\n",
    "\n",
    "for i in range(1, n):\n",
    "    res = min(res, m[(1 << n) - 1][i] + g[i][0])\n",
    "\n",
    "print(res)\n"
   ]
  }
 ],
 "metadata": {
  "language_info": {
   "name": "python"
  }
 },
 "nbformat": 4,
 "nbformat_minor": 2
}
