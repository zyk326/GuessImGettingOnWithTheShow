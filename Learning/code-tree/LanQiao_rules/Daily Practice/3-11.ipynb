{
 "cells": [
  {
   "cell_type": "code",
   "execution_count": 10,
   "metadata": {},
   "outputs": [],
   "source": [
    "# 3498 日期差值\n",
    "def is_leap(y):\n",
    "    if (y % 4 == 0 and y % 100 != 0) or y % 400 == 0:\n",
    "        return 1\n",
    "    return 0\n",
    "\n",
    "def get_days(y, i):\n",
    "    if i == 2:\n",
    "        return 28 + is_leap(y)\n",
    "    return months[i]\n",
    "\n",
    "def calc(y, m, d):\n",
    "    y = int(y)\n",
    "    m = int(m)\n",
    "    d = int(d)\n",
    "    days = 0\n",
    "    for i in range(1, y):\n",
    "        days += 365 + is_leap(i)\n",
    "    for i in range(1, m):\n",
    "        days += get_days(y, i)\n",
    "    return days + d\n",
    "\n",
    "if __name__ == '__main__':\n",
    "    months = [0, 31, 28, 31, 30, 31, 30, 31, 31, 30, 31, 30, 31]\n",
    "    ans = []\n",
    "    while True:\n",
    "        try:\n",
    "            st = input()\n",
    "            ed = input()\n",
    "            res = abs(calc(st[0:4], st[4:6], st[6:8]) - calc(ed[0:4], ed[4:6], ed[6:8])) + 1 \n",
    "            ans.append(res)\n",
    "        except:\n",
    "            break\n",
    "    for i in ans:\n",
    "        print(i)\n"
   ]
  },
  {
   "cell_type": "code",
   "execution_count": 23,
   "metadata": {},
   "outputs": [
    {
     "name": "stdout",
     "output_type": "stream",
     "text": [
      "2000-01-02\n"
     ]
    }
   ],
   "source": [
    "# 1229 日期问题\n",
    "# 日期问题要枚举尽才可以\n",
    "# 坑:输出规则的坑(排序, 去重)\n",
    "def is_heap(y):\n",
    "    if y % 4 == 0 and y % 100 != 0 or y % 400 == 0:\n",
    "        return 1\n",
    "    else:\n",
    "        return 0\n",
    "\n",
    "def deal(x, y, z):\n",
    "    x1, y1, z1 = int(x), int(y), int(z)\n",
    "    if x1 >= 60 and x1 <= 99:\n",
    "        x = \"19\" + x\n",
    "    else:\n",
    "        x = \"20\" + x\n",
    "    year = int(x)\n",
    "    if y1 <= 0 or y1 > 12:\n",
    "        return \n",
    "    if z1 <= 0 or (y1 == 2 and z1 > is_heap(year) + days[y1]) or y1 != 2 and z1 > days[y1]:\n",
    "        return \n",
    "    ans.append([x, y, z])\n",
    "\n",
    "f, s, t = input().split('/')\n",
    "ans = []\n",
    "days = [0, 31, 28, 31, 30, 31, 30, 31, 31, 30, 31, 30, 31]\n",
    "deal(f, s, t)\n",
    "deal(t, f, s)\n",
    "deal(t, s, f)\n",
    "ans = sorted(ans, key = lambda k : (k[0], k[1], k[2]))\n",
    "# print(ans)\n",
    "flag = [1, 1, 1]\n",
    "lens = len(ans)\n",
    "for i in range(1, lens):\n",
    "    if ans[i] == ans[i - 1]:\n",
    "        flag[i - 1] = 0\n",
    "\n",
    "for i in range(lens):\n",
    "    if flag[i] == 1:\n",
    "        print(\"%s-%s-%s\"%(ans[i][0], ans[i][1], ans[i][2]))"
   ]
  },
  {
   "cell_type": "code",
   "execution_count": 4,
   "metadata": {},
   "outputs": [
    {
     "name": "stdout",
     "output_type": "stream",
     "text": [
      "1\n"
     ]
    }
   ],
   "source": [
    "# 466 回文日期\n",
    "# 判断条件能简化就简化,简化不了想办法简化\n",
    "da1 = input()\n",
    "da2 = input()\n",
    "\n",
    "y1 = int(da1[0:4])\n",
    "y2 = int(da2[0:4])\n",
    "\n",
    "ans = 0\n",
    "mon = [0, 31, 28, 31, 30, 31, 30, 31, 31, 30, 31, 30, 31]\n",
    "\n",
    "\n",
    "def is_heap(a):\n",
    "    if a % 4 == 0 and a % 400 != 0 or a % 400 == 0:\n",
    "        return 1\n",
    "    else:\n",
    "        return 0\n",
    "\n",
    "def check(a, b):\n",
    "    chea = str(a) + b\n",
    "    chea = int(chea)\n",
    "    if chea < int(da1) or chea > int(da2):\n",
    "        return False\n",
    "    month = int(b[0:2])\n",
    "    day = int(b[2:4])\n",
    "    if month < 1 or month > 12:\n",
    "        return False\n",
    "    if day < 1 or (month == 2 and day > mon[month] + is_heap(a)) or (month != 2 and day > mon[month]):\n",
    "        return False\n",
    "    return True\n",
    "\n",
    "for i in range(y1, y2 + 1):\n",
    "    a = str(i)\n",
    "    b = a[::-1]\n",
    "    if check(i, b):\n",
    "        ans += 1\n",
    "print(ans)"
   ]
  },
  {
   "cell_type": "code",
   "execution_count": 16,
   "metadata": {},
   "outputs": [
    {
     "name": "stdout",
     "output_type": "stream",
     "text": [
      "10111101\n",
      "20200202\n"
     ]
    }
   ],
   "source": [
    "# 2867 回文日期\n",
    "mon = [0, 31, 28, 31, 30, 31, 30, 31, 31, 30, 31, 30, 31]\n",
    "\n",
    "def is_heap(a):\n",
    "    if a % 4 == 0 and a % 400 != 0 or a % 400 == 0:\n",
    "        return 1\n",
    "    else:\n",
    "        return 0\n",
    "    \n",
    "def backtext():\n",
    "    for i in range(int(year), 10000):\n",
    "        b = str(i) + str(i)[::-1]\n",
    "        a = int(b)\n",
    "        if  a > int(N) and a <= 100000000:\n",
    "            y, m, d = int(b[0:4]), int(b[4:6]), int(b[6:8])\n",
    "            if m < 1 or m > 12:\n",
    "                continue\n",
    "            if d < 1 or m == 2 and d > mon[m] + is_heap(y) or m != 2 and d > mon[m]:\n",
    "                continue\n",
    "            return b\n",
    "\n",
    "def ABAB():\n",
    "    for i in range(int(year[0:2]), 100):\n",
    "        if i // 10 != i % 10:\n",
    "            b = (str(i) + str(i) + str(i)[::-1] + str(i)[::-1])\n",
    "            a = int(b)\n",
    "            if  a > int(N) and a <= 100000000:\n",
    "                y, m, d = int(b[0:4]), int(b[4:6]), int(b[6:8])\n",
    "                if m < 1 or m > 12:\n",
    "                    continue\n",
    "                if d < 1 or m == 2 and d > mon[m] + is_heap(y) or m != 2 and m > mon[m]:\n",
    "                    continue\n",
    "                return b\n",
    "\n",
    "N = input()\n",
    "year, month, day = N[0:4], N[4:6], N[6:8]\n",
    "ans = []\n",
    "ans.append(backtext())\n",
    "ans.append(ABAB())\n",
    "for i in ans:\n",
    "    print(i)"
   ]
  },
  {
   "cell_type": "code",
   "execution_count": 30,
   "metadata": {},
   "outputs": [
    {
     "name": "stdout",
     "output_type": "stream",
     "text": [
      "2\n",
      "29\n"
     ]
    }
   ],
   "source": [
    "# 3218 日期计算\n",
    "y = int(input())\n",
    "d = int(input())\n",
    "mon = [0, 31, 28, 31, 30, 31, 30, 31, 31, 30, 31, 30, 31]\n",
    "\n",
    "i = 1\n",
    "j = 0\n",
    "\n",
    "def is_heap():\n",
    "    if y % 4 == 0 and y % 100 != 0 or y % 400 == 0:\n",
    "        return 1\n",
    "    return 0\n",
    "\n",
    "while(d > 0 and j != d):\n",
    "    if i != 2 and d - mon[i] > 0 or i == 2 and d - mon[i] - is_heap() > 0:\n",
    "        i += 1\n",
    "        d -= mon[i - 1]\n",
    "        if i == 2 and d - mon[i] - is_heap() > 0:\n",
    "            d -= is_heap()\n",
    "    else:\n",
    "        j = d \n",
    "    \n",
    "print(i)\n",
    "print(j)"
   ]
  }
 ],
 "metadata": {
  "kernelspec": {
   "display_name": "Algorithm",
   "language": "python",
   "name": "python3"
  },
  "language_info": {
   "codemirror_mode": {
    "name": "ipython",
    "version": 3
   },
   "file_extension": ".py",
   "mimetype": "text/x-python",
   "name": "python",
   "nbconvert_exporter": "python",
   "pygments_lexer": "ipython3",
   "version": "3.8.0"
  }
 },
 "nbformat": 4,
 "nbformat_minor": 2
}
