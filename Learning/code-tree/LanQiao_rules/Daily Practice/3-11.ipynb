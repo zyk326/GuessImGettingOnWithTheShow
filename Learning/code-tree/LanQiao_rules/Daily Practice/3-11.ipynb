{
 "cells": [
  {
   "cell_type": "code",
   "execution_count": 10,
   "metadata": {},
   "outputs": [],
   "source": [
    "# 3498 日期差值\n",
    "def is_leap(y):\n",
    "    if (y % 4 == 0 and y % 100 != 0) or y % 400 == 0:\n",
    "        return 1\n",
    "    return 0\n",
    "\n",
    "def get_days(y, i):\n",
    "    if i == 2:\n",
    "        return 28 + is_leap(y)\n",
    "    return months[i]\n",
    "\n",
    "def calc(y, m, d):\n",
    "    y = int(y)\n",
    "    m = int(m)\n",
    "    d = int(d)\n",
    "    days = 0\n",
    "    for i in range(1, y):\n",
    "        days += 365 + is_leap(i)\n",
    "    for i in range(1, m):\n",
    "        days += get_days(y, i)\n",
    "    return days + d\n",
    "\n",
    "if __name__ == '__main__':\n",
    "    months = [0, 31, 28, 31, 30, 31, 30, 31, 31, 30, 31, 30, 31]\n",
    "    ans = []\n",
    "    while True:\n",
    "        try:\n",
    "            st = input()\n",
    "            ed = input()\n",
    "            res = abs(calc(st[0:4], st[4:6], st[6:8]) - calc(ed[0:4], ed[4:6], ed[6:8])) + 1 \n",
    "            ans.append(res)\n",
    "        except:\n",
    "            break\n",
    "    for i in ans:\n",
    "        print(i)\n"
   ]
  }
 ],
 "metadata": {
  "kernelspec": {
   "display_name": "Algorithm",
   "language": "python",
   "name": "python3"
  },
  "language_info": {
   "codemirror_mode": {
    "name": "ipython",
    "version": 3
   },
   "file_extension": ".py",
   "mimetype": "text/x-python",
   "name": "python",
   "nbconvert_exporter": "python",
   "pygments_lexer": "ipython3",
   "version": "3.8.0"
  }
 },
 "nbformat": 4,
 "nbformat_minor": 2
}
