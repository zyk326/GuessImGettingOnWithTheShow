{
 "cells": [
  {
   "cell_type": "code",
   "execution_count": null,
   "metadata": {},
   "outputs": [],
   "source": [
    "#1413 矩形牛棚\n",
    "# 直方图中的最大矩形(先确定下边界)\n",
    "# 用单调栈求当前数左右两边第一个比它小的数\n",
    "# 栈里存下标\n",
    "\n",
    "R, C, P = map(int, input().split())\n",
    "g = [[0] * (C + 2) for _ in range(R + 2)]\n",
    "h = [[0] * (C + 2) for _ in range(R + 2)]\n",
    "\n",
    "for _ in range(P):\n",
    "    r, c = map(int, input().split())\n",
    "    g[r][c] = 1\n",
    "\n",
    "for i in range(1, R + 1):\n",
    "    for j in range(1, C + 1):\n",
    "        if g[i][j] ^ 1:\n",
    "            h[i][j] = h[i - 1][j] + 1\n",
    "\n",
    "def work(floor):\n",
    "    floor[0], floor[C + 1] = -1, -1 \n",
    "    stk = []\n",
    "    l = [0] * (C + 1)\n",
    "    r = [0] * (C + 1)\n",
    "    stk.append(0)\n",
    "    for i in range(1, C + 1):\n",
    "        while(floor[stk[-1]] >= floor[i]):\n",
    "            stk.pop()\n",
    "        l[i] = stk[-1]\n",
    "        stk.append(i)\n",
    "\n",
    "    stk = []\n",
    "    stk.append(C+ 1)\n",
    "    for i in range(C, 0, -1):\n",
    "        while(floor[stk[-1]] >= floor[i]):\n",
    "            stk.pop()\n",
    "        r[i] = stk[-1]\n",
    "        stk.append(i)\n",
    "        \n",
    "    lores = 0\n",
    "    for i in range(1, C + 1):\n",
    "        lores = max(lores, (r[i] - l[i] - 1) * floor[i])\n",
    "\n",
    "    return lores\n",
    "res = 0\n",
    "for i in range(1, R + 1):\n",
    "    res = max(res, work(h[i]))\n",
    "print(res)"
   ]
  },
  {
   "cell_type": "code",
   "execution_count": null,
   "metadata": {},
   "outputs": [],
   "source": [
    "# \n",
    "# 用滑动窗口(队列实现) 融合单调队列实现\n"
   ]
  }
 ],
 "metadata": {
  "language_info": {
   "name": "python"
  }
 },
 "nbformat": 4,
 "nbformat_minor": 2
}
