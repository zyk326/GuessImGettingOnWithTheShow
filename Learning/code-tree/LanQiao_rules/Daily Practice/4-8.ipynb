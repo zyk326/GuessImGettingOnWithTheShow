{
 "cells": [
  {
   "cell_type": "code",
   "execution_count": null,
   "metadata": {},
   "outputs": [],
   "source": [
    "# 211 计算系数\n",
    "# 两个公式 C ab = C a b-1 + C a-1 b-1 \n",
    "# (ax + by)^n = ΣCnk (ax)^n (by)^n-k\n",
    "a, b, k, n, m = map(int, input().split())\n",
    "\n",
    "C = [[0] * (n + 10) for i in range(k + 10)]\n",
    "\n",
    "mod = 10007\n",
    "\n",
    "for i in range(k + 1):\n",
    "    for j in range(n + 1):\n",
    "        if j == 0:\n",
    "            C[i][j] = 1\n",
    "        else:\n",
    "            C[i][j] = (C[i - 1][j - 1] + C[i - 1][j]) % mod\n",
    "\n",
    "res = C[k][n]\n",
    "for i in range(n):\n",
    "    res = res * a % mod\n",
    "for j in range(m):\n",
    "    res = res * b % mod\n",
    "\n",
    "print(res)"
   ]
  }
 ],
 "metadata": {
  "language_info": {
   "name": "python"
  }
 },
 "nbformat": 4,
 "nbformat_minor": 2
}
