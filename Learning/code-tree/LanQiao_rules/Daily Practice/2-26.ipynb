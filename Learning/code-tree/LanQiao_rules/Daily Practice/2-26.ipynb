{
 "cells": [
  {
   "cell_type": "code",
   "execution_count": 2,
   "metadata": {},
   "outputs": [
    {
     "name": "stdout",
     "output_type": "stream",
     "text": [
      "[[[0, 0]], [[0, 0]]]\n"
     ]
    }
   ],
   "source": [
    "# 状态压缩DP\n",
    "# 731 毕业旅行问题\n",
    "n = int(input())\n",
    "\n",
    "g = []\n",
    "for _ in range(n):\n",
    "    buf = list(map(int, input().split()))\n",
    "    g.append(buf)\n",
    "\n",
    "m = [[[0] * (n + 1)] for i in range(n + 1)]\n",
    "print(m)"
   ]
  }
 ],
 "metadata": {
  "kernelspec": {
   "display_name": "Algorithm",
   "language": "python",
   "name": "python3"
  },
  "language_info": {
   "codemirror_mode": {
    "name": "ipython",
    "version": 3
   },
   "file_extension": ".py",
   "mimetype": "text/x-python",
   "name": "python",
   "nbconvert_exporter": "python",
   "pygments_lexer": "ipython3",
   "version": "3.8.0"
  }
 },
 "nbformat": 4,
 "nbformat_minor": 2
}
