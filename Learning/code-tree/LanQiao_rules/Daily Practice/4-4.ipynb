{
 "cells": [
  {
   "cell_type": "code",
   "execution_count": null,
   "metadata": {},
   "outputs": [],
   "source": [
    "# 分解质因数 \n",
    "# 3377 约数的个数\n",
    "n = int(input())\n",
    "li = list(map(int, input().split()))\n",
    "st = 0\n",
    "ans = []\n",
    "\n",
    "def deal(a):\n",
    "    i = 1\n",
    "    res = 0\n",
    "    while(i <= a // i):\n",
    "        if a % i == 0:\n",
    "            res += 1\n",
    "            if i != a // i:\n",
    "                res += 1\n",
    "        i += 1\n",
    "    return res\n",
    "\n",
    "while(n):\n",
    "    ans.append(deal(li[st]))\n",
    "    st += 1\n",
    "    n -= 1\n",
    "\n",
    "for i in ans:\n",
    "    print(i)"
   ]
  }
 ],
 "metadata": {
  "language_info": {
   "name": "python"
  }
 },
 "nbformat": 4,
 "nbformat_minor": 2
}
