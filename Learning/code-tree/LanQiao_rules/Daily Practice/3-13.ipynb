{
 "cells": [
  {
   "cell_type": "code",
   "execution_count": 13,
   "metadata": {},
   "outputs": [
    {
     "name": "stdout",
     "output_type": "stream",
     "text": [
      "0/1\n",
      "1/4\n",
      "1/3\n",
      "1/2\n",
      "2/3\n",
      "3/4\n",
      "1/1\n"
     ]
    }
   ],
   "source": [
    "# 1360有序分数\n",
    "def gcd(i, j):\n",
    "    return i if j == 0 else gcd(j, i % j)\n",
    "\n",
    "def deal(i, j):\n",
    "    if  i != 1 and (j % i == 0 or gcd(j, i) != 1):\n",
    "        return False\n",
    "    return True\n",
    "\n",
    "if __name__ == '__main__':\n",
    "    N = int(input())\n",
    "    ans = [[0, 1]]\n",
    "    for i in range(1, N + 1):\n",
    "        for j in range(i + 1, N + 1):\n",
    "            if(deal(i, j)):\n",
    "                ans.append([i, j])\n",
    "    ans = sorted(ans, key = lambda k: k[0] / k[1])\n",
    "    ans.append([1, 1])\n",
    "    for i in ans:\n",
    "        print(\"%d/%d\"%(i[0], i[1]))"
   ]
  },
  {
   "cell_type": "markdown",
   "metadata": {},
   "source": []
  }
 ],
 "metadata": {
  "kernelspec": {
   "display_name": "Algorithm",
   "language": "python",
   "name": "python3"
  },
  "language_info": {
   "codemirror_mode": {
    "name": "ipython",
    "version": 3
   },
   "file_extension": ".py",
   "mimetype": "text/x-python",
   "name": "python",
   "nbconvert_exporter": "python",
   "pygments_lexer": "ipython3",
   "version": "3.8.0"
  }
 },
 "nbformat": 4,
 "nbformat_minor": 2
}
