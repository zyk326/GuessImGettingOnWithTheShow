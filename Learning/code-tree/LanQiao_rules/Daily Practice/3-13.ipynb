{
 "cells": [
  {
   "cell_type": "code",
   "execution_count": 13,
   "metadata": {},
   "outputs": [
    {
     "name": "stdout",
     "output_type": "stream",
     "text": [
      "0/1\n",
      "1/4\n",
      "1/3\n",
      "1/2\n",
      "2/3\n",
      "3/4\n",
      "1/1\n"
     ]
    }
   ],
   "source": [
    "# 1360有序分数\n",
    "def gcd(i, j):\n",
    "    return i if j == 0 else gcd(j, i % j)\n",
    "\n",
    "def deal(i, j):\n",
    "    if  i != 1 and (j % i == 0 or gcd(j, i) != 1):\n",
    "        return False\n",
    "    return True\n",
    "\n",
    "if __name__ == '__main__':\n",
    "    N = int(input())\n",
    "    ans = [[0, 1]]\n",
    "    for i in range(1, N + 1):\n",
    "        for j in range(i + 1, N + 1):\n",
    "            if(deal(i, j)):\n",
    "                ans.append([i, j])\n",
    "    ans = sorted(ans, key = lambda k: k[0] / k[1])\n",
    "    ans.append([1, 1])\n",
    "    for i in ans:\n",
    "        print(\"%d/%d\"%(i[0], i[1]))"
   ]
  },
  {
   "cell_type": "code",
   "execution_count": 32,
   "metadata": {},
   "outputs": [
    {
     "name": "stdout",
     "output_type": "stream",
     "text": [
      "4\n"
     ]
    }
   ],
   "source": [
    "s = input()\n",
    "k = 0\n",
    "\n",
    "def dfs():\n",
    "    global k\n",
    "    res = 0\n",
    "    while(k < len(s)):\n",
    "        if s[k] == '(':\n",
    "            k += 1\n",
    "            res += dfs()\n",
    "            k += 1\n",
    "        elif s[k] == '|':\n",
    "            k += 1\n",
    "            res = max(res, dfs())\n",
    "        elif s[k] == ')':\n",
    "            break\n",
    "        elif s[k] == 'x':\n",
    "            res += 1\n",
    "            k += 1\n",
    "        else:\n",
    "            k += 1\n",
    "    return res\n",
    "\n",
    "print(dfs())"
   ]
  },
  {
   "cell_type": "code",
   "execution_count": 2,
   "metadata": {},
   "outputs": [
    {
     "name": "stdout",
     "output_type": "stream",
     "text": [
      "11\n"
     ]
    }
   ],
   "source": [
    "# # 1209 带分数\n",
    "# # 思想是把所有的路径都枚举一边，加一个路径剪纸和一个前缀和优化计算过程,在这之前把计算公式变形\n",
    "\n",
    "d = [0] * 10\n",
    "N = 10\n",
    "ans = 0\n",
    "path = [0] * 10\n",
    "st = [0] * 10\n",
    "h = [0] * 10\n",
    "\n",
    "def count(l, r):\n",
    "    return h[r] - h[l - 1] * d[r - l + 1]\n",
    "\n",
    "def dfs(k):\n",
    "    global ans\n",
    "    if k > 9:\n",
    "        # 前缀和数组\n",
    "        for i in range(1, N):\n",
    "            h[i] = h[i - 1] * N + path[i]\n",
    "        # 一条完整的路径出来了\n",
    "        for i in range(1, 8):\n",
    "            if count(1, i) > n:\n",
    "                return\n",
    "            for j in range(i + 1, 9):\n",
    "                x = count(1, i)\n",
    "                y = count(i + 1, j)\n",
    "                z = count(j + 1, 9)\n",
    "                if x * z + y == z * n:\n",
    "                    ans += 1\n",
    "        return\n",
    "\n",
    "\n",
    "    for i in range(1, N):\n",
    "        if st[i] == 0:\n",
    "            st[i] = 1\n",
    "            path[k] = i\n",
    "            dfs(k + 1)\n",
    "            st[i] = 0\n",
    "    return\n",
    "\n",
    "n = int(input())\n",
    "d[0] = 1\n",
    "for i in range(1, N):\n",
    "    d[i] = d[i - 1] * N\n",
    "dfs(1)\n",
    "print(ans)\n",
    "\n",
    "\n"
   ]
  }
 ],
 "metadata": {
  "kernelspec": {
   "display_name": "Algorithm",
   "language": "python",
   "name": "python3"
  },
  "language_info": {
   "codemirror_mode": {
    "name": "ipython",
    "version": 3
   },
   "file_extension": ".py",
   "mimetype": "text/x-python",
   "name": "python",
   "nbconvert_exporter": "python",
   "pygments_lexer": "ipython3",
   "version": "3.8.0"
  }
 },
 "nbformat": 4,
 "nbformat_minor": 2
}
