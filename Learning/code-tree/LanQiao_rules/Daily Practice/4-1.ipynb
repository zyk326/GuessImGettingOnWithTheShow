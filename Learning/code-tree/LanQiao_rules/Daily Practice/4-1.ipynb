{
 "cells": [
  {
   "cell_type": "code",
   "execution_count": null,
   "metadata": {},
   "outputs": [],
   "source": [
    "# 树型DP\n",
    "# 3465 病毒溯源\n",
    "N = int(input())\n",
    "info = []\n",
    "\n",
    "e = [0] * (N + 10)\n",
    "ne = [0] * (N + 10)\n",
    "h = [-1] * (N + 10)\n",
    "\n",
    "idx = 0\n",
    "st = [0] * (N + 10)\n",
    "\n",
    "def add(a, b):\n",
    "    global idx\n",
    "    e[idx] = b\n",
    "    ne[idx] = h[a]\n",
    "    h[a] = idx\n",
    "    idx += 1\n",
    "\n",
    "for i in range(N):\n",
    "    buf = list(map(int, input().split()))\n",
    "    if buf[0] != 0:\n",
    "        for j in range(buf[0]):\n",
    "            st[buf[1 + j]] = 1\n",
    "            add(i, buf[1 + j])\n",
    "\n",
    "root = 0\n",
    "while(st[root]):\n",
    "    root += 1\n",
    "\n",
    "son = [0] * (N + 10)\n",
    "\n",
    "def dfs(u):\n",
    "    res = 0\n",
    "    son[u] = -1\n",
    "    i = h[u]\n",
    "    while(i != -1):\n",
    "        j = e[i]\n",
    "        d = dfs(j)\n",
    "        if d > res or d == res and j < son[u]:\n",
    "            res = d \n",
    "            son[u] = j\n",
    "        i = ne[i]\n",
    "    return res + 1\n",
    "\n",
    "ans = dfs(root)\n",
    "print(ans)\n",
    "while(root != -1):\n",
    "    print(root, end=' ')\n",
    "    root = son[root]"
   ]
  }
 ],
 "metadata": {
  "language_info": {
   "name": "python"
  }
 },
 "nbformat": 4,
 "nbformat_minor": 2
}
