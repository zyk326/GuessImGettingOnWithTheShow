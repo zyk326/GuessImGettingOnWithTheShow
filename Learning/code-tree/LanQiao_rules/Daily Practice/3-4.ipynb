{
 "cells": [
  {
   "cell_type": "code",
   "execution_count": 4,
   "metadata": {},
   "outputs": [
    {
     "name": "stdout",
     "output_type": "stream",
     "text": [
      "5\n"
     ]
    }
   ],
   "source": [
    "# 4262 空调\n",
    "if __name__ == '__main__':\n",
    "    N = int(input())\n",
    "    p = [0 for i in range(N + 2)]\n",
    "    t = [0 for i in range(N + 1)]\n",
    "    pl = list(map(int, input().strip().split()))\n",
    "    tl = list(map(int, input().strip().split()))\n",
    "    for i in range(1, N + 1):\n",
    "        p[i] = pl[i - 1]\n",
    "        t[i] = tl[i - 1]\n",
    "    for i in range(1, N + 1):\n",
    "        p[i] -= t[i]\n",
    "    for i in range(N + 1, 0, -1):\n",
    "        p[i] -= p[i - 1]\n",
    "    res = 0\n",
    "    for i in range(N + 2):\n",
    "        if p[i] > 0:\n",
    "            res += p[i]\n",
    "    print(res)"
   ]
  },
  {
   "cell_type": "code",
   "execution_count": null,
   "metadata": {},
   "outputs": [],
   "source": [
    "# 5396 棋盘\n",
    "# 差分 差分数组只与相邻的数有关,二维差分多一个与左上一个元素有关\n",
    "# 差分在+1处-1 是为了消除对后面数的影响,二维在 +1 +1 处+1 是为了消除后面-2的影响\n",
    "# 两个步骤,求前缀和数组,对前缀和数组进行差分操作\n",
    "# 差分和前缀和两个不要分开了\n",
    "n, m = map(int, input().split())\n",
    "g = [[0] * (n + 2) for j in range(n + 2)]\n",
    "while(m):\n",
    "    x1, y1, x2, y2 = map(int, input().split())\n",
    "    g[x1][y1] += 1\n",
    "    g[x1][y2 + 1] -= 1\n",
    "    g[x2 + 1][y1] -= 1\n",
    "    g[x2 + 1][y2 + 1] += 1\n",
    "    m -= 1\n",
    "\n",
    "for i in range(1, n + 1):\n",
    "    for j in range(1, n + 1):\n",
    "        g[i][j] += g[i][j - 1] + g[i - 1][j] - g[i - 1][j - 1]\n",
    "        print(g[i][j] & 1, end='')\n",
    "    print()"
   ]
  },
  {
   "cell_type": "code",
   "execution_count": null,
   "metadata": {},
   "outputs": [],
   "source": [
    "# 4655 重新排序\n",
    "# 排序不等式 (最大值乘以最大乘数 == 总体最大)\n",
    "n = int(input())\n",
    "inf = list(map(int, input().split()))\n",
    "p = sorted(inf, reverse=True)\n",
    "inf.insert(0, 0)\n",
    "for i in range(1, n + 1):\n",
    "    inf[i] += inf[i - 1]\n",
    "m = int(input())\n",
    "ans = 0\n",
    "q = [0] * (n + 2)\n",
    "while(m):\n",
    "    x, y = map(int, input().split())\n",
    "    q[x] += 1\n",
    "    q[y + 1] -= 1\n",
    "    ans += inf[y] - inf[x - 1]\n",
    "    m -= 1\n",
    "for i in range(1, n + 1):\n",
    "    q[i] += q[i - 1]\n",
    "q = sorted(q, reverse=True)\n",
    "p.append(0)\n",
    "for i in range(n + 1):\n",
    "    ans -= q[i] * p[i]\n",
    "print(-ans)"
   ]
  }
 ],
 "metadata": {
  "kernelspec": {
   "display_name": "Algorithm",
   "language": "python",
   "name": "python3"
  },
  "language_info": {
   "codemirror_mode": {
    "name": "ipython",
    "version": 3
   },
   "file_extension": ".py",
   "mimetype": "text/x-python",
   "name": "python",
   "nbconvert_exporter": "python",
   "pygments_lexer": "ipython3",
   "version": "3.8.0"
  }
 },
 "nbformat": 4,
 "nbformat_minor": 2
}
