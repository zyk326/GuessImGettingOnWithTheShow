{
 "cells": [
  {
   "cell_type": "code",
   "execution_count": 4,
   "metadata": {},
   "outputs": [
    {
     "name": "stdout",
     "output_type": "stream",
     "text": [
      "5\n"
     ]
    }
   ],
   "source": [
    "# 4262 空调\n",
    "if __name__ == '__main__':\n",
    "    N = int(input())\n",
    "    p = [0 for i in range(N + 2)]\n",
    "    t = [0 for i in range(N + 1)]\n",
    "    pl = list(map(int, input().strip().split()))\n",
    "    tl = list(map(int, input().strip().split()))\n",
    "    for i in range(1, N + 1):\n",
    "        p[i] = pl[i - 1]\n",
    "        t[i] = tl[i - 1]\n",
    "    for i in range(1, N + 1):\n",
    "        p[i] -= t[i]\n",
    "    for i in range(N + 1, 0, -1):\n",
    "        p[i] -= p[i - 1]\n",
    "    res = 0\n",
    "    for i in range(N + 2):\n",
    "        if p[i] > 0:\n",
    "            res += p[i]\n",
    "    print(res)"
   ]
  }
 ],
 "metadata": {
  "kernelspec": {
   "display_name": "Algorithm",
   "language": "python",
   "name": "python3"
  },
  "language_info": {
   "codemirror_mode": {
    "name": "ipython",
    "version": 3
   },
   "file_extension": ".py",
   "mimetype": "text/x-python",
   "name": "python",
   "nbconvert_exporter": "python",
   "pygments_lexer": "ipython3",
   "version": "3.8.0"
  }
 },
 "nbformat": 4,
 "nbformat_minor": 2
}
