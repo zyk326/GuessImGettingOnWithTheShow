{
 "cells": [
  {
   "cell_type": "code",
   "execution_count": null,
   "metadata": {},
   "outputs": [],
   "source": [
    "# 3999 最大公约数\n",
    "# 用欧几里得算法:小于一个质数x的质数有(x - 1)个\n",
    "T = int(input())\n",
    "t = T\n",
    "\n",
    "ans = []\n",
    "\n",
    "def gcd(a, m):\n",
    "    return gcd(m, a % m) if m else a\n",
    "\n",
    "def deal(q):\n",
    "    res = q\n",
    "    i = 2\n",
    "    while(i <= q // i):\n",
    "        if q % i == 0:\n",
    "            res = res / i * (i - 1)\n",
    "            while(q % i == 0):\n",
    "                q = q // i\n",
    "        i += 1\n",
    "    if q > 1:\n",
    "        res = res / q * (q - 1)\n",
    "    return res\n",
    "\n",
    "\n",
    "while(t):\n",
    "    a, m = map(int, input().split())\n",
    "    q = m // gcd(a, m)\n",
    "    ans.append(deal(q))\n",
    "    t -= 1\n",
    "for i in ans:\n",
    "    print(int(i))"
   ]
  }
 ],
 "metadata": {
  "language_info": {
   "name": "python"
  }
 },
 "nbformat": 4,
 "nbformat_minor": 2
}
