{
 "cells": [
  {
   "cell_type": "code",
   "execution_count": null,
   "metadata": {},
   "outputs": [],
   "source": [
    "# 1343 挤牛奶\n",
    "# 区间合并\n",
    "if __name__ == '__main__':\n",
    "    N = int(input)\n",
    "    inf = [[]]\n",
    "    for i in range(N):\n",
    "        inf.append(list(map(int, input().split)))\n",
    "    inf[1:] = sorted(inf[1:], key=lambda k:k[0])\n",
    "    print(inf)"
   ]
  }
 ],
 "metadata": {
  "language_info": {
   "name": "python"
  }
 },
 "nbformat": 4,
 "nbformat_minor": 2
}
