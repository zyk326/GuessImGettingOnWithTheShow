{
 "cells": [
  {
   "cell_type": "code",
   "execution_count": null,
   "metadata": {},
   "outputs": [],
   "source": [
    "# 1343 挤牛奶\n",
    "# 区间合并\n",
    "# 思路维护一个连续区间的左端点和右端点\n",
    "# 按左端点排序,查看一个新区间的时候,更新连续区间的左, 右端点\n",
    "if __name__ == '__main__':\n",
    "    N = int(input())\n",
    "    inf = []\n",
    "    for i in range(N):\n",
    "        inf.append(list(map(int, input().split())))\n",
    "    inf = sorted(inf, key=lambda k:k[0]) # 区间排序,区间覆盖\n",
    "    l = inf[0][0] # 最左\n",
    "    res1, res2 = 0, 0\n",
    "    mr = inf[0][1] # 最右端点\n",
    "    for i in range(1, N):\n",
    "        if inf[i][0] <= mr: # 加等于是为了算第一个区间值, 否则需要初始化\n",
    "            mr = max(mr, inf[i][1])\n",
    "        else: # 算距离,第一个元素的右端点不能在第一个区间的左端点右边,所以初始化的时候需要把填充端点的右端点无限往右拉\n",
    "            res1 = max(res1, mr - l)\n",
    "            res2 = max(res2, inf[i][0] - mr)\n",
    "            l = inf[i][0]\n",
    "            mr = inf[i][1]\n",
    "    res1 = max(res1, mr - l) # 最后一个区间初始化\n",
    "    print(\"%d %d\"%(res1, res2))"
   ]
  },
  {
   "cell_type": "code",
   "execution_count": 2,
   "metadata": {},
   "outputs": [
    {
     "name": "stdout",
     "output_type": "stream",
     "text": [
      "298\n"
     ]
    }
   ],
   "source": [
    "# 422 校门外的树\n",
    "L, M = list(map(int, input().split()))\n",
    "move = []\n",
    "for i in range(M):\n",
    "    l, r = list(map(int, input().split()))\n",
    "    move.append([l, r])\n",
    "move = sorted(move, key = lambda k : k[0])\n",
    "l = move[0][0]\n",
    "r = move[0][1]\n",
    "ans = l\n",
    "for i in range(1, M):\n",
    "    if move[i][0] <= r:\n",
    "        r = max(r, move[i][1])\n",
    "    else:\n",
    "        ans += max(0, move[i][0] - r - 1)\n",
    "        r = move[i][1]\n",
    "ans += L - r\n",
    "print(ans)"
   ]
  },
  {
   "cell_type": "code",
   "execution_count": null,
   "metadata": {},
   "outputs": [],
   "source": [
    "# 5407 管道\n",
    "n, len = list(map(int, input().split()))\n",
    "LS = []\n",
    "for i in range(n):\n",
    "    LS.append(list(map(int, input().split())))\n",
    "print(LS)"
   ]
  }
 ],
 "metadata": {
  "kernelspec": {
   "display_name": "Algorithm",
   "language": "python",
   "name": "python3"
  },
  "language_info": {
   "codemirror_mode": {
    "name": "ipython",
    "version": 3
   },
   "file_extension": ".py",
   "mimetype": "text/x-python",
   "name": "python",
   "nbconvert_exporter": "python",
   "pygments_lexer": "ipython3",
   "version": "3.8.0"
  }
 },
 "nbformat": 4,
 "nbformat_minor": 2
}
