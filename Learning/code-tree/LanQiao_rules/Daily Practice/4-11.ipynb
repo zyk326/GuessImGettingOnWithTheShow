{
 "cells": [
  {
   "cell_type": "code",
   "execution_count": null,
   "metadata": {},
   "outputs": [],
   "source": [
    "# 1375 奶牛回家\n",
    "# 注意几个点:地图初始化要把距离变成无穷大,dt数组初始化要无穷大,无向图两个边都要赋值\n",
    "# dijktra的板子是一个循环套两个循环,分别是0~n-1 1~n 1~n n是节点数量\n",
    "P = int(input())\n",
    "p = P\n",
    "N = 60 # >= 26 * 2\n",
    "\n",
    "def get(x):\n",
    "    if ord(x) <= ord(\"Z\"):\n",
    "        return ord(x) - ord(\"A\") + 1\n",
    "    else:\n",
    "        return ord(x) - ord(\"a\") + 27\n",
    "\n",
    "g = [[float(\"inf\") for _ in range(N)] for _ in range(N)]\n",
    "while(p):\n",
    "    a, b, c = input().split()\n",
    "    a = get(a)\n",
    "    b = get(b)\n",
    "    g[a][b] = min(g[a][b], int(c))\n",
    "    g[b][a] = min(g[b][a], int(c))\n",
    "    p -= 1\n",
    "\n",
    "st = [0 for _ in range(N)]\n",
    "dt = [float(\"inf\") for _ in range(N)]\n",
    "n = 52\n",
    "def dijkstra():\n",
    "    dt[26] = 0\n",
    "    for i in range(n - 1):\n",
    "        t = -1\n",
    "        for j in range(1, n + 1):\n",
    "            if st[j] == 0 and (t == -1 or dt[t] > dt[j]):\n",
    "                t = j\n",
    "        st[t] = 1\n",
    "        for j in range(1, n + 1):\n",
    "            dt[j] = min(dt[j], dt[t] + g[t][j])\n",
    "\n",
    "dijkstra()\n",
    "\n",
    "res = 1\n",
    "for i in range(2, 26):\n",
    "    if dt[i] < dt[res]:\n",
    "        res = i\n",
    "print(chr(ord(\"A\") + res - 1), dt[res])"
   ]
  }
 ],
 "metadata": {
  "language_info": {
   "name": "python"
  }
 },
 "nbformat": 4,
 "nbformat_minor": 2
}
