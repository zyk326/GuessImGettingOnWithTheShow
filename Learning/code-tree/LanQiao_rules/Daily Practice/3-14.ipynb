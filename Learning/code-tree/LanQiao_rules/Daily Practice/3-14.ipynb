{
 "cells": [
  {
   "cell_type": "code",
   "execution_count": 1,
   "metadata": {},
   "outputs": [
    {
     "ename": "ValueError",
     "evalue": "not enough values to unpack (expected 2, got 0)",
     "output_type": "error",
     "traceback": [
      "\u001b[1;31m---------------------------------------------------------------------------\u001b[0m",
      "\u001b[1;31mValueError\u001b[0m                                Traceback (most recent call last)",
      "Cell \u001b[1;32mIn[1], line 13\u001b[0m\n\u001b[0;32m     10\u001b[0m         \u001b[38;5;28;01mif\u001b[39;00m ii \u001b[38;5;241m>\u001b[39m\u001b[38;5;241m=\u001b[39m\u001b[38;5;241m0\u001b[39m \u001b[38;5;129;01mand\u001b[39;00m ii \u001b[38;5;241m<\u001b[39m N \u001b[38;5;129;01mand\u001b[39;00m jj \u001b[38;5;241m>\u001b[39m\u001b[38;5;241m=\u001b[39m\u001b[38;5;241m0\u001b[39m \u001b[38;5;129;01mand\u001b[39;00m jj \u001b[38;5;241m<\u001b[39m M \u001b[38;5;129;01mand\u001b[39;00m g[ii][jj] \u001b[38;5;241m==\u001b[39m \u001b[38;5;124m'\u001b[39m\u001b[38;5;124mX\u001b[39m\u001b[38;5;124m'\u001b[39m:\n\u001b[0;32m     11\u001b[0m             dfs(ii, jj, k)\n\u001b[1;32m---> 13\u001b[0m N, M \u001b[38;5;241m=\u001b[39m \u001b[38;5;28mmap\u001b[39m(\u001b[38;5;28mint\u001b[39m, \u001b[38;5;28minput\u001b[39m()\u001b[38;5;241m.\u001b[39msplit())\n\u001b[0;32m     14\u001b[0m g \u001b[38;5;241m=\u001b[39m []\n\u001b[0;32m     15\u001b[0m pos \u001b[38;5;241m=\u001b[39m [[], []]\n",
      "\u001b[1;31mValueError\u001b[0m: not enough values to unpack (expected 2, got 0)"
     ]
    }
   ],
   "source": [
    "# 2060 奶牛选美\n",
    "# DFS,等于找两个连通块间的距离,枚举每一个块一中的点到另一个块的每一个点的最小距离\n",
    "import sys\n",
    "sys.setrecursionlimit(100000)# 增加栈深度,以免爆栈\n",
    "def dfs(i, j, k):\n",
    "    g[i][j] = '.'\n",
    "    pos[k].append([i, j])\n",
    "    for a in range(4):\n",
    "        ii, jj = i + px[a], j + py[a]\n",
    "        if ii >=0 and ii < N and jj >=0 and jj < M and g[ii][jj] == 'X':\n",
    "            dfs(ii, jj, k)\n",
    "\n",
    "N, M = map(int, input().split())\n",
    "g = []\n",
    "pos = [[], []]\n",
    "px, py = [-1, 0, 1, 0], [0, 1, 0, -1]\n",
    "for i in range(N):\n",
    "    g.append(list(input()))\n",
    "\n",
    "cnt = 0\n",
    "res = 110\n",
    "for i in range(N):\n",
    "    for j in range(M):\n",
    "        if g[i][j] == 'X':\n",
    "            dfs(i, j, cnt)\n",
    "            cnt += 1\n",
    "for i in pos[0]:\n",
    "    for j in pos[1]:\n",
    "        res = min(res, abs(i[0] - j[0]) + abs(i[1] - j[1]))\n",
    "print(res - 1)"
   ]
  },
  {
   "cell_type": "code",
   "execution_count": 4,
   "metadata": {},
   "outputs": [
    {
     "ename": "ValueError",
     "evalue": "invalid literal for int() with base 10: ''",
     "output_type": "error",
     "traceback": [
      "\u001b[1;31m---------------------------------------------------------------------------\u001b[0m",
      "\u001b[1;31mValueError\u001b[0m                                Traceback (most recent call last)",
      "Cell \u001b[1;32mIn[4], line 2\u001b[0m\n\u001b[0;32m      1\u001b[0m \u001b[38;5;66;03m# 1207 大臣的旅费\u001b[39;00m\n\u001b[1;32m----> 2\u001b[0m n \u001b[38;5;241m=\u001b[39m \u001b[38;5;28;43mint\u001b[39;49m\u001b[43m(\u001b[49m\u001b[38;5;28;43minput\u001b[39;49m\u001b[43m(\u001b[49m\u001b[43m)\u001b[49m\u001b[43m)\u001b[49m\n\u001b[0;32m      3\u001b[0m N \u001b[38;5;241m=\u001b[39m \u001b[38;5;241m100100\u001b[39m\n\u001b[0;32m      4\u001b[0m h \u001b[38;5;241m=\u001b[39m [\u001b[38;5;241m-\u001b[39m\u001b[38;5;241m1\u001b[39m] \u001b[38;5;241m*\u001b[39m N\n",
      "\u001b[1;31mValueError\u001b[0m: invalid literal for int() with base 10: ''"
     ]
    }
   ],
   "source": [
    "# 1207 大臣的旅费\n",
    "n = int(input())\n",
    "N = 100100 * 2\n",
    "h = [-1] * N\n",
    "e = [0] * N\n",
    "ne = [0] * N\n",
    "w = [0] * N\n",
    "idx = 0\n",
    "\n",
    "def add(a, b, c):\n",
    "    global idx\n",
    "    e[idx] = b\n",
    "    w[idx] = c\n",
    "    ne[idx] = h[a]\n",
    "    h[a] = idx\n",
    "    idx += 1\n",
    "\n",
    "for i in range(n - 1):\n",
    "    a, b, c = map(int, input().split())\n",
    "    add(a, b, c)\n",
    "    add(b, a, c)\n",
    "\n",
    "def dfs(u, father, dis):\n",
    "    dist[u] = dis\n",
    "    i = h[u]\n",
    "    while(i != -1):\n",
    "        if e[i] != father:\n",
    "            dfs(e[i], u, dis + w[i])\n",
    "        i = ne[i]\n",
    "\n",
    "dist = [0] * N\n",
    "u = 1\n",
    "dfs(u, -1, 0)\n",
    "for i in range(1, n + 1):\n",
    "    if dist[i] > dist[u]:\n",
    "        u = i\n",
    "dfs(u, -1, 0)\n",
    "for i in range(1, n + 1):\n",
    "    if dist[i] > dist[u]:\n",
    "        u = i\n",
    "s = dist[u]\n",
    "print(10 * s + (s + 1) * s // 2)"
   ]
  }
 ],
 "metadata": {
  "kernelspec": {
   "display_name": "Algorithm",
   "language": "python",
   "name": "python3"
  },
  "language_info": {
   "codemirror_mode": {
    "name": "ipython",
    "version": 3
   },
   "file_extension": ".py",
   "mimetype": "text/x-python",
   "name": "python",
   "nbconvert_exporter": "python",
   "pygments_lexer": "ipython3",
   "version": "3.8.0"
  }
 },
 "nbformat": 4,
 "nbformat_minor": 2
}
