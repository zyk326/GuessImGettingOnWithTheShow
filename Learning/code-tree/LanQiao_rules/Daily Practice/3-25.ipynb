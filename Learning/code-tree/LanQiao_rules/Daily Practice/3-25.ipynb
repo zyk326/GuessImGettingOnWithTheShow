{
 "cells": [
  {
   "cell_type": "code",
   "execution_count": 3,
   "metadata": {},
   "outputs": [
    {
     "name": "stdout",
     "output_type": "stream",
     "text": [
      "8\n"
     ]
    }
   ],
   "source": [
    "# 树状数组 树状数组的空间要开两倍的x轴上限值\n",
    "# 1265 数星星\n",
    "\n",
    "N = 15010\n",
    "M = 32010\n",
    "tr = [0] * M\n",
    "\n",
    "def lowbit(x):\n",
    "    return x & -x\n",
    "\n",
    "def add(x, v):\n",
    "    i = x\n",
    "    while(i <= M):\n",
    "        tr[i] += v\n",
    "        i += lowbit(i)\n",
    "\n",
    "def query(x):\n",
    "    res = 0\n",
    "    i = x\n",
    "    while(i > 0):\n",
    "        res += tr[i]\n",
    "        i -= lowbit(i)\n",
    "    return res\n",
    "\n",
    "n = int(input())\n",
    "ans = [0] * (n + 10)\n",
    "for _ in range(n):\n",
    "    x, y = map(int, input().split())\n",
    "    x += 1\n",
    "    ans[query(x)] += 1\n",
    "    add(x, 1)\n",
    "for i in range(n):\n",
    "    print(ans[i])"
   ]
  }
 ],
 "metadata": {
  "kernelspec": {
   "display_name": "Algorithm",
   "language": "python",
   "name": "python3"
  },
  "language_info": {
   "codemirror_mode": {
    "name": "ipython",
    "version": 3
   },
   "file_extension": ".py",
   "mimetype": "text/x-python",
   "name": "python",
   "nbconvert_exporter": "python",
   "pygments_lexer": "ipython3",
   "version": "3.8.0"
  }
 },
 "nbformat": 4,
 "nbformat_minor": 2
}
