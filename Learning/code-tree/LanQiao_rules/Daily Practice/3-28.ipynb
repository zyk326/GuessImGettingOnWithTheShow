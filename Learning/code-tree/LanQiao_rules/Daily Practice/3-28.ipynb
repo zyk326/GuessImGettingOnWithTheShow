{
 "cells": [
  {
   "cell_type": "code",
   "execution_count": null,
   "metadata": {},
   "outputs": [],
   "source": [
    "# 背包问题\n",
    "# 1371 货币系统\n",
    "V, N = map(int, input().split())\n",
    "le = 0\n",
    "li = []\n",
    "while(le < V):\n",
    "    buf = list(map(int, input().split()))\n",
    "    li += buf\n",
    "    le += len(buf)\n",
    "li.insert(0, 0)\n",
    "\n",
    "g = [[0 for _ in range(N + 10)] for _ in range(V + 10)]\n",
    "\n",
    "g[0][0] = 1\n",
    "\n",
    "for i in range(1, V + 1):\n",
    "    for j in range(N + 1):\n",
    "        g[i][j] = g[i - 1][j]\n",
    "        if j >= li[i]:\n",
    "            g[i][j] += g[i][j - li[i]]\n",
    "print(g[V][N])"
   ]
  }
 ],
 "metadata": {
  "language_info": {
   "name": "python"
  }
 },
 "nbformat": 4,
 "nbformat_minor": 2
}
