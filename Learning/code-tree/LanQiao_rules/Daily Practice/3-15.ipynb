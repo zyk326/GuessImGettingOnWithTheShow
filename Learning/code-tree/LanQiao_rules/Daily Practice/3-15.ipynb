{
 "cells": [
  {
   "cell_type": "code",
   "execution_count": 1,
   "metadata": {},
   "outputs": [
    {
     "name": "stdout",
     "output_type": "stream",
     "text": [
      "6\n"
     ]
    }
   ],
   "source": [
    "N = 70\n",
    "n = int(input())\n",
    "w = [0] * N\n",
    "st = [0] * N\n",
    "sum, len = 0, 0\n",
    "ans = []\n",
    "\n",
    "def dfs(u, cur, start):\n",
    "    if u * len == sum:\n",
    "        return True\n",
    "    if cur == len:\n",
    "        return dfs(u + 1, 0, 0)\n",
    "    for i in range(start, n):\n",
    "        if st[i] == 1:\n",
    "            continue\n",
    "        if cur + w[i] <= len:\n",
    "            st[i] = 1\n",
    "            if dfs(u, cur + w[i], i + 1):\n",
    "                return True\n",
    "            st[i] = 0\n",
    "        if cur == 0 or cur + w[i] == len:\n",
    "            return False\n",
    "        j = i + 1\n",
    "        while( j < n and w[i] == w[j]):\n",
    "            j += 1\n",
    "        i = j - 1\n",
    "    return False\n",
    "while(n != 0):\n",
    "    sum, len = 0, 0\n",
    "    w = list(map(int, input().split()))\n",
    "    for i in range(n):\n",
    "        sum += w[i]\n",
    "        len = max(len, w[i])\n",
    "    w = sorted(w, reverse = True)\n",
    "    st = [0] * N\n",
    "    while(True):\n",
    "        if sum % len == 0 and dfs(0, 0, 0):# 当前第几根木棍,长度0, 下标0\n",
    "            ans.append(len)\n",
    "            break\n",
    "        else:\n",
    "            len += 1\n",
    "    n = int(input())\n",
    "for i in ans:\n",
    "    print(i)"
   ]
  },
  {
   "cell_type": "code",
   "execution_count": null,
   "metadata": {},
   "outputs": [],
   "source": []
  }
 ],
 "metadata": {
  "kernelspec": {
   "display_name": "Algorithm",
   "language": "python",
   "name": "python3"
  },
  "language_info": {
   "codemirror_mode": {
    "name": "ipython",
    "version": 3
   },
   "file_extension": ".py",
   "mimetype": "text/x-python",
   "name": "python",
   "nbconvert_exporter": "python",
   "pygments_lexer": "ipython3",
   "version": "3.8.0"
  }
 },
 "nbformat": 4,
 "nbformat_minor": 2
}
