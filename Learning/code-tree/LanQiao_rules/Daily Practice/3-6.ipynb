{
 "cells": [
  {
   "cell_type": "code",
   "execution_count": 2,
   "metadata": {},
   "outputs": [
    {
     "ename": "TypeError",
     "evalue": "'int' object is not iterable",
     "output_type": "error",
     "traceback": [
      "\u001b[1;31m---------------------------------------------------------------------------\u001b[0m",
      "\u001b[1;31mTypeError\u001b[0m                                 Traceback (most recent call last)",
      "Cell \u001b[1;32mIn[2], line 49\u001b[0m\n\u001b[0;32m     47\u001b[0m c \u001b[38;5;241m=\u001b[39m [\u001b[38;5;241m0\u001b[39m \u001b[38;5;28;01mfor\u001b[39;00m i \u001b[38;5;129;01min\u001b[39;00m \u001b[38;5;28mrange\u001b[39m(N)]\n\u001b[0;32m     48\u001b[0m p \u001b[38;5;241m=\u001b[39m [\u001b[38;5;241m0\u001b[39m \u001b[38;5;28;01mfor\u001b[39;00m i \u001b[38;5;129;01min\u001b[39;00m \u001b[38;5;28mrange\u001b[39m(N)]\n\u001b[1;32m---> 49\u001b[0m \u001b[43mwork\u001b[49m\u001b[43m(\u001b[49m\u001b[43ma\u001b[49m\u001b[43m)\u001b[49m\n\u001b[0;32m     50\u001b[0m work(b)\n\u001b[0;32m     51\u001b[0m \u001b[38;5;28;01mfor\u001b[39;00m i \u001b[38;5;129;01min\u001b[39;00m \u001b[38;5;28mrange\u001b[39m(\u001b[38;5;241m1\u001b[39m, n \u001b[38;5;241m+\u001b[39m \u001b[38;5;241m1\u001b[39m):\n",
      "Cell \u001b[1;32mIn[2], line 6\u001b[0m, in \u001b[0;36mwork\u001b[1;34m(a)\u001b[0m\n\u001b[0;32m      4\u001b[0m i \u001b[38;5;241m=\u001b[39m \u001b[38;5;241m1\u001b[39m\n\u001b[0;32m      5\u001b[0m \u001b[38;5;28;01mfor\u001b[39;00m deal \u001b[38;5;129;01min\u001b[39;00m a:\n\u001b[1;32m----> 6\u001b[0m     a[i] \u001b[38;5;241m=\u001b[39m \u001b[38;5;28;43mlist\u001b[39;49m\u001b[43m(\u001b[49m\u001b[43mdeal\u001b[49m\u001b[43m)\u001b[49m\u001b[38;5;241m.\u001b[39mappend(i)\n\u001b[0;32m      7\u001b[0m     i \u001b[38;5;241m+\u001b[39m\u001b[38;5;241m=\u001b[39m \u001b[38;5;241m1\u001b[39m\n\u001b[0;32m      8\u001b[0m \u001b[38;5;28msorted\u001b[39m(a, key \u001b[38;5;241m=\u001b[39m \u001b[38;5;28;01mlambda\u001b[39;00m k:k[\u001b[38;5;241m0\u001b[39m])\n",
      "\u001b[1;31mTypeError\u001b[0m: 'int' object is not iterable"
     ]
    }
   ],
   "source": [
    "# 火柴排队 归并排序\n",
    "# 把序列变有序需要交换的次数是序列中逆序对的个数\n",
    "# 求逆序对用归并排序\n",
    "# 对数值加减后取模不要用+= or -=\n",
    "def work(a):\n",
    "    buf = [[]]\n",
    "    for i in range(1, n + 1):\n",
    "        bufs = [a[i]]\n",
    "        bufs.append(i)\n",
    "        buf.append(bufs)\n",
    "    buf[1:] = sorted(buf[1:], key = lambda k:k[0])\n",
    "    for i in range(1, n + 1):\n",
    "        a[buf[i][1]] = i\n",
    "\n",
    "def merge_res(l, r):\n",
    "    if l >= r:\n",
    "        return 0\n",
    "    mid = (l + r) >> 1\n",
    "    res = (merge_res(l, mid) + merge_res(mid + 1, r)) % mod\n",
    "    i, j, k = l, mid + 1, 0\n",
    "    while(i <= mid and j <= r):\n",
    "        if b[i] < b[j]:\n",
    "            p[k] = b[i]\n",
    "            k += 1\n",
    "            i += 1\n",
    "        else:\n",
    "            p[k] = b[j]\n",
    "            k += 1\n",
    "            j += 1\n",
    "            res = (res + mid - i + 1) % mod\n",
    "    while(i <= mid):\n",
    "        p[k] = b[i]\n",
    "        k += 1\n",
    "        i += 1\n",
    "    while(j <= r):\n",
    "        p[k] = b[j]\n",
    "        k += 1\n",
    "        j += 1\n",
    "    b[l:l + k] = p[:k]\n",
    "    return res\n",
    "\n",
    "if __name__ == '__main__':\n",
    "    n = int(input())\n",
    "    a = list(map(int, input().strip().split()))\n",
    "    b = list(map(int, input().strip().split()))\n",
    "    a.insert(0, 0)\n",
    "    b.insert(0, 0)\n",
    "    N = 100010\n",
    "    mod = 99999997\n",
    "    c = [0 for i in range(N)]\n",
    "    p = [0 for i in range(N)]\n",
    "    work(a)\n",
    "    work(b)\n",
    "    for i in range(1, n + 1):\n",
    "        c[a[i]] = i\n",
    "    for i in range(1, n + 1):\n",
    "        b[i] = c[b[i]]\n",
    "    res = merge_res(1, n)\n",
    "    print(res)"
   ]
  }
 ],
 "metadata": {
  "kernelspec": {
   "display_name": "Algorithm",
   "language": "python",
   "name": "python3"
  },
  "language_info": {
   "codemirror_mode": {
    "name": "ipython",
    "version": 3
   },
   "file_extension": ".py",
   "mimetype": "text/x-python",
   "name": "python",
   "nbconvert_exporter": "python",
   "pygments_lexer": "ipython3",
   "version": "3.8.0"
  }
 },
 "nbformat": 4,
 "nbformat_minor": 2
}
