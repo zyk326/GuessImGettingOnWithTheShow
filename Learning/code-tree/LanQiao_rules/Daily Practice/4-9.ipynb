{
 "cells": [
  {
   "cell_type": "code",
   "execution_count": null,
   "metadata": {},
   "outputs": [],
   "source": [
    "# 4009 收集卡牌\n",
    "# 重要的是手推公式\n",
    "n, m = map(int, input().split())\n",
    "\n",
    "P = list(map(float, input().split()))\n",
    "\n",
    "k = [[-1.0 for _ in range((n + 1) * (m + 1))] for _ in range(1 << n)]\n",
    "\n",
    "def dp(state, coins, r):\n",
    "    v = k[state][coins]\n",
    "    if v >= 0:\n",
    "        return v\n",
    "    if coins >= r * m:\n",
    "        k[state][coins] = 0\n",
    "        return 0\n",
    "    k[state][coins] = 0\n",
    "    for i in range(n):\n",
    "        if state >> i & 1:\n",
    "            k[state][coins] += P[i] * (dp(state, coins + 1, r) + 1)\n",
    "        else:\n",
    "            k[state][coins] += P[i] * (dp(state | 1 << i, coins, r - 1) + 1)\n",
    "    return k[state][coins]\n",
    "\n",
    "print(dp(0, 0, n))"
   ]
  }
 ],
 "metadata": {
  "language_info": {
   "name": "python"
  }
 },
 "nbformat": 4,
 "nbformat_minor": 2
}
