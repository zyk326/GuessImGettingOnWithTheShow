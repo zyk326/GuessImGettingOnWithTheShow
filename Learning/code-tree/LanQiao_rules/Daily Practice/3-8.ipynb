{
 "cells": [
  {
   "cell_type": "code",
   "execution_count": 7,
   "metadata": {},
   "outputs": [
    {
     "name": "stdout",
     "output_type": "stream",
     "text": [
      " GHGHG\n",
      "3\n"
     ]
    }
   ],
   "source": [
    "# 4261 孤独的照片\n",
    "# 贡献法 数学思想 换一个枚举的角度\n",
    "if __name__ == '__main__':\n",
    "    N = int(input())\n",
    "    cows = input()\n",
    "    cows = \" \" + cows\n",
    "    l = [0 for i in range(N + 1)]\n",
    "    r = [0 for i in range(N + 1)]\n",
    "    sg, sh = 0, 0\n",
    "    for i in range(1, N + 1):\n",
    "        if cows[i] == 'G':\n",
    "            l[i] = sh\n",
    "            sg += 1\n",
    "            sh = 0\n",
    "        else:\n",
    "            l[i] = sg\n",
    "            sh += 1\n",
    "            sg = 0\n",
    "    sg, sh = 0, 0\n",
    "    for i in range(N, 0, -1):\n",
    "        if cows[i] == 'G':\n",
    "            r[i] = sh\n",
    "            sg += 1\n",
    "            sh = 0\n",
    "        else:\n",
    "            r[i] = sg\n",
    "            sh += 1\n",
    "            sg = 0\n",
    "    res = 0\n",
    "    for i in range(1, N + 1):\n",
    "        res += l[i] * r[i] + max(0, l[i] - 1) + max(0, r[i] - 1)\n",
    "    print(res)"
   ]
  }
 ],
 "metadata": {
  "kernelspec": {
   "display_name": "Algorithm",
   "language": "python",
   "name": "python3"
  },
  "language_info": {
   "codemirror_mode": {
    "name": "ipython",
    "version": 3
   },
   "file_extension": ".py",
   "mimetype": "text/x-python",
   "name": "python",
   "nbconvert_exporter": "python",
   "pygments_lexer": "ipython3",
   "version": "3.8.0"
  }
 },
 "nbformat": 4,
 "nbformat_minor": 2
}
