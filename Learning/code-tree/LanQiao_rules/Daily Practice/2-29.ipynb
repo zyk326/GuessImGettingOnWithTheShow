{
 "cells": [
  {
   "cell_type": "code",
   "execution_count": 6,
   "metadata": {},
   "outputs": [
    {
     "name": "stdout",
     "output_type": "stream",
     "text": [
      "[0, 3, 2, 3]\n",
      "[0, 3, 2, 3]\n",
      "-1\n",
      "2\n",
      "3\n"
     ]
    }
   ],
   "source": [
    "# 503 借教室\n",
    "# 不可重复借教室版本\n",
    "if __name__ == '__main__':\n",
    "    n, m = input().split()\n",
    "    n = int(n)\n",
    "    m = int(m)\n",
    "    classes = []\n",
    "    form = []\n",
    "    wrong = []\n",
    "    flag = True\n",
    "\n",
    "    buf = input().strip().split()\n",
    "    classes = list(map(int, buf))\n",
    "    for i in range(m):\n",
    "        buf = input().strip().split()\n",
    "        form.append(list(map(int, buf)))\n",
    "\n",
    "    for i in range(m):\n",
    "        for j in range(form[i][1] - 1, form[i][2]):\n",
    "            if classes[j] - form[i][0] < 0:\n",
    "                flag = False\n",
    "                wrong.append(i + 1)\n",
    "                for k in range(form[i][1] - 1, j):\n",
    "                    classes[k] += form[i][0]\n",
    "                print(classes)\n",
    "                break\n",
    "            else:\n",
    "                classes[j] -= form[i][0]\n",
    "    if flag:\n",
    "        print(0)\n",
    "    else:\n",
    "        print(-1)\n",
    "        for i in range(len(wrong)):\n",
    "            print(wrong[i])"
   ]
  },
  {
   "cell_type": "code",
   "execution_count": 8,
   "metadata": {},
   "outputs": [
    {
     "name": "stdout",
     "output_type": "stream",
     "text": [
      "-1\n",
      "2\n"
     ]
    }
   ],
   "source": [
    "# 503 借教室\n",
    "# 可重复借教室版本\n",
    "if __name__ == '__main__':\n",
    "    n, m = input().split()\n",
    "    n = int(n)\n",
    "    m = int(m)\n",
    "    classes = []\n",
    "    form = []\n",
    "    wrong = []\n",
    "    flag = True\n",
    "\n",
    "    buf = input().strip().split()\n",
    "    classes = list(map(int, buf))\n",
    "    for i in range(m):\n",
    "        buf = input().strip().split()\n",
    "        form.append(list(map(int, buf)))\n",
    "\n",
    "    for i in range(m):\n",
    "        for j in range(form[i][1] - 1, form[i][2]):\n",
    "            if classes[j] - form[i][0] < 0:\n",
    "                wrong.append(i)\n",
    "                flag = False\n",
    "                break\n",
    "            \n",
    "    if flag:\n",
    "        print(0)\n",
    "    else:\n",
    "        print(-1)\n",
    "        for i in range(len(wrong)):\n",
    "            print(wrong[i])"
   ]
  },
  {
   "cell_type": "code",
   "execution_count": 5,
   "metadata": {},
   "outputs": [
    {
     "name": "stdout",
     "output_type": "stream",
     "text": [
      "-1\n",
      "2\n"
     ]
    }
   ],
   "source": [
    "def check(mid):\n",
    "    d = [0 for i in range(N)]\n",
    "    s = 0\n",
    "    for i in range(1, mid + 1):\n",
    "        a, b, c = form[i][0], form[i][1], form[i][2]\n",
    "        d[b] += a\n",
    "        d[c + 1] -= a\n",
    "    for i in range(1, n + 1):\n",
    "        s += d[i]\n",
    "        if s > classes[i]:\n",
    "            return False\n",
    "    return True\n",
    "\n",
    "if __name__ == '__main__':\n",
    "    n, m = input().split()\n",
    "    n = int(n)\n",
    "    m = int(m)\n",
    "    N = 1000010\n",
    "    form = [[0,0,0]]\n",
    "    classes = input().strip().split()\n",
    "    classes.insert(0, '0')\n",
    "    # classes = list(map(int, classes))\n",
    "    classes = [int(i) for i in classes]\n",
    "    for i in range(m):\n",
    "        buf = input().strip().split()\n",
    "        form.append(list(map(int, buf)))\n",
    "    l, r = 0, m\n",
    "    while(l < r):\n",
    "        mid = (l + r + 1) >> 1\n",
    "        if check(mid):\n",
    "            l = mid\n",
    "        else:\n",
    "            r = mid - 1\n",
    "    if r == m:\n",
    "        print(0)\n",
    "    else:\n",
    "        print(\"-1\\n%d\"%(r + 1))"
   ]
  },
  {
   "cell_type": "code",
   "execution_count": null,
   "metadata": {},
   "outputs": [],
   "source": []
  }
 ],
 "metadata": {
  "kernelspec": {
   "display_name": "Algorithm",
   "language": "python",
   "name": "python3"
  },
  "language_info": {
   "codemirror_mode": {
    "name": "ipython",
    "version": 3
   },
   "file_extension": ".py",
   "mimetype": "text/x-python",
   "name": "python",
   "nbconvert_exporter": "python",
   "pygments_lexer": "ipython3",
   "version": "3.8.0"
  }
 },
 "nbformat": 4,
 "nbformat_minor": 2
}
