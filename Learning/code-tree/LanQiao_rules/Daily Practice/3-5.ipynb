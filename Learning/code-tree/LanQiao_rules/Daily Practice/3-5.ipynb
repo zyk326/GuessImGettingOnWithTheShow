{
 "cells": [
  {
   "cell_type": "code",
   "execution_count": 24,
   "metadata": {},
   "outputs": [
    {
     "name": "stdout",
     "output_type": "stream",
     "text": [
      "2\n"
     ]
    }
   ],
   "source": [
    "# 3745 牛的学术圈I\n",
    "if __name__ == '__main__':\n",
    "    N, L = map(int, input().split())\n",
    "    inf = [0]\n",
    "    infs = list(map(int, input().strip().split()))\n",
    "    infs = sorted(infs, reverse=True)\n",
    "    for i in range(N):\n",
    "        inf.append(int(infs[i]))\n",
    "    res = 0 \n",
    "    for i in range(1, N + 1):\n",
    "        j = N\n",
    "        while(j > 0 and inf[j] < i):\n",
    "            j -= 1\n",
    "        if inf[i] >= i - 1 and i - j <= L:\n",
    "            res = i\n",
    "    print(res)"
   ]
  }
 ],
 "metadata": {
  "kernelspec": {
   "display_name": "Algorithm",
   "language": "python",
   "name": "python3"
  },
  "language_info": {
   "codemirror_mode": {
    "name": "ipython",
    "version": 3
   },
   "file_extension": ".py",
   "mimetype": "text/x-python",
   "name": "python",
   "nbconvert_exporter": "python",
   "pygments_lexer": "ipython3",
   "version": "3.8.0"
  }
 },
 "nbformat": 4,
 "nbformat_minor": 2
}
