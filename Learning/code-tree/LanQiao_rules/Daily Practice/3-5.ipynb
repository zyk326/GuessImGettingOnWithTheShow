{
 "cells": [
  {
   "cell_type": "code",
   "execution_count": 24,
   "metadata": {},
   "outputs": [
    {
     "name": "stdout",
     "output_type": "stream",
     "text": [
      "2\n"
     ]
    }
   ],
   "source": [
    "# 3745 牛的学术圈I\n",
    "# 双指针\n",
    "if __name__ == '__main__':\n",
    "    N, L = map(int, input().split())\n",
    "    inf = [0]\n",
    "    infs = list(map(int, input().strip().split()))\n",
    "    infs = sorted(infs, reverse=True)\n",
    "    for i in range(N):\n",
    "        inf.append(int(infs[i]))\n",
    "    res = 0 \n",
    "    for i in range(1, N + 1):\n",
    "        j = N\n",
    "        while(j > 0 and inf[j] < i):\n",
    "            j -= 1\n",
    "        if inf[i] >= i - 1 and i - j <= L:\n",
    "            res = i\n",
    "    print(res)"
   ]
  },
  {
   "cell_type": "code",
   "execution_count": null,
   "metadata": {},
   "outputs": [],
   "source": [
    "# 1238 日志统计\n",
    "# 这是一个从后往前的双指针\n",
    "N, D, K = map(int, input().split())\n",
    "inf = []\n",
    "for _ in range(N):\n",
    "    inf.append(list(map(int, input().split())))\n",
    "inf = sorted(inf, key = lambda k:k[0])\n",
    "\n",
    "star = [0] * 100010\n",
    "st = [0] * 100010\n",
    "j = 0 #左延后指针\n",
    "for i in range(N):\n",
    "    t = inf[i][1]\n",
    "    star[t] += 1\n",
    "    while(inf[i][0] - inf[j][0] >= D):\n",
    "        star[inf[j][1]] -= 1  # 只过了一个时间单位，不用直接置为零\n",
    "        j += 1\n",
    "    if star[t] >= K:\n",
    "        st[t] = 1\n",
    "for i in range(100010):\n",
    "    if st[i]:\n",
    "        print(i)"
   ]
  },
  {
   "cell_type": "code",
   "execution_count": 1,
   "metadata": {},
   "outputs": [
    {
     "ename": "ValueError",
     "evalue": "not enough values to unpack (expected 3, got 0)",
     "output_type": "error",
     "traceback": [
      "\u001b[1;31m---------------------------------------------------------------------------\u001b[0m",
      "\u001b[1;31mValueError\u001b[0m                                Traceback (most recent call last)",
      "Cell \u001b[1;32mIn[1], line 2\u001b[0m\n\u001b[0;32m      1\u001b[0m \u001b[38;5;66;03m# 4405 统计子矩阵\u001b[39;00m\n\u001b[1;32m----> 2\u001b[0m N, M, K \u001b[38;5;241m=\u001b[39m \u001b[38;5;28mmap\u001b[39m(\u001b[38;5;28mint\u001b[39m, \u001b[38;5;28minput\u001b[39m())\n\u001b[0;32m      3\u001b[0m g \u001b[38;5;241m=\u001b[39m [\u001b[38;5;241m0\u001b[39m] \u001b[38;5;241m*\u001b[39m (M \u001b[38;5;241m+\u001b[39m \u001b[38;5;241m1\u001b[39m)\n\u001b[0;32m      4\u001b[0m \u001b[38;5;28;01mfor\u001b[39;00m _ \u001b[38;5;129;01min\u001b[39;00m \u001b[38;5;28mrange\u001b[39m(N):\n",
      "\u001b[1;31mValueError\u001b[0m: not enough values to unpack (expected 3, got 0)"
     ]
    }
   ],
   "source": [
    "# 4405 统计子矩阵\n",
    "N, M, K = map(int, input().split())\n",
    "n, m = N, M\n",
    "g = []\n",
    "while(N):\n",
    "    g.append(list(map(int, input().split())))\n",
    "    N -= 1\n",
    "\n",
    "g.insert(0, [0] * M)\n",
    "for i in range(1, n + 1):\n",
    "    for j in range(m):\n",
    "        g[i][j] += g[i - 1][j]\n",
    "\n",
    "ans = 0\n",
    "\n",
    "for i in range(1, n + 1):\n",
    "    for j in range(i, n + 1):\n",
    "        t = 0\n",
    "        su = 0\n",
    "        for k in range(m):\n",
    "            su += g[j][k] - g[i - 1][k]\n",
    "            while(su > K):\n",
    "                su -= g[j][t] - g[i - 1][t]\n",
    "                t += 1\n",
    "            ans += k - t + 1\n",
    "print(ans)"
   ]
  }
 ],
 "metadata": {
  "kernelspec": {
   "display_name": "Algorithm",
   "language": "python",
   "name": "python3"
  },
  "language_info": {
   "codemirror_mode": {
    "name": "ipython",
    "version": 3
   },
   "file_extension": ".py",
   "mimetype": "text/x-python",
   "name": "python",
   "nbconvert_exporter": "python",
   "pygments_lexer": "ipython3",
   "version": "3.8.0"
  }
 },
 "nbformat": 4,
 "nbformat_minor": 2
}
