{
 "cells": [
  {
   "cell_type": "code",
   "execution_count": null,
   "metadata": {},
   "outputs": [],
   "source": [
    "# 快速幂\n",
    "# 504 转圈游戏\n",
    "n, m, k, x = map(int, input().split())\n",
    "\n",
    "def qmi(x, y, k):\n",
    "    res = 1 % k\n",
    "    while(y):\n",
    "        if y & 1:\n",
    "            res = res * x % k\n",
    "        x = x * x % k \n",
    "        y >>= 1\n",
    "    return res\n",
    "\n",
    "print((x + qmi(10, k, n) * m) % n )"
   ]
  }
 ],
 "metadata": {
  "language_info": {
   "name": "python"
  }
 },
 "nbformat": 4,
 "nbformat_minor": 2
}
