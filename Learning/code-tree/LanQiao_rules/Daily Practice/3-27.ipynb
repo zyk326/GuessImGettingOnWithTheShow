{
 "cells": [
  {
   "cell_type": "code",
   "execution_count": null,
   "metadata": {},
   "outputs": [],
   "source": [
    "# 线性DP\n",
    "# 312 乌龟棋\n",
    "from memory_profiler import profile\n",
    "\n",
    "@profile\n",
    "def deal():\n",
    "    N, M = map(int, input().split())\n",
    "    m = list(map(int, input().split()))\n",
    "    t = [0] * 5\n",
    "    buf = list(map(int, input().split()))\n",
    "\n",
    "    for i in buf:\n",
    "        t[i] += 1\n",
    "\n",
    "    g = [[[[0 for _ in range(M + 10)] for _ in range(M + 10)]\n",
    "            for _ in range(M + 10)]\n",
    "            for _ in range(M + 10)]\n",
    "\n",
    "    g[0][0][0][0] = m[0]\n",
    "\n",
    "    for i in range(t[1] + 1):\n",
    "        for j in range(t[2] + 1):\n",
    "            for k in range(t[3] + 1):\n",
    "                for l in range(t[4] + 1):\n",
    "                    loc = m[i + 2 * j + 3 * k + 4 * l]\n",
    "                    if i > 0:\n",
    "                        g[i][j][k][l] = max(g[i][j][k][l], loc + g[i - 1][j][k][l])\n",
    "                    if j > 0:\n",
    "                        g[i][j][k][l] = max(g[i][j][k][l], loc + g[i][j - 1][k][l])\n",
    "                    if k > 0:\n",
    "                        g[i][j][k][l] = max(g[i][j][k][l], loc + g[i][j][k - 1][l])\n",
    "                    if l > 0:\n",
    "                        g[i][j][k][l] = max(g[i][j][k][l], loc + g[i][j][k][l - 1])\n",
    "    print(g[t[1]][t[2]][t[3]][t[4]])\n",
    "\n",
    "deal()"
   ]
  }
 ],
 "metadata": {
  "kernelspec": {
   "display_name": "Algorithm",
   "language": "python",
   "name": "python3"
  },
  "language_info": {
   "name": "python",
   "version": "3.8.0"
  }
 },
 "nbformat": 4,
 "nbformat_minor": 2
}
