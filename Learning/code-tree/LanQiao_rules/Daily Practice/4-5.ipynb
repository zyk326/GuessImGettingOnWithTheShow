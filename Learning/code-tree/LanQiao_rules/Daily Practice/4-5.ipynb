{
 "cells": [
  {
   "cell_type": "code",
   "execution_count": null,
   "metadata": {},
   "outputs": [],
   "source": [
    "# 矩阵乘法\n",
    "# 205 斐波那契\n",
    "buf = int(input())\n",
    "mod = 10000\n",
    "ans = []\n",
    "\n",
    "def mul(a, b):\n",
    "    c = [[0, 0], [0, 0]]\n",
    "    for i in range(2):\n",
    "        for j in range(2):\n",
    "            for k in range(2):\n",
    "                c[i][j] = (c[i][j] + a[i][k] * b[k][j]) % mod\n",
    "    return c\n",
    "\n",
    "def deal(x):\n",
    "    a = [[0, 1], [0, 0]]\n",
    "    f = [[0, 1], [1, 1]]\n",
    "    while(x):\n",
    "        if x & 1:\n",
    "            a = mul(a, f)\n",
    "        f = mul(f, f)\n",
    "        x >>= 1\n",
    "    return a[0][0]\n",
    "\n",
    "while(buf != -1):\n",
    "    ans.append(deal(buf))\n",
    "    buf = int(input())\n",
    "for i in ans:\n",
    "    print(i)"
   ]
  }
 ],
 "metadata": {
  "language_info": {
   "name": "python"
  }
 },
 "nbformat": 4,
 "nbformat_minor": 2
}
