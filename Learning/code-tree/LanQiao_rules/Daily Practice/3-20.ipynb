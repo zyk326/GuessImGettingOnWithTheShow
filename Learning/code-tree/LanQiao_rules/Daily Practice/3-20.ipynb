{
 "cells": [
  {
   "cell_type": "code",
   "execution_count": 1,
   "metadata": {},
   "outputs": [
    {
     "ename": "ValueError",
     "evalue": "invalid literal for int() with base 10: ''",
     "output_type": "error",
     "traceback": [
      "\u001b[1;31m---------------------------------------------------------------------------\u001b[0m",
      "\u001b[1;31mValueError\u001b[0m                                Traceback (most recent call last)",
      "Cell \u001b[1;32mIn[1], line 1\u001b[0m\n\u001b[1;32m----> 1\u001b[0m T \u001b[38;5;241m=\u001b[39m \u001b[38;5;28;43mint\u001b[39;49m\u001b[43m(\u001b[49m\u001b[38;5;28;43minput\u001b[39;49m\u001b[43m(\u001b[49m\u001b[43m)\u001b[49m\u001b[43m)\u001b[49m\n\u001b[0;32m      2\u001b[0m N \u001b[38;5;241m=\u001b[39m \u001b[38;5;241m1010\u001b[39m\n\u001b[0;32m      3\u001b[0m p \u001b[38;5;241m=\u001b[39m []\n",
      "\u001b[1;31mValueError\u001b[0m: invalid literal for int() with base 10: ''"
     ]
    }
   ],
   "source": [
    "# 528 奶酪\n",
    "# 用并查集\n",
    "T = int(input())\n",
    "N = 1010\n",
    "p = []\n",
    "ans = []\n",
    "def find(a):\n",
    "    if p[a] != a:\n",
    "        p[a] = find(p[a])\n",
    "    return p[a]\n",
    "\n",
    "while(T):\n",
    "    n, h, r = map(int, input().split())\n",
    "    inf = [[0,0,0]]\n",
    "    p = []\n",
    "    for i in range(n + 2):\n",
    "        p.append(i)\n",
    "    for i in range(1, n + 1):\n",
    "        a, b, c = map(int, input().split())\n",
    "        inf.append([a, b, c])\n",
    "        if abs(c - 0) <= r:\n",
    "            p[find(i)] = find(0)\n",
    "        if abs(c - h) <= r:\n",
    "            p[find(i)] = find(n + 1)\n",
    "\n",
    "    for i in range(1, n + 1):\n",
    "        for j in range(1, i):\n",
    "            dx = inf[i][0] - inf[j][0]\n",
    "            dy = inf[i][1] - inf[j][1]\n",
    "            dz = inf[i][2] - inf[j][2]\n",
    "            if dx * dx + dy * dy + dz * dz <= 4 * r * r:\n",
    "                p[find(i)] = find(j)\n",
    "\n",
    "    if find(0) == find(n + 1):\n",
    "        ans.append(\"Yes\")\n",
    "    else:\n",
    "        ans.append(\"No\")\n",
    "    T -= 1 \n",
    "for i in ans:\n",
    "    print(i)"
   ]
  },
  {
   "cell_type": "code",
   "execution_count": null,
   "metadata": {},
   "outputs": [],
   "source": [
    "# 2069 网络分析\n",
    "# 并查集 结尾要查找每一个节点的根节点\n",
    "n, m = map(int, input().split())\n",
    "p = [i for i in range(n + 1)]\n",
    "ans = [0 for i in range(n + 1)]\n",
    "\n",
    "def find(x):\n",
    "    if p[x] != x:\n",
    "        p[x] = find(p[x])\n",
    "    return p[x]\n",
    "\n",
    "while(m):\n",
    "    a, b, c = map(int, input().split())\n",
    "    if a == 1:\n",
    "        p[find(c)] = find(b)\n",
    "    elif a == 2:\n",
    "        t = find(b)\n",
    "        for i in range(n + 1):\n",
    "            if find(p[i]) == t:\n",
    "                ans[i] += c\n",
    "    m -= 1\n",
    "for i in range(1, n + 1):\n",
    "    print(ans[i], end = ' ')"
   ]
  }
 ],
 "metadata": {
  "kernelspec": {
   "display_name": "Python 3",
   "language": "python",
   "name": "python3"
  },
  "language_info": {
   "codemirror_mode": {
    "name": "ipython",
    "version": 3
   },
   "file_extension": ".py",
   "mimetype": "text/x-python",
   "name": "python",
   "nbconvert_exporter": "python",
   "pygments_lexer": "ipython3",
   "version": "3.9.0"
  }
 },
 "nbformat": 4,
 "nbformat_minor": 2
}
