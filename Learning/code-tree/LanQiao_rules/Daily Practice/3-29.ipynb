{
 "cells": [
  {
   "cell_type": "code",
   "execution_count": null,
   "metadata": {},
   "outputs": [],
   "source": [
    "# 区间DP\n",
    "# 1388 游戏\n",
    "N = int(input())\n",
    "g = [[0 for _ in range(N + 10)] for _ in range(N + 10)]\n",
    "\n",
    "le = 0\n",
    "num = []\n",
    "while(le < N):\n",
    "    buf = list(map(int, input().split()))\n",
    "    num += buf\n",
    "    le += len(buf)\n",
    "\n",
    "# print(num)\n",
    "\n",
    "for i in range(1, N + 1):\n",
    "    j = 0\n",
    "    while(j + i - 1 < N):\n",
    "        rig = i + j - 1\n",
    "        g[j][rig] = max(num[j] - g[j + 1][rig], num[rig] - g[j][rig - 1])\n",
    "        j += 1\n",
    "sum = 0\n",
    "\n",
    "d = g[0][N - 1]\n",
    "for i in range(N):\n",
    "    sum += num[i]\n",
    "\n",
    "print((sum + d) // 2, (sum - d) // 2)"
   ]
  }
 ],
 "metadata": {
  "language_info": {
   "name": "python"
  }
 },
 "nbformat": 4,
 "nbformat_minor": 2
}
