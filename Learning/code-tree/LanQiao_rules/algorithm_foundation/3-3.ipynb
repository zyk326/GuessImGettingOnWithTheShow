{
 "cells": [
  {
   "cell_type": "markdown",
   "metadata": {},
   "source": [
    "prime算法和kruskal算法(要用并查集),拿最小生成树的    \n",
    "核心思想是用了集合,不断往集合中加入最近的点  \n",
    "染色法(看是不是二分图(把点分为两个集合,集合内部没有边,如果存在奇数环一定不是二分图))  \n",
    "匈牙利算法,给男生匹配妹子,也是搞二分图的算法  "
   ]
  },
  {
   "cell_type": "code",
   "execution_count": 8,
   "metadata": {},
   "outputs": [
    {
     "name": "stdout",
     "output_type": "stream",
     "text": [
      "6\n"
     ]
    }
   ],
   "source": [
    "def prim():\n",
    "    res = 0\n",
    "    for i in range(n):\n",
    "        t = -1\n",
    "        for j in range(1, n + 1):\n",
    "            if(st[j] == 0 and (t == -1 or dist[t] > dist[j])):\n",
    "                t = j\n",
    "        if(i != 0 and dist[t] == M):\n",
    "            return M\n",
    "        if(i != 0):\n",
    "            res += dist[t]\n",
    "        for j in range(1, n + 1):\n",
    "            dist[j] = min(dist[j], g[t][j])\n",
    "        st[t] = 1\n",
    "    return res\n",
    "\n",
    "if __name__ == '__main__':\n",
    "    n, m = input().split()\n",
    "    n = int(n)\n",
    "    m = int(m)\n",
    "    N = 510\n",
    "    M = 10000001\n",
    "    dist = [M for i in range(N)]\n",
    "    st = [0 for i in range(N)]\n",
    "    g = [[M for i in range(N)] for i in range(N)]\n",
    "    while(m):\n",
    "        a, b, c = input().split()\n",
    "        a = int(a)\n",
    "        b = int(b)\n",
    "        c = int(c)\n",
    "        g[a][b] = min(g[a][b], c)\n",
    "        g[b][a] = g[a][b]\n",
    "        m -= 1\n",
    "    \n",
    "    t = prim()\n",
    "\n",
    "    if(t == M):\n",
    "        print(\"impossible\")\n",
    "    else:\n",
    "        print(t)\n",
    "\n"
   ]
  },
  {
   "cell_type": "code",
   "execution_count": 10,
   "metadata": {},
   "outputs": [
    {
     "name": "stdout",
     "output_type": "stream",
     "text": [
      "impossible\n"
     ]
    }
   ],
   "source": [
    "def find(x):\n",
    "    if (p[x] != x):\n",
    "        p[x] = find(p[x])\n",
    "    return p[x]\n",
    "\n",
    "if __name__ == '__main__':\n",
    "    n, m = input().split()\n",
    "    n = int(n)\n",
    "    m = int(m) \n",
    "    mm = m\n",
    "    N = 100001\n",
    "    edge = []\n",
    "    p = [0 for i in range(N)]\n",
    "    while(mm):\n",
    "        a, b, c = input().split()\n",
    "        a = int(a)\n",
    "        b = int(b)\n",
    "        c = int(c)\n",
    "        edge.append([a, b, c])\n",
    "        mm -= 1\n",
    "    edge = sorted(edge, key = lambda edge:edge[2])\n",
    "    for i in range(1, n + 1):\n",
    "        p[i] = i\n",
    "    res = 0\n",
    "    cnt = 0\n",
    "    for i in range(m):\n",
    "        aa, bb, cc = edge[i][0],edge[i][1],edge[i][2]\n",
    "        aa, bb = find(aa), find(bb)\n",
    "        if aa != bb:\n",
    "            p[aa] = bb\n",
    "            res += cc\n",
    "            cnt += 1\n",
    "    if cnt < n - 1:\n",
    "        print(\"impossible\")\n",
    "    else:\n",
    "        print(res)"
   ]
  },
  {
   "cell_type": "code",
   "execution_count": 11,
   "metadata": {},
   "outputs": [
    {
     "name": "stdout",
     "output_type": "stream",
     "text": [
      "YES\n"
     ]
    }
   ],
   "source": [
    "def dfs(u, c):\n",
    "    color[u] = c\n",
    "    i = h[u]\n",
    "    while(i != -1):\n",
    "        j = e[i]\n",
    "        if(color[j] == 0):\n",
    "            if(dfs(j, 3 - c) == 0):\n",
    "                return 0\n",
    "        elif(color[j] == c):\n",
    "            return 0\n",
    "        i = ne[i]\n",
    "    return 1\n",
    "\n",
    "def add(a, b):\n",
    "    global idx\n",
    "    e[idx] = b\n",
    "    ne[idx] = h[a]\n",
    "    h[a] = idx\n",
    "    idx += 1\n",
    "\n",
    "if __name__ == '__main__':\n",
    "    n, m = input().split()\n",
    "    n = int(n)\n",
    "    m = int(m)\n",
    "    N = 100010\n",
    "    M = 200010\n",
    "    h = [-1 for i in range(N)]\n",
    "    e = [0 for i in range(M)]\n",
    "    ne = [0 for i in range(M)]\n",
    "    idx = 0\n",
    "    color = [0 for i in range(N)]\n",
    "    while(m):\n",
    "        a, b = input().split()\n",
    "        a = int(a)\n",
    "        b = int(b)\n",
    "        add(a, b)\n",
    "        m -= 1\n",
    "    flag = 1\n",
    "    for i in range(1, n + 1):\n",
    "        if(color[i] == 0):\n",
    "            if(dfs(i, 1) == 0):\n",
    "                flag = 0\n",
    "                break\n",
    "    if flag:\n",
    "        print(\"YES\")\n",
    "    else:\n",
    "        print(\"NO\")\n"
   ]
  },
  {
   "cell_type": "code",
   "execution_count": 16,
   "metadata": {},
   "outputs": [
    {
     "name": "stdout",
     "output_type": "stream",
     "text": [
      "2\n"
     ]
    }
   ],
   "source": [
    "def find(x):\n",
    "    i = h[x]\n",
    "    while(i != -1):\n",
    "        j = e[i]\n",
    "        if(st[j] == 0):\n",
    "            st[j] = 1\n",
    "            if(match[j] == 0 or find(match[j])):\n",
    "                match[j] = x\n",
    "                return 1\n",
    "        i = ne[i]\n",
    "    return 0\n",
    "\n",
    "def add(a, b):\n",
    "    global idx\n",
    "    e[idx] = b\n",
    "    ne[idx] = h[a]\n",
    "    h[a] = idx\n",
    "    idx += 1\n",
    "\n",
    "if __name__ == '__main__':\n",
    "    n1, n2, m = input().split()\n",
    "    n1 = int(n1)\n",
    "    n2 = int(n2)\n",
    "    m = int(m)\n",
    "    N = 100010\n",
    "    M = 200010\n",
    "    h = [-1 for i in range(N)]\n",
    "    e = [0 for i in range(M)]\n",
    "    ne = [0 for i in range(M)]\n",
    "    idx = 0\n",
    "    match = [0 for i in range(N)]\n",
    "    st = [0 for i in range(N)]\n",
    "    while(m):\n",
    "        a, b = input().split()\n",
    "        a = int(a)\n",
    "        b = int(b)\n",
    "        add(a, b)\n",
    "        m -= 1\n",
    "    \n",
    "    res = 0\n",
    "    for i in range(1, n1 + 1):\n",
    "        st = [0 for i in range(N)]\n",
    "        if(find(i)):\n",
    "            res += 1\n",
    "    print(res)"
   ]
  }
 ],
 "metadata": {
  "kernelspec": {
   "display_name": "Algorithm",
   "language": "python",
   "name": "python3"
  },
  "language_info": {
   "codemirror_mode": {
    "name": "ipython",
    "version": 3
   },
   "file_extension": ".py",
   "mimetype": "text/x-python",
   "name": "python",
   "nbconvert_exporter": "python",
   "pygments_lexer": "ipython3",
   "version": "3.8.0"
  }
 },
 "nbformat": 4,
 "nbformat_minor": 2
}
