{
 "cells": [
  {
   "cell_type": "markdown",
   "metadata": {},
   "source": [
    "prime算法和kruskal算法(要用并查集),拿最小生成树的    \n",
    "核心思想是用了集合,不断往集合中加入最近的点  \n",
    "染色法(看是不是二分图(把点分为两个集合,集合内部没有边,如果存在奇数环一定不是二分图))  \n",
    "匈牙利算法,给男生匹配妹子,也是搞二分图的算法  "
   ]
  },
  {
   "cell_type": "code",
   "execution_count": null,
   "metadata": {},
   "outputs": [],
   "source": []
  }
 ],
 "metadata": {
  "kernelspec": {
   "display_name": "Algorithm",
   "language": "python",
   "name": "python3"
  },
  "language_info": {
   "name": "python",
   "version": "3.8.0"
  }
 },
 "nbformat": 4,
 "nbformat_minor": 2
}
