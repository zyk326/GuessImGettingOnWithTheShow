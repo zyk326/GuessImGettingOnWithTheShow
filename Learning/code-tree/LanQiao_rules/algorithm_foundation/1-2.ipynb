{
 "cells": [
  {
   "cell_type": "markdown",
   "metadata": {},
   "source": [
    "前缀和and区间值\n",
    "重要的是前缀和的定义和数组的写法,区间值变化对前缀和数组的影响"
   ]
  },
  {
   "cell_type": "code",
   "execution_count": 11,
   "metadata": {},
   "outputs": [
    {
     "name": "stdout",
     "output_type": "stream",
     "text": [
      "[0, 1, 3, 6, 10, 15, 21, 28, 36, 45]\n",
      "6\n"
     ]
    }
   ],
   "source": [
    "list = [1,2,3,4,5,6,7,8,9]\n",
    "S_i = [0]\n",
    "\n",
    "for i in range(1, len(list) + 1):\n",
    "    S_i.append(S_i[i - 1] + list[i - 1])\n",
    "\n",
    "print(S_i)\n",
    "\n",
    "a = int(input())\n",
    "b = int(input())\n",
    "print(S_i[b] - S_i[a - 1])"
   ]
  },
  {
   "cell_type": "code",
   "execution_count": 42,
   "metadata": {},
   "outputs": [
    {
     "name": "stdout",
     "output_type": "stream",
     "text": [
      "[1, 2, 2, 1, 2, 1]\n",
      "[1, 1, 0, -1, 1, -1]\n",
      "2\n",
      "1\n",
      "0\n",
      "[3, 1, 1, -2, 1, -2, -1]\n",
      "[3, 4, 5, 3, 4, 2]\n"
     ]
    }
   ],
   "source": [
    "lists = []\n",
    "b = [0]\n",
    "\n",
    "def insert(m, n, k):\n",
    "    b[m - 1] += k\n",
    "    if n < len(b):\n",
    "        b[n] -= k\n",
    "    else:\n",
    "        b.append(-k)\n",
    "\n",
    "i, j = [int(a) for a in input().split(' ')]\n",
    "for a in input().split(' '):\n",
    "    lists.append(int(a))\n",
    "\n",
    "print(lists)\n",
    "\n",
    "for ii in range(len(lists)):\n",
    "    if ii == 0:\n",
    "        b[ii] = lists[0]\n",
    "    else:\n",
    "        b.append(lists[ii] - lists[ii - 1])\n",
    "\n",
    "print(b)\n",
    "\n",
    "\n",
    "while(j >= 1):\n",
    "    j -= 1\n",
    "    m, n, k = [int(a) for a in input().split(' ')]\n",
    "    insert(m, n, k)\n",
    "    print(j)\n",
    "\n",
    "print(b)\n",
    "for ii in range(i):\n",
    "    if ii != 0:\n",
    "        b[ii] += b[ii - 1]\n",
    "\n",
    "print(b[:i])"
   ]
  }
 ],
 "metadata": {
  "kernelspec": {
   "display_name": "Algorithm",
   "language": "python",
   "name": "python3"
  },
  "language_info": {
   "codemirror_mode": {
    "name": "ipython",
    "version": 3
   },
   "file_extension": ".py",
   "mimetype": "text/x-python",
   "name": "python",
   "nbconvert_exporter": "python",
   "pygments_lexer": "ipython3",
   "version": "3.8.0"
  }
 },
 "nbformat": 4,
 "nbformat_minor": 2
}
