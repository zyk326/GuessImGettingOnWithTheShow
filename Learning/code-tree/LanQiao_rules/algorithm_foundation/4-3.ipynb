{
 "cells": [
  {
   "cell_type": "markdown",
   "metadata": {},
   "source": [
    "高斯消元 ×  \n",
    "卢卡斯定理:C a,b = C a mod p,b mod p * C a/p,b/p  \n",
    "卡特兰数  \n"
   ]
  },
  {
   "cell_type": "code",
   "execution_count": 7,
   "metadata": {},
   "outputs": [
    {
     "name": "stdout",
     "output_type": "stream",
     "text": [
      "5\n"
     ]
    }
   ],
   "source": [
    "def qmi(a, b, mod):\n",
    "    res = 1\n",
    "    while(b):\n",
    "        if b % 2 == 1:\n",
    "            res = res * a % mod\n",
    "        a = a * a % mod\n",
    "        b >>= 1\n",
    "    return res\n",
    "\n",
    "if __name__ == '__main__':\n",
    "    n = int(input())\n",
    "    a = 2 * n\n",
    "    b = n\n",
    "    res = 1\n",
    "    modd = (int)(1e9 + 7)\n",
    "    for i in range(a, a - b, -1):\n",
    "        res = res * i % modd\n",
    "    for i in range(1, b + 1, 1):\n",
    "        res = res * qmi(i, modd - 2, modd) % modd\n",
    "\n",
    "    res = res * qmi(n + 1, modd - 2, modd) % modd\n",
    "\n",
    "    print(\"%.0d\"%res)"
   ]
  }
 ],
 "metadata": {
  "kernelspec": {
   "display_name": "Algorithm",
   "language": "python",
   "name": "python3"
  },
  "language_info": {
   "codemirror_mode": {
    "name": "ipython",
    "version": 3
   },
   "file_extension": ".py",
   "mimetype": "text/x-python",
   "name": "python",
   "nbconvert_exporter": "python",
   "pygments_lexer": "ipython3",
   "version": "3.8.0"
  }
 },
 "nbformat": 4,
 "nbformat_minor": 2
}
