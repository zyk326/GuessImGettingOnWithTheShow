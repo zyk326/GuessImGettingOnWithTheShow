{
 "cells": [
  {
   "cell_type": "markdown",
   "metadata": {},
   "source": [
    "第一节课：用python实现快速排序，归并排序，二分查找和浮点数的二分，思想是左右指针递归实现，注意边界问题；使用temp数组；mid的+1问题；精度的问题。"
   ]
  },
  {
   "cell_type": "code",
   "execution_count": 11,
   "metadata": {},
   "outputs": [
    {
     "name": "stdout",
     "output_type": "stream",
     "text": [
      "[2, 5, 1, 6, 3, 7]\n",
      "before [2, 5, 1, 6, 3, 7], after [1, 2, 3, 5, 6, 7]\n"
     ]
    }
   ],
   "source": [
    "a = [2,5,1,6,3,7]\n",
    "\n",
    "\n",
    "def quick_sort(list, l, r):\n",
    "    i, j, k = l, r, (l + r) //2\n",
    "    if l >= r:\n",
    "        return \n",
    "    while(i < j): \n",
    "        while(list[k] < list[j]):\n",
    "            j -= 1\n",
    "        while(list[k] > list[i]):\n",
    "            i += 1\n",
    "        if(i < j):\n",
    "            list[i], list[j] = list[j], list[i]\n",
    "    quick_sort(list, l, j)\n",
    "    quick_sort(list, j + 1, r)\n",
    "\n",
    "# quick_sort(a, 0, len(a) - 1)\n",
    "print(a)\n",
    "\n",
    "b = sorted(a)\n",
    "print(f\"before {a}, after {b}\")"
   ]
  }
 ],
 "metadata": {
  "kernelspec": {
   "display_name": "Python 3",
   "language": "python",
   "name": "python3"
  },
  "language_info": {
   "codemirror_mode": {
    "name": "ipython",
    "version": 3
   },
   "file_extension": ".py",
   "mimetype": "text/x-python",
   "name": "python",
   "nbconvert_exporter": "python",
   "pygments_lexer": "ipython3",
   "version": "3.8.0"
  }
 },
 "nbformat": 4,
 "nbformat_minor": 2
}
