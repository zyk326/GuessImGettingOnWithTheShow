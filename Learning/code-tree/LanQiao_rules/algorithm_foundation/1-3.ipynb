{
 "cells": [
  {
   "cell_type": "markdown",
   "metadata": {},
   "source": [
    "双指针和位运算和区间合并  \n",
    "区间合并要保持左区间有序排列"
   ]
  },
  {
   "cell_type": "code",
   "execution_count": 7,
   "metadata": {},
   "outputs": [
    {
     "name": "stdout",
     "output_type": "stream",
     "text": [
      "1\n",
      "0b1000010101100101100000111001100100001010000010111010 -2346736736575675 2\n"
     ]
    }
   ],
   "source": [
    "num = 2346736736575674\n",
    "num1 = ~num\n",
    "num2 = num&(~num + 1) # == num&(-num)\n",
    "\n",
    "print(num>>5&1)\n",
    "\n",
    "print(bin(num), num1, num2)"
   ]
  },
  {
   "cell_type": "code",
   "execution_count": 19,
   "metadata": {},
   "outputs": [
    {
     "name": "stdout",
     "output_type": "stream",
     "text": [
      "3\n"
     ]
    }
   ],
   "source": [
    "# 区间合并\n",
    "init = []\n",
    "\n",
    "def deal(list):\n",
    "    ans = []\n",
    "    sorted(list, key = lambda list:list[0])\n",
    "    st = -2e6\n",
    "    ed = -2e6\n",
    "    for li in list:\n",
    "        if(ed < li[0]):\n",
    "            if(st != -2e6):\n",
    "                ans.append([st, ed])\n",
    "            st = li[0]\n",
    "            ed = li[1]\n",
    "        else:\n",
    "            ed = max(ed, li[1])\n",
    "    if(st != -2e6):\n",
    "        ans.append([st, ed])\n",
    "    return ans\n",
    "\n",
    "if __name__ == '__main__':\n",
    "    n = int(input())\n",
    "    while(n):\n",
    "        n -= 1\n",
    "        a, b = input().split()\n",
    "        a = int(a)\n",
    "        b = int(b)\n",
    "        init.append([a, b])\n",
    "    ans = deal(init)\n",
    "    print(len(ans))\n",
    "    \n",
    "        "
   ]
  }
 ],
 "metadata": {
  "kernelspec": {
   "display_name": "Algorithm",
   "language": "python",
   "name": "python3"
  },
  "language_info": {
   "codemirror_mode": {
    "name": "ipython",
    "version": 3
   },
   "file_extension": ".py",
   "mimetype": "text/x-python",
   "name": "python",
   "nbconvert_exporter": "python",
   "pygments_lexer": "ipython3",
   "version": "3.8.0"
  }
 },
 "nbformat": 4,
 "nbformat_minor": 2
}
