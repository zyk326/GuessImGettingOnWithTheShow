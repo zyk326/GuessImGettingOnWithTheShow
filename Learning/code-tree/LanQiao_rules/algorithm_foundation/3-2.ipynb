{
 "cells": [
  {
   "cell_type": "markdown",
   "metadata": {},
   "source": [
    "Dijkstra and spfa  "
   ]
  },
  {
   "cell_type": "code",
   "execution_count": 2,
   "metadata": {},
   "outputs": [
    {
     "name": "stdout",
     "output_type": "stream",
     "text": [
      "3\n"
     ]
    }
   ],
   "source": [
    "N = 100001\n",
    "M = 101\n",
    "g = [[N for i in range(M)] for i in range(M)]\n",
    "dist = [N for i in range(M)]\n",
    "st = [0 for i in range(M)]\n",
    "\n",
    "def dijkstra():\n",
    "    dist[1] = 0\n",
    "    for i in range(n):\n",
    "        t = -1\n",
    "        for j in range(1, n + 1):\n",
    "            if(st[j] == 0 and (t == -1 or dist[t] > dist[j])):\n",
    "                t = j\n",
    "\n",
    "        st[t] = 1\n",
    "\n",
    "        for j in range(1, n + 1):\n",
    "            dist[j] = min(dist[j], dist[t] + g[t][j])\n",
    "    \n",
    "    if dist[n] == N:\n",
    "        return -1\n",
    "    else:\n",
    "        return dist[n]\n",
    "\n",
    "if __name__ == '__main__':\n",
    "    n, m = input().split()\n",
    "    n = int(n)\n",
    "    m = int(m)\n",
    "\n",
    "    while(m):\n",
    "        a, b, c = input().split()\n",
    "        a = int(a)\n",
    "        b = int(b)\n",
    "        c = int(c)\n",
    "        g[a][b] = min(g[a][b], c)\n",
    "        m -= 1\n",
    "    \n",
    "    t = dijkstra()\n",
    "\n",
    "    print(t)\n"
   ]
  },
  {
   "cell_type": "code",
   "execution_count": 1,
   "metadata": {},
   "outputs": [
    {
     "ename": "",
     "evalue": "",
     "output_type": "error",
     "traceback": [
      "\u001b[1;31mThe Kernel crashed while executing code in the the current cell or a previous cell. Please review the code in the cell(s) to identify a possible cause of the failure. Click <a href='https://aka.ms/vscodeJupyterKernelCrash'>here</a> for more info. View Jupyter <a href='command:jupyter.viewOutput'>log</a> for further details."
     ]
    }
   ],
   "source": [
    "N = 100001\n",
    "h = [-1 for i in range(N)]\n",
    "w = [0 for i in range(N)]\n",
    "e = [0 for i in range(N)]\n",
    "ne = [0 for i in range(N)]\n",
    "idx = 0\n",
    "dist = [N for i in range(N)]\n",
    "st = [0 for i in range(N)]\n",
    "\n",
    "def add(a, b, c):\n",
    "    global idx\n",
    "    e[idx] = b\n",
    "    w[idx] = c\n",
    "    ne[idx] = h[a]\n",
    "    h[a] = idx\n",
    "    idx += 1\n",
    "\n",
    "def spfa():\n",
    "    dist[1] = 0\n",
    "    q = []\n",
    "    q.append(1)\n",
    "    st[1] = 1\n",
    "    while(len(q)):\n",
    "        t = q[0]\n",
    "        del q[0]\n",
    "        st[t] = 0\n",
    "        i = h[t]\n",
    "        while(i != -1):\n",
    "            j = e[i]\n",
    "            if(dist[j] > dist[t] + w[i]):\n",
    "                dist[j] = dist[t] + w[i]\n",
    "                if(st[j] == 0):\n",
    "                    q.append(j)\n",
    "                    st[j] = 1\n",
    "            i = ne[i]\n",
    "    if(dist[n] == N):\n",
    "        return -1\n",
    "    else:\n",
    "        return dist[n]\n",
    "\n",
    "if __name__ == '__main__':\n",
    "    n, m = input().split()\n",
    "    n = int(n)\n",
    "    m = int(m)\n",
    "\n",
    "    while(m):\n",
    "        a, b, c = input().split()\n",
    "        a = int(a)\n",
    "        b = int(b)\n",
    "        c = int(c)\n",
    "        add(a, b, c)\n",
    "        m -= 1\n",
    "    \n",
    "    t = spfa()\n",
    "\n",
    "    print(t)"
   ]
  }
 ],
 "metadata": {
  "kernelspec": {
   "display_name": "Algorithm",
   "language": "python",
   "name": "python3"
  },
  "language_info": {
   "codemirror_mode": {
    "name": "ipython",
    "version": 3
   },
   "file_extension": ".py",
   "mimetype": "text/x-python",
   "name": "python",
   "nbconvert_exporter": "python",
   "pygments_lexer": "ipython3",
   "version": "3.8.0"
  }
 },
 "nbformat": 4,
 "nbformat_minor": 2
}
