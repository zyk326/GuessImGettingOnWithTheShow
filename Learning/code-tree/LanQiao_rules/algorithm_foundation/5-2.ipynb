{
 "cells": [
  {
   "cell_type": "markdown",
   "metadata": {},
   "source": [
    "dp 最长单调递增子串"
   ]
  },
  {
   "cell_type": "code",
   "execution_count": 5,
   "metadata": {},
   "outputs": [
    {
     "name": "stdout",
     "output_type": "stream",
     "text": [
      "4\n",
      "6  \n",
      "5  \n",
      "2  \n",
      "1  \n"
     ]
    }
   ],
   "source": [
    "if __name__ == '__main__':\n",
    "    N = 1010\n",
    "    f = [0 for i in range(N)]\n",
    "    g = [0 for i in range(N)]\n",
    "    n = int(input())\n",
    "    a = input().split()\n",
    "    a = list(map(int, a)) \n",
    "    b = [0]\n",
    "    b += a\n",
    "    a = b\n",
    "    for i in range(1, n + 1):\n",
    "        f[i] = 1\n",
    "        g[i] = 0\n",
    "        for j in range(1, i):\n",
    "            if a[j] < a[i]:\n",
    "                if f[i] < f[j] + 1:\n",
    "                    f[i] = f[j] + 1\n",
    "                    g[i] = j\n",
    "    k = 1\n",
    "    for i in range(1, n + 1):\n",
    "        if f[k] < f[i]:\n",
    "            k = i\n",
    "    print(f[k])\n",
    "\n",
    "    i = 0\n",
    "    len = f[k]\n",
    "    while(i < len):\n",
    "        print(a[k], \" \")\n",
    "        k = g[k]\n",
    "        i += 1\n",
    "    \n"
   ]
  },
  {
   "cell_type": "code",
   "execution_count": 7,
   "metadata": {},
   "outputs": [
    {
     "name": "stdout",
     "output_type": "stream",
     "text": [
      "3\n"
     ]
    }
   ],
   "source": [
    "if __name__ == '__main__':\n",
    "    N = 1010\n",
    "    f = [[0 for i in range(N)] for j in range(N)]\n",
    "    n, m = input().split()\n",
    "    n = int(n)\n",
    "    m = int(m)\n",
    "    a = str(input())\n",
    "    b = str(input())\n",
    "    a = \" \" + a\n",
    "    b = \" \" + b\n",
    "    for i in range(1, n + 1):\n",
    "        for j in range(1, m + 1):\n",
    "            f[i][j] = max(f[i - 1][j], f[i][j - 1])\n",
    "            if (a[i] == b[j]):\n",
    "                f[i][j] = max(f[i][j], f[i - 1][j - 1] + 1)\n",
    "    print(f[n][m])\n",
    "\n",
    "\n",
    "    "
   ]
  },
  {
   "cell_type": "code",
   "execution_count": 5,
   "metadata": {},
   "outputs": [
    {
     "name": "stdout",
     "output_type": "stream",
     "text": [
      "22\n"
     ]
    }
   ],
   "source": [
    "if __name__ == '__main__':\n",
    "    N = 310\n",
    "    f = [[0 for i in range(N)] for j in range(N)]\n",
    "    n = input()\n",
    "    n = int(n)\n",
    "    s = input().split()\n",
    "    s = list(map(int, s))\n",
    "    s = [0] + s\n",
    "    for i in range(len(s)):\n",
    "        s[i] += s[i - 1]\n",
    "    for i in range(2, n + 1):\n",
    "        j = 1\n",
    "        while(j + i - 1 <= n):\n",
    "            l, r = j, j + i - 1\n",
    "            k = l\n",
    "            f[l][r] = 1e7\n",
    "            while(k < r):\n",
    "                f[l][r] = min(f[l][r], f[l][k] + f[k + 1][r] + s[r] - s[l - 1])\n",
    "                k += 1\n",
    "            j += 1\n",
    "    print(f[1][n])"
   ]
  }
 ],
 "metadata": {
  "kernelspec": {
   "display_name": "Algorithm",
   "language": "python",
   "name": "python3"
  },
  "language_info": {
   "codemirror_mode": {
    "name": "ipython",
    "version": 3
   },
   "file_extension": ".py",
   "mimetype": "text/x-python",
   "name": "python",
   "nbconvert_exporter": "python",
   "pygments_lexer": "ipython3",
   "version": "3.8.0"
  }
 },
 "nbformat": 4,
 "nbformat_minor": 2
}
