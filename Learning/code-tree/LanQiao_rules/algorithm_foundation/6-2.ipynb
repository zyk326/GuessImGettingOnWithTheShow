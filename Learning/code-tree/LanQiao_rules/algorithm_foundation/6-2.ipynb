{
 "cells": [
  {
   "cell_type": "markdown",
   "metadata": {},
   "source": [
    "玄学的贪心算法"
   ]
  },
  {
   "cell_type": "code",
   "execution_count": 1,
   "metadata": {},
   "outputs": [
    {
     "name": "stdout",
     "output_type": "stream",
     "text": [
      "2\n"
     ]
    }
   ],
   "source": [
    "if __name__ == '__main__':\n",
    "    n = int(input())\n",
    "    inf = []\n",
    "    for i in range(n):\n",
    "        w, h = input().split()\n",
    "        w = int(w)\n",
    "        h = int(h)\n",
    "        inf.append([w, h])\n",
    "    inf = sorted(inf, key = lambda k:k[0] + k[1])\n",
    "    res = -1e6\n",
    "    sum = 0\n",
    "    for i in range(n):\n",
    "        res = max(res, sum - inf[i][1])\n",
    "        sum += inf[i][0]\n",
    "    print(res)    "
   ]
  }
 ],
 "metadata": {
  "kernelspec": {
   "display_name": "Algorithm",
   "language": "python",
   "name": "python3"
  },
  "language_info": {
   "codemirror_mode": {
    "name": "ipython",
    "version": 3
   },
   "file_extension": ".py",
   "mimetype": "text/x-python",
   "name": "python",
   "nbconvert_exporter": "python",
   "pygments_lexer": "ipython3",
   "version": "3.8.0"
  }
 },
 "nbformat": 4,
 "nbformat_minor": 2
}
