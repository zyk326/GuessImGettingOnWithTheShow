{
 "cells": [
  {
   "cell_type": "markdown",
   "metadata": {},
   "source": [
    "Trie,并查集,堆  \n",
    "字串统计(python的开数组)  \n",
    "集合合并(最终看根节点 p[x]代表x的父节点)  \n",
    "用一维数组模拟堆,关键是up和down两个模版"
   ]
  },
  {
   "cell_type": "code",
   "execution_count": 17,
   "metadata": {},
   "outputs": [
    {
     "name": "stdout",
     "output_type": "stream",
     "text": [
      "1\n",
      "0\n",
      "1\n"
     ]
    }
   ],
   "source": [
    "import numpy as np\n",
    "\n",
    "li = np.zeros((26, 26))\n",
    "ans = np.zeros(26)\n",
    "\n",
    "def head_Insert(str):\n",
    "    ind = 0\n",
    "    for i in str:\n",
    "        bufi = ord(i) - ord('a')\n",
    "        if(ind + 1 >= len(str)):\n",
    "            ans[bufi] += 1\n",
    "        li[ind][bufi] = 1\n",
    "        ind += 1\n",
    "\n",
    "def head_Query(str):\n",
    "    ind = 0\n",
    "    for i in str:\n",
    "        bufi = ord(i) - ord('a')\n",
    "        if(li[ind][bufi] == 0):\n",
    "            return 0\n",
    "        else:\n",
    "            ind += 1\n",
    "    return ans[ord(str[-1]) - ord('a')]\n",
    "\n",
    "if __name__ == '__main__':\n",
    "    n = int(input())\n",
    "    while(n):\n",
    "        n -= 1\n",
    "        c, str = input().split()\n",
    "        if (c == 'I'):\n",
    "            head_Insert(str)\n",
    "        elif (c == 'Q'):\n",
    "            print(\"%.0d\" % head_Query(str))\n",
    "\n",
    "    "
   ]
  },
  {
   "cell_type": "code",
   "execution_count": 23,
   "metadata": {},
   "outputs": [
    {
     "name": "stdout",
     "output_type": "stream",
     "text": [
      "Yes\n",
      "No\n",
      "Yes\n"
     ]
    }
   ],
   "source": [
    "li = [i for i in range(100000)]\n",
    "\n",
    "def head_Merge(a, b):\n",
    "    li[a] = b\n",
    "\n",
    "def find_Root(a):\n",
    "    while(li[a] != a):\n",
    "        a = li[a]\n",
    "    return a\n",
    "\n",
    "def head_Query(a, b):\n",
    "    if(find_Root(a) == find_Root(b)):\n",
    "        return \"Yes\"\n",
    "    else:\n",
    "        return \"No\"\n",
    "\n",
    "if __name__ == '__main__':\n",
    "    m, n = input().split()\n",
    "    m = int(m)\n",
    "    n = int(n)\n",
    "    while(n):\n",
    "        n -= 1\n",
    "        c, a, b = input().split()\n",
    "        a = int(a)\n",
    "        b = int(b)\n",
    "        if (c == \"M\"):\n",
    "            head_Merge(a, b)\n",
    "        elif (c == \"Q\"):\n",
    "            print(head_Query(a, b))\n"
   ]
  },
  {
   "cell_type": "code",
   "execution_count": 31,
   "metadata": {},
   "outputs": [
    {
     "name": "stdout",
     "output_type": "stream",
     "text": [
      "[0, 4, 5, 1, 3, 2]\n",
      "[0, 1, 2, 4, 3, 5]\n",
      "[0, 1, 2, 1, 3, 5]\n"
     ]
    }
   ],
   "source": [
    "def down(u):\n",
    "    t = u\n",
    "    if(u * 2 <= size and li[u * 2] < li[t]):\n",
    "        t = u * 2\n",
    "    if(u * 2 + 1 <= size and li[u * 2 + 1] < li[t]):\n",
    "        t = u * 2 + 1\n",
    "    # print(t, u)\n",
    "    if (t != u):\n",
    "        li[t], li[u] = li[u], li[t]\n",
    "        down(t)\n",
    "\n",
    "def up(u):\n",
    "    while(u // 2 and li[u // 2] > li[u]):\n",
    "        li[u // 2], li[u] = li[u], li[u // 2]\n",
    "        u //= 2\n",
    "\n",
    "if __name__ == '__main__':\n",
    "    m, n = input().split()\n",
    "    m = int(m)\n",
    "    n = int(n)\n",
    "    li = input().split()\n",
    "    for i in range(m):\n",
    "        li[i] = int(li[i])\n",
    "    li.insert(0, 0)\n",
    "    print(li)\n",
    "    size = m\n",
    "    i = m // 2\n",
    "    while(i):\n",
    "        down(i)\n",
    "        i -= 1\n",
    "    print(li)\n",
    "\n",
    "    # while(n):\n",
    "    #     n -= 1\n",
    "    #     print(li[1])\n",
    "    #     li[1] = li[size]\n",
    "    #     size -= 1\n",
    "    #     down(1)\n",
    "\n",
    "    change = int(input())\n",
    "    where = int(input())\n",
    "    li[where] = change\n",
    "    down(where)\n",
    "    up(where)\n",
    "    print(li)"
   ]
  }
 ],
 "metadata": {
  "kernelspec": {
   "display_name": "Algorithm",
   "language": "python",
   "name": "python3"
  },
  "language_info": {
   "codemirror_mode": {
    "name": "ipython",
    "version": 3
   },
   "file_extension": ".py",
   "mimetype": "text/x-python",
   "name": "python",
   "nbconvert_exporter": "python",
   "pygments_lexer": "ipython3",
   "version": "3.8.0"
  }
 },
 "nbformat": 4,
 "nbformat_minor": 2
}
