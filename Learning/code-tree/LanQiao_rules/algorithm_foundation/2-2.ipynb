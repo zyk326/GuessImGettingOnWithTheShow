{
 "cells": [
  {
   "cell_type": "markdown",
   "metadata": {},
   "source": [
    "Trie,并查集,堆  \n",
    "字串统计(python的开数组)  \n",
    "集合合并(最终看根节点 p[x]代表x的父节点)  \n",
    "用一维数组模拟堆,关键是up和down两个模版"
   ]
  },
  {
   "cell_type": "code",
   "execution_count": 17,
   "metadata": {},
   "outputs": [
    {
     "name": "stdout",
     "output_type": "stream",
     "text": [
      "1\n",
      "0\n",
      "1\n"
     ]
    }
   ],
   "source": [
    "import numpy as np\n",
    "\n",
    "li = np.zeros((26, 26))\n",
    "ans = np.zeros(26)\n",
    "\n",
    "def head_Insert(str):\n",
    "    ind = 0\n",
    "    for i in str:\n",
    "        bufi = ord(i) - ord('a')\n",
    "        if(ind + 1 >= len(str)):\n",
    "            ans[bufi] += 1\n",
    "        li[ind][bufi] = 1\n",
    "        ind += 1\n",
    "\n",
    "def head_Query(str):\n",
    "    ind = 0\n",
    "    for i in str:\n",
    "        bufi = ord(i) - ord('a')\n",
    "        if(li[ind][bufi] == 0):\n",
    "            return 0\n",
    "        else:\n",
    "            ind += 1\n",
    "    return ans[ord(str[-1]) - ord('a')]\n",
    "\n",
    "if __name__ == '__main__':\n",
    "    n = int(input())\n",
    "    while(n):\n",
    "        n -= 1\n",
    "        c, str = input().split()\n",
    "        if (c == 'I'):\n",
    "            head_Insert(str)\n",
    "        elif (c == 'Q'):\n",
    "            print(\"%.0d\" % head_Query(str))\n",
    "\n",
    "    "
   ]
  },
  {
   "cell_type": "code",
   "execution_count": 23,
   "metadata": {},
   "outputs": [
    {
     "name": "stdout",
     "output_type": "stream",
     "text": [
      "Yes\n",
      "No\n",
      "Yes\n"
     ]
    }
   ],
   "source": [
    "li = [i for i in range(100000)]\n",
    "\n",
    "def head_Merge(a, b):\n",
    "    li[a] = b\n",
    "\n",
    "def find_Root(a):\n",
    "    while(li[a] != a):\n",
    "        a = li[a]\n",
    "    return a\n",
    "\n",
    "def head_Query(a, b):\n",
    "    if(find_Root(a) == find_Root(b)):\n",
    "        return \"Yes\"\n",
    "    else:\n",
    "        return \"No\"\n",
    "\n",
    "if __name__ == '__main__':\n",
    "    m, n = input().split()\n",
    "    m = int(m)\n",
    "    n = int(n)\n",
    "    while(n):\n",
    "        n -= 1\n",
    "        c, a, b = input().split()\n",
    "        a = int(a)\n",
    "        b = int(b)\n",
    "        if (c == \"M\"):\n",
    "            head_Merge(a, b)\n",
    "        elif (c == \"Q\"):\n",
    "            print(head_Query(a, b))\n"
   ]
  },
  {
   "cell_type": "code",
   "execution_count": 28,
   "metadata": {},
   "outputs": [
    {
     "ename": "IndexError",
     "evalue": "list index out of range",
     "output_type": "error",
     "traceback": [
      "\u001b[1;31m---------------------------------------------------------------------------\u001b[0m",
      "\u001b[1;31mIndexError\u001b[0m                                Traceback (most recent call last)",
      "Cell \u001b[1;32mIn[28], line 19\u001b[0m\n\u001b[0;32m     17\u001b[0m li \u001b[38;5;241m=\u001b[39m \u001b[38;5;28minput\u001b[39m()\u001b[38;5;241m.\u001b[39msplit()\n\u001b[0;32m     18\u001b[0m \u001b[38;5;28;01mfor\u001b[39;00m i \u001b[38;5;129;01min\u001b[39;00m \u001b[38;5;28mrange\u001b[39m(\u001b[38;5;241m1\u001b[39m, m \u001b[38;5;241m+\u001b[39m \u001b[38;5;241m1\u001b[39m):\n\u001b[1;32m---> 19\u001b[0m     li[i] \u001b[38;5;241m=\u001b[39m \u001b[38;5;28mint\u001b[39m(\u001b[43mli\u001b[49m\u001b[43m[\u001b[49m\u001b[43mi\u001b[49m\u001b[43m]\u001b[49m)\n\u001b[0;32m     21\u001b[0m \u001b[38;5;66;03m# 构造\u001b[39;00m\n\u001b[0;32m     22\u001b[0m size \u001b[38;5;241m=\u001b[39m m \u001b[38;5;241m/\u001b[39m\u001b[38;5;241m/\u001b[39m \u001b[38;5;241m2\u001b[39m\n",
      "\u001b[1;31mIndexError\u001b[0m: list index out of range"
     ]
    }
   ],
   "source": [
    "size = 0\n",
    "\n",
    "def down(u):\n",
    "    t = u\n",
    "    if(u * 2 <= size and li[u * 2] < li[t]):\n",
    "        t = u * 2\n",
    "    if(u * 2 + 1 <= size and li[u * 2 + 1] < li[t]):\n",
    "        t = u * 2 + 1\n",
    "    if (t != u):\n",
    "        li[t], li[u] = li[u], li[t]\n",
    "        down(t)\n",
    "\n",
    "if __name__ == '__main__':\n",
    "    m, n = input().split()\n",
    "    m = int(m)\n",
    "    n = int(n)\n",
    "    li = input().split()\n",
    "    for i in range(1, m + 1):\n",
    "        li[i] = int(li[i])\n",
    "\n",
    "    # 构造\n",
    "    size = m // 2\n",
    "    while(size):\n",
    "        down(size)\n",
    "        size -= 1\n",
    "    size = m\n",
    "    while(n):\n",
    "        n -= 1\n",
    "        print(li[1])\n",
    "        li[1] = li[size]\n",
    "        size -= 1\n",
    "        down(1)\n"
   ]
  }
 ],
 "metadata": {
  "kernelspec": {
   "display_name": "Algorithm",
   "language": "python",
   "name": "python3"
  },
  "language_info": {
   "codemirror_mode": {
    "name": "ipython",
    "version": 3
   },
   "file_extension": ".py",
   "mimetype": "text/x-python",
   "name": "python",
   "nbconvert_exporter": "python",
   "pygments_lexer": "ipython3",
   "version": "3.8.0"
  }
 },
 "nbformat": 4,
 "nbformat_minor": 2
}
