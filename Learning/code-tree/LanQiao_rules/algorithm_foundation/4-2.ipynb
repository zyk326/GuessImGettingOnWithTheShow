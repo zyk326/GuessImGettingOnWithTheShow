{
 "cells": [
  {
   "cell_type": "markdown",
   "metadata": {},
   "source": [
    "N = p1^a1 * p2^a2 ... * pn^an\n",
    "欧拉函数(1-n中互质的数的个数)==N(1 - 1/p1)(1 - 1/p2)...(1 - 1/pn)  \n",
    "\n",
    "快速幂\n",
    "a^k mod b 的结果\n",
    "a^k = a^2^0 * a^2^1 * ... * a^2^logk 里面挑k的二进制数对应位是1的项相乘"
   ]
  },
  {
   "cell_type": "code",
   "execution_count": 4,
   "metadata": {},
   "outputs": [
    {
     "name": "stdout",
     "output_type": "stream",
     "text": [
      "2\n"
     ]
    }
   ],
   "source": [
    "# 欧拉函数\n",
    "if __name__ == '__main__':\n",
    "    a = int(input())\n",
    "    res = a\n",
    "    for i in range(2, a + 1):\n",
    "        if i <= a // i:\n",
    "            if a % i == 0:\n",
    "                res = res / i * (i - 1)\n",
    "                while(a % i == 0):\n",
    "                    a /= i\n",
    "    if a > 1:\n",
    "        res = res / a * (a - 1)\n",
    "    print(\"%.0d\"%res)"
   ]
  },
  {
   "cell_type": "code",
   "execution_count": 7,
   "metadata": {},
   "outputs": [
    {
     "name": "stdout",
     "output_type": "stream",
     "text": [
      "4\n"
     ]
    }
   ],
   "source": [
    "# 快速幂\n",
    "def qmi(a, k, p):\n",
    "    res = 1\n",
    "    while(k):\n",
    "        if k % 2 == 1:\n",
    "            res = res * a % p\n",
    "        k >>= 1\n",
    "        a = a * a % p\n",
    "    return res\n",
    "\n",
    "if __name__ == '__main__':\n",
    "    a, k, p = input().split()\n",
    "    a = int(a)\n",
    "    k = int(k)\n",
    "    p = int(p)\n",
    "    res = qmi(a, k, p)\n",
    "    print(\"%.0d\" % res)"
   ]
  },
  {
   "cell_type": "code",
   "execution_count": null,
   "metadata": {},
   "outputs": [],
   "source": [
    "def qmi(a, k, p):\n",
    "    res = 1\n",
    "    while(k):\n",
    "        if k % 2 == 1:\n",
    "            res = res * a % p\n",
    "        k >>= 1\n",
    "        a = a * a % p\n",
    "    return res\n",
    "\n",
    "if __name__ == '__main__':\n",
    "    a, k, p = input().split()\n",
    "    a = int(a)\n",
    "    k = int(k)\n",
    "    p = int(p)\n",
    "    res = qmi(a, k, p)\n",
    "    print(\"%.0d\" % res)"
   ]
  }
 ],
 "metadata": {
  "kernelspec": {
   "display_name": "Algorithm",
   "language": "python",
   "name": "python3"
  },
  "language_info": {
   "codemirror_mode": {
    "name": "ipython",
    "version": 3
   },
   "file_extension": ".py",
   "mimetype": "text/x-python",
   "name": "python",
   "nbconvert_exporter": "python",
   "pygments_lexer": "ipython3",
   "version": "3.8.0"
  }
 },
 "nbformat": 4,
 "nbformat_minor": 2
}
