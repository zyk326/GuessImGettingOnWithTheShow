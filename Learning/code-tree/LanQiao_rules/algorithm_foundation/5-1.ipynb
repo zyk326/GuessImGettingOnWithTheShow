{
 "cells": [
  {
   "cell_type": "markdown",
   "metadata": {},
   "source": [
    "DP的常用模型"
   ]
  },
  {
   "cell_type": "code",
   "execution_count": 1,
   "metadata": {},
   "outputs": [
    {
     "name": "stdout",
     "output_type": "stream",
     "text": [
      "8\n"
     ]
    }
   ],
   "source": [
    "if __name__ == '__main__':\n",
    "    n, m = input().split()\n",
    "    N = 10010\n",
    "    v = [0 for i in range(N)]\n",
    "    w = [0 for i in range(N)]\n",
    "    f = [0 for i in range(N)]\n",
    "    n = int(n)\n",
    "    m = int(m)\n",
    "    for i in range(n):\n",
    "        bv, bw = input().split()\n",
    "        v[i] = int(bv)\n",
    "        w[i] = int(bw)\n",
    "    for i in range(1, n + 1):\n",
    "        for j in range(m, v[i] - 1, -1):\n",
    "            f[j] = max(f[j], f[j - v[i]] + w[i])\n",
    "    print(f[m])"
   ]
  },
  {
   "cell_type": "code",
   "execution_count": 3,
   "metadata": {},
   "outputs": [
    {
     "name": "stdout",
     "output_type": "stream",
     "text": [
      "10\n"
     ]
    }
   ],
   "source": [
    "if __name__ == '__main__':\n",
    "    n, m = input().split()\n",
    "    N = 10010\n",
    "    v = [0 for i in range(N)]\n",
    "    w = [0 for i in range(N)]\n",
    "    f = [0 for i in range(N)]\n",
    "    n = int(n)\n",
    "    m = int(m)\n",
    "    for i in range(1, n + 1):\n",
    "        bv, bw = input().split()\n",
    "        v[i] = int(bv)\n",
    "        w[i] = int(bw)\n",
    "    for i in range(1, n + 1):\n",
    "        for j in range(v[i], m + 1):\n",
    "            f[j] = max(f[j], f[j - v[i]] + w[i])\n",
    "    print(f[m])"
   ]
  },
  {
   "cell_type": "code",
   "execution_count": 4,
   "metadata": {},
   "outputs": [
    {
     "name": "stdout",
     "output_type": "stream",
     "text": [
      "10\n"
     ]
    }
   ],
   "source": [
    "if __name__ == '__main__':\n",
    "    n, m = input().split()\n",
    "    N = 10010\n",
    "    v = [0 for i in range(N)]\n",
    "    w = [0 for i in range(N)]\n",
    "    f = [0 for i in range(N)]\n",
    "    n = int(n)\n",
    "    m = int(m)\n",
    "    cnt = 0\n",
    "    for i in range(1, n + 1):\n",
    "        bv, bw, s = input().split()\n",
    "        bv = int(bv)\n",
    "        bw = int(bw)\n",
    "        s = int(s)\n",
    "        k = 1\n",
    "        while(k <= s):\n",
    "            cnt += 1\n",
    "            v[cnt] = bv * k\n",
    "            w[cnt] = bw * k\n",
    "            s -= k\n",
    "            k *= 2\n",
    "        if s > 0:\n",
    "            cnt += 1\n",
    "            v[cnt] = bv * s\n",
    "            w[cnt] = bw * s\n",
    "    n = cnt\n",
    "    for i in range(1, n + 1):\n",
    "        for j in range(m, v[i] - 1, -1):\n",
    "            f[j] = max(f[j], f[j - v[i]] + w[i])\n",
    "    print(f[m])"
   ]
  },
  {
   "cell_type": "code",
   "execution_count": 5,
   "metadata": {},
   "outputs": [
    {
     "name": "stdout",
     "output_type": "stream",
     "text": [
      "8\n"
     ]
    }
   ],
   "source": [
    "if __name__ == '__main__':\n",
    "    n, m = input().split()\n",
    "    N = 110\n",
    "    v = [[0 for i in range(N)] for j in range(N)]\n",
    "    w = [[0 for i in range(N)] for j in range(N)]\n",
    "    f = [0 for i in range(N)]\n",
    "    s = [0 for i in range(N)]\n",
    "    n = int(n)\n",
    "    m = int(m)\n",
    "    for i in range(1, n + 1):\n",
    "        bs = int(input())\n",
    "        s[i] = bs\n",
    "        for j in range(s[i]):\n",
    "            bv, bw = input().split()\n",
    "            v[i][j] = int(bv)\n",
    "            w[i][j] = int(bw)\n",
    "    for i in range(1, n + 1):\n",
    "        for j in range(m, -1, -1):\n",
    "            for k in range(s[i]):\n",
    "                if v[i][k] <= j:\n",
    "                    f[j] = max(f[j], f[j - v[i][k]] + w[i][k])\n",
    "    print(f[m])"
   ]
  }
 ],
 "metadata": {
  "kernelspec": {
   "display_name": "Algorithm",
   "language": "python",
   "name": "python3"
  },
  "language_info": {
   "codemirror_mode": {
    "name": "ipython",
    "version": 3
   },
   "file_extension": ".py",
   "mimetype": "text/x-python",
   "name": "python",
   "nbconvert_exporter": "python",
   "pygments_lexer": "ipython3",
   "version": "3.8.0"
  }
 },
 "nbformat": 4,
 "nbformat_minor": 2
}
