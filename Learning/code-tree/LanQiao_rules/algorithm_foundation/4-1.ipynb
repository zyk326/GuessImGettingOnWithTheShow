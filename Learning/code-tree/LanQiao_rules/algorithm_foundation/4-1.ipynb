{
 "cells": [
  {
   "cell_type": "markdown",
   "metadata": {},
   "source": [
    "质数试除法,埃氏筛法,线性筛法\n",
    "质因数试除法\n",
    "约数试除法.\n",
    "约数的个数,约数的和\n",
    "欧几里得算法(辗转相除法)"
   ]
  },
  {
   "cell_type": "code",
   "execution_count": 12,
   "metadata": {},
   "outputs": [
    {
     "name": "stdout",
     "output_type": "stream",
     "text": [
      "0\n"
     ]
    }
   ],
   "source": [
    "# O(sqrt(n))\n",
    "def is_prime(n):\n",
    "    if n < 2:\n",
    "        return 0\n",
    "    for i in range(2, n + 1):\n",
    "        j = n // i\n",
    "        if(i <= j):\n",
    "            if(n % i == 0):\n",
    "                return 0\n",
    "    return 1\n",
    "\n",
    "print(is_prime(52))"
   ]
  },
  {
   "cell_type": "code",
   "execution_count": 2,
   "metadata": {},
   "outputs": [
    {
     "name": "stdout",
     "output_type": "stream",
     "text": [
      "2 1\n",
      "3 1\n",
      "2 3\n"
     ]
    }
   ],
   "source": [
    "def divide(n):\n",
    "    for i in range(2, n + 1):\n",
    "        if i <= n // i:\n",
    "            if n % i == 0:\n",
    "                s = 0\n",
    "                while(n % i == 0):\n",
    "                    n /= i\n",
    "                    s += 1\n",
    "            print(\"%.0d %.0d\" % (i, s))\n",
    "    if n > 1:\n",
    "        print(\"%.0d %.0d\" % (n, 1))\n",
    "\n",
    "n = int(input())\n",
    "while(n):\n",
    "    x = int(input())\n",
    "    divide(x)\n",
    "    n -= 1"
   ]
  },
  {
   "cell_type": "code",
   "execution_count": 4,
   "metadata": {},
   "outputs": [
    {
     "name": "stdout",
     "output_type": "stream",
     "text": [
      "4\n"
     ]
    }
   ],
   "source": [
    "def get_primes(n):\n",
    "    global cnt\n",
    "    for i in range(2, n + 1):\n",
    "        if (st[i] == 0):\n",
    "            primes[cnt] = i\n",
    "            cnt += 1\n",
    "        for j in range(i + i, n + 1, i):\n",
    "            st[j] = 1\n",
    "\n",
    "if __name__ == '__main__':\n",
    "    cnt = 0\n",
    "    N = 100001\n",
    "    primes = [0 for i in range(N)]\n",
    "    st = [0 for i in range(N)]\n",
    "    n = int(input())\n",
    "    get_primes(n)\n",
    "    print(cnt)"
   ]
  },
  {
   "cell_type": "code",
   "execution_count": 13,
   "metadata": {},
   "outputs": [
    {
     "name": "stdout",
     "output_type": "stream",
     "text": [
      "5743\n"
     ]
    }
   ],
   "source": [
    "def get_primes(n):\n",
    "    global cnt\n",
    "    for i in range(2, n + 1):\n",
    "        if (st[i] == 0):\n",
    "            primes[cnt] = i\n",
    "            cnt += 1\n",
    "        for j in range(0, n // i + 1):\n",
    "            st[primes[j] * i] = 1\n",
    "            if i % primes[j] == 0:\n",
    "                break\n",
    "\n",
    "if __name__ == '__main__':\n",
    "    cnt = 0\n",
    "    N = 100001\n",
    "    primes = [0 for i in range(N)]\n",
    "    st = [0 for i in range(N)]\n",
    "    n = int(input())\n",
    "    get_primes(n)\n",
    "    print(cnt)"
   ]
  },
  {
   "cell_type": "code",
   "execution_count": 19,
   "metadata": {},
   "outputs": [
    {
     "name": "stdout",
     "output_type": "stream",
     "text": [
      "[1, 2, 4, 8]\n"
     ]
    }
   ],
   "source": [
    "def get_divisors(n):\n",
    "    global res\n",
    "    for i in range(1, n + 1):\n",
    "        if i <= n // i:\n",
    "            if n % i == 0:\n",
    "                res.append(i)\n",
    "                if i != n // i:\n",
    "                    res.append(n // i)\n",
    "    res = sorted(res)\n",
    "\n",
    "res = []\n",
    "get_divisors(8)\n",
    "print(res)"
   ]
  },
  {
   "cell_type": "code",
   "execution_count": 33,
   "metadata": {},
   "outputs": [
    {
     "name": "stdout",
     "output_type": "stream",
     "text": [
      "4\n",
      "15\n"
     ]
    }
   ],
   "source": [
    "if __name__ == '__main__':\n",
    "    primes = []\n",
    "    x = int(input())\n",
    "    for i in range(2, x + 1):\n",
    "        n = 0\n",
    "        if i <= x // i:\n",
    "            while(x % i == 0):\n",
    "                x /= i\n",
    "                n += 1\n",
    "            if n != 0:\n",
    "                primes.append([i, n])\n",
    "    if x > 1:\n",
    "        primes.append([x, 1])\n",
    "    \n",
    "    # number\n",
    "    res = 1\n",
    "    for i in primes:\n",
    "        res *= (i[1] + 1)\n",
    "    print(res)\n",
    "\n",
    "    # sum\n",
    "    res = 1\n",
    "    for i in primes:\n",
    "        a = i[1]\n",
    "        t = 1\n",
    "        while(a != 0):\n",
    "            t = i[0] * t + 1\n",
    "            a -= 1\n",
    "        res *= t\n",
    "    print(res)"
   ]
  },
  {
   "cell_type": "code",
   "execution_count": 35,
   "metadata": {},
   "outputs": [
    {
     "name": "stdout",
     "output_type": "stream",
     "text": [
      "2\n"
     ]
    }
   ],
   "source": [
    "def gcd(a, b):\n",
    "    return gcd(b, a % b) if b else a\n",
    "\n",
    "if __name__ == '__main__':\n",
    "    a, b = input().split()\n",
    "    a = int(a)\n",
    "    b = int(b)\n",
    "    print(gcd(a, b))"
   ]
  }
 ],
 "metadata": {
  "kernelspec": {
   "display_name": "Algorithm",
   "language": "python",
   "name": "python3"
  },
  "language_info": {
   "codemirror_mode": {
    "name": "ipython",
    "version": 3
   },
   "file_extension": ".py",
   "mimetype": "text/x-python",
   "name": "python",
   "nbconvert_exporter": "python",
   "pygments_lexer": "ipython3",
   "version": "3.8.0"
  }
 },
 "nbformat": 4,
 "nbformat_minor": 2
}
