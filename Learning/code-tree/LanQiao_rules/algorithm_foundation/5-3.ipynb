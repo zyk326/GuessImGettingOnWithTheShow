{
 "cells": [
  {
   "cell_type": "markdown",
   "metadata": {},
   "source": [
    "滑雪问题"
   ]
  },
  {
   "cell_type": "code",
   "execution_count": 1,
   "metadata": {},
   "outputs": [
    {
     "name": "stdout",
     "output_type": "stream",
     "text": [
      "25\n"
     ]
    }
   ],
   "source": [
    "def dp(x, y):\n",
    "    if f[x][y] != -1:\n",
    "        return f[x][y]\n",
    "    v = 1\n",
    "    for i in range(4):\n",
    "        a, b = x + dx[i], y + dy[i]\n",
    "        if a >= 1 and a <= n and b <= m and b >=1 and h[a][b] < h[x][y]:\n",
    "            v = max(v, dp(a, b) + 1)\n",
    "    return v\n",
    "if __name__ == '__main__':\n",
    "    N = 310\n",
    "    h = [[0 for i in range(N)] for j in range(N)]\n",
    "    f = [[-1 for i in range(N)] for j in range(N)]\n",
    "    dx = [-1, 0, 1, 0]\n",
    "    dy = [0, 1, 0, -1]\n",
    "    n, m = input().split()\n",
    "    n = int(n)\n",
    "    m = int(m)\n",
    "    for i in range(1, n + 1):\n",
    "        row = input().split()\n",
    "        row = list(map(int, row))\n",
    "        for j in range(1, m + 1):\n",
    "            h[i][j] = row[j - 1]\n",
    "    res = 0\n",
    "    for i in range(1, n + 1):\n",
    "        for j in range(1, m + 1):\n",
    "            res = max(res, dp(i, j))\n",
    "\n",
    "    print(res)"
   ]
  }
 ],
 "metadata": {
  "kernelspec": {
   "display_name": "Algorithm",
   "language": "python",
   "name": "python3"
  },
  "language_info": {
   "codemirror_mode": {
    "name": "ipython",
    "version": 3
   },
   "file_extension": ".py",
   "mimetype": "text/x-python",
   "name": "python",
   "nbconvert_exporter": "python",
   "pygments_lexer": "ipython3",
   "version": "3.8.0"
  }
 },
 "nbformat": 4,
 "nbformat_minor": 2
}
