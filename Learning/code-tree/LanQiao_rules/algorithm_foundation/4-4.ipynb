{
 "cells": [
  {
   "cell_type": "markdown",
   "metadata": {},
   "source": [
    "容斥原理:|P1 + P2 + P3 + ... + Pn| = |P1| + ... + |Pn| - |P1 ∩ P2|... |Pn-1 ∩ Pn| + |P1 ∩ P2 ∩ P3| ... || - ...   \n"
   ]
  },
  {
   "cell_type": "code",
   "execution_count": 20,
   "metadata": {},
   "outputs": [
    {
     "name": "stdout",
     "output_type": "stream",
     "text": [
      "7\n"
     ]
    }
   ],
   "source": [
    "if __name__ == '__main__':\n",
    "    n, m = input().split()\n",
    "    n = int(n)\n",
    "    m = int(m)\n",
    "    res = 0\n",
    "    dist = input().split()\n",
    "    dist = list(map(int, dist))\n",
    "    for i in range(1, 1 << m):\n",
    "        t, cnt = 1, 0\n",
    "        for j in range(m):\n",
    "            if (i >> j) % 2 == 1:\n",
    "                cnt += 1\n",
    "                if t * dist[j] > n:\n",
    "                    t = -1\n",
    "                    break\n",
    "                t *= dist[j]\n",
    "        if t != -1:\n",
    "            if cnt % 2:\n",
    "                res += n // t\n",
    "            else:\n",
    "                res -= n // t\n",
    "    print(res)"
   ]
  },
  {
   "cell_type": "code",
   "execution_count": 22,
   "metadata": {},
   "outputs": [
    {
     "name": "stdout",
     "output_type": "stream",
     "text": [
      "1\n"
     ]
    }
   ],
   "source": [
    "if __name__ == '__main__':\n",
    "    n = int(input())\n",
    "    dist = input().split()\n",
    "    dist = list(map(int,dist))\n",
    "    res = 0\n",
    "    for i in dist:\n",
    "        res ^= i\n",
    "    print(res)"
   ]
  },
  {
   "cell_type": "code",
   "execution_count": 24,
   "metadata": {},
   "outputs": [
    {
     "name": "stdout",
     "output_type": "stream",
     "text": [
      "3\n"
     ]
    }
   ],
   "source": [
    "def sg(x):\n",
    "    if f[x] != -1:\n",
    "        return f[x]\n",
    "    S = {}\n",
    "    for i in range(m):\n",
    "        sum = dist1[i]\n",
    "        if(x >= sum):\n",
    "            S[sg(x - sum)] = 1\n",
    "    count = 0\n",
    "    while 1:\n",
    "        if S.get(count) == None:\n",
    "            f[x] = count\n",
    "            return f[x]\n",
    "        count += 1\n",
    "\n",
    "if __name__ == '__main__':\n",
    "    f = [-1 for i in range(10010)]\n",
    "    m = int(input())\n",
    "    dist1 = input().split()\n",
    "    dist1 = list(map(int,dist))\n",
    "    n = int(input())\n",
    "    dist = input().split()\n",
    "    dist = list(map(int,dist))\n",
    "    res = 0\n",
    "    for i in dist:\n",
    "        res ^= sg(i)\n",
    "    print(res)"
   ]
  }
 ],
 "metadata": {
  "kernelspec": {
   "display_name": "Algorithm",
   "language": "python",
   "name": "python3"
  },
  "language_info": {
   "codemirror_mode": {
    "name": "ipython",
    "version": 3
   },
   "file_extension": ".py",
   "mimetype": "text/x-python",
   "name": "python",
   "nbconvert_exporter": "python",
   "pygments_lexer": "ipython3",
   "version": "3.8.0"
  }
 },
 "nbformat": 4,
 "nbformat_minor": 2
}
