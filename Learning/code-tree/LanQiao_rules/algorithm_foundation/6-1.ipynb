{
 "cells": [
  {
   "cell_type": "markdown",
   "metadata": {},
   "source": [
    "python实现小根堆和贪心的基本写法"
   ]
  },
  {
   "cell_type": "code",
   "execution_count": 7,
   "metadata": {},
   "outputs": [
    {
     "name": "stdout",
     "output_type": "stream",
     "text": [
      "[4, 5]\n",
      "2\n"
     ]
    }
   ],
   "source": [
    "import heapq\n",
    "\n",
    "if __name__ == '__main__':\n",
    "    n = int(input())\n",
    "    inf = []\n",
    "    heap = []\n",
    "    heapq.heapify(heap)\n",
    "    for i in range(n):\n",
    "        a, b = input().split()\n",
    "        a = int(a)\n",
    "        b = int(b)\n",
    "        inf.append([a, b])\n",
    "    inf = sorted(inf, key = lambda k:k[1])\n",
    "    for i in range(n):\n",
    "        if len(heap) == 0 or heapq.nsmallest(1, heap)[0] >= inf[i][0]:\n",
    "            heapq.heappush(heap, inf[i][1])\n",
    "        else:\n",
    "            t = heapq.heapreplace(heap, inf[i][1])\n",
    "    print(len(heap))"
   ]
  },
  {
   "cell_type": "code",
   "execution_count": 10,
   "metadata": {},
   "outputs": [
    {
     "name": "stdout",
     "output_type": "stream",
     "text": [
      "15\n"
     ]
    }
   ],
   "source": [
    "import heapq\n",
    "\n",
    "if __name__ == '__main__':\n",
    "    n = int(input())\n",
    "    heap = []\n",
    "    while(n):\n",
    "        heapq.heappush(heap, int(input()))\n",
    "        n -= 1\n",
    "    res = 0\n",
    "    while(len(heap) > 1):\n",
    "        a = heapq.heappop(heap)\n",
    "        b = heapq.heappop(heap)\n",
    "        res += a + b\n",
    "        heapq.heappush(heap, a + b)\n",
    "    print(res)"
   ]
  }
 ],
 "metadata": {
  "kernelspec": {
   "display_name": "Algorithm",
   "language": "python",
   "name": "python3"
  },
  "language_info": {
   "codemirror_mode": {
    "name": "ipython",
    "version": 3
   },
   "file_extension": ".py",
   "mimetype": "text/x-python",
   "name": "python",
   "nbconvert_exporter": "python",
   "pygments_lexer": "ipython3",
   "version": "3.8.0"
  }
 },
 "nbformat": 4,
 "nbformat_minor": 2
}
