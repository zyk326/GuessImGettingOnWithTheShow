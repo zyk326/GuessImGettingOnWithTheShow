{
 "cells": [
  {
   "cell_type": "markdown",
   "metadata": {},
   "source": [
    "严格单调的队列,滑动窗口最大最小值  \n",
    "KMP"
   ]
  },
  {
   "cell_type": "code",
   "execution_count": 24,
   "metadata": {},
   "outputs": [
    {
     "ename": "ValueError",
     "evalue": "not enough values to unpack (expected 2, got 1)",
     "output_type": "error",
     "traceback": [
      "\u001b[1;31m---------------------------------------------------------------------------\u001b[0m",
      "\u001b[1;31mValueError\u001b[0m                                Traceback (most recent call last)",
      "Cell \u001b[1;32mIn[24], line 28\u001b[0m\n\u001b[0;32m     25\u001b[0m     \u001b[38;5;28;01mreturn\u001b[39;00m ans\n\u001b[0;32m     27\u001b[0m \u001b[38;5;28;01mif\u001b[39;00m \u001b[38;5;18m__name__\u001b[39m \u001b[38;5;241m==\u001b[39m \u001b[38;5;124m'\u001b[39m\u001b[38;5;124m__main__\u001b[39m\u001b[38;5;124m'\u001b[39m:\n\u001b[1;32m---> 28\u001b[0m     m, n \u001b[38;5;241m=\u001b[39m \u001b[38;5;28minput\u001b[39m()\u001b[38;5;241m.\u001b[39msplit()\n\u001b[0;32m     29\u001b[0m     m \u001b[38;5;241m=\u001b[39m \u001b[38;5;28mint\u001b[39m(m)\n\u001b[0;32m     30\u001b[0m     n \u001b[38;5;241m=\u001b[39m \u001b[38;5;28mint\u001b[39m(n)\n",
      "\u001b[1;31mValueError\u001b[0m: not enough values to unpack (expected 2, got 1)"
     ]
    }
   ],
   "source": [
    "def dealmax(list):\n",
    "    ans = []\n",
    "    point = []\n",
    "    for i in range(len(list)):\n",
    "        if(len(point) and i - n + 1 > point[0]):\n",
    "            point.pop(0)\n",
    "        while(len(point) and list[point[-1]] < list[i]):\n",
    "            point.pop()\n",
    "        point.append(i)\n",
    "        if(i >= n - 1):\n",
    "            ans.append(list[point[0]])\n",
    "    return ans\n",
    "\n",
    "def dealmin(list):\n",
    "    ans = []\n",
    "    point = []\n",
    "    for i in range(len(list)):\n",
    "        if(len(point) and i - n + 1 > point[0]):\n",
    "            point.pop(0)\n",
    "        while(len(point) and list[point[-1]] > list[i]):\n",
    "            point.pop()\n",
    "        point.append(i)\n",
    "        if(i >= n - 1):\n",
    "            ans.append(list[point[0]])\n",
    "    return ans\n",
    "\n",
    "if __name__ == '__main__':\n",
    "    m, n = input().split()\n",
    "    m = int(m)\n",
    "    n = int(n)\n",
    "    list = [int(a) for a in input().split()]\n",
    "    ansmax = dealmax(list)\n",
    "    ansmin = dealmin(list)\n",
    "    print(ansmax)\n",
    "    print(ansmin)"
   ]
  },
  {
   "cell_type": "code",
   "execution_count": 33,
   "metadata": {},
   "outputs": [
    {
     "name": "stdout",
     "output_type": "stream",
     "text": [
      " absssababcsjkababcde  ababcd\n",
      "[0, 0, 0, 1, 2, 0, 0]\n",
      "13 18\n"
     ]
    }
   ],
   "source": [
    "def deal(lim, lin):\n",
    "    j = 0\n",
    "    ne = [0, 0]\n",
    "    for i in range(2, len(lin)):\n",
    "        while(j and lin[i] != lin[j + 1]):\n",
    "            j = ne[j]\n",
    "        if(lin[i] == lin[j + 1]):\n",
    "            j += 1\n",
    "        ne.append(j)\n",
    "    print(ne)\n",
    "    j = 0\n",
    "    for i in range(1, len(lim)):\n",
    "        while(j and lim[i] != lin[j + 1]):\n",
    "            j = ne[j]\n",
    "        if lim[i] == lin[j + 1]:\n",
    "            j += 1\n",
    "        if j == len(lin) - 1:\n",
    "            j = ne[j]\n",
    "            return i - len(lin) + 1, i - 1\n",
    "    return -1, -1\n",
    "\n",
    "\n",
    "if __name__ == '__main__':\n",
    "    m = int(input())\n",
    "    lim = \" \" + input()\n",
    "    n = int(input())\n",
    "    lin = \" \" + input()\n",
    "    print(lim, lin)\n",
    "    fr, to = deal(lim, lin)\n",
    "    print(fr, to)"
   ]
  },
  {
   "cell_type": "code",
   "execution_count": null,
   "metadata": {},
   "outputs": [],
   "source": []
  }
 ],
 "metadata": {
  "kernelspec": {
   "display_name": "Algorithm",
   "language": "python",
   "name": "python3"
  },
  "language_info": {
   "codemirror_mode": {
    "name": "ipython",
    "version": 3
   },
   "file_extension": ".py",
   "mimetype": "text/x-python",
   "name": "python",
   "nbconvert_exporter": "python",
   "pygments_lexer": "ipython3",
   "version": "3.8.0"
  }
 },
 "nbformat": 4,
 "nbformat_minor": 2
}
