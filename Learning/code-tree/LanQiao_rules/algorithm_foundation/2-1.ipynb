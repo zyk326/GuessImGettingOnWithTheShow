{
 "cells": [
  {
   "cell_type": "markdown",
   "metadata": {},
   "source": [
    "严格单调的队列,滑动窗口最大最小值"
   ]
  },
  {
   "cell_type": "code",
   "execution_count": 3,
   "metadata": {},
   "outputs": [
    {
     "name": "stdout",
     "output_type": "stream",
     "text": [
      "[1, 2, 3, 4, 5, 6, 7, 8]\n"
     ]
    }
   ],
   "source": [
    "def dealmax(list):\n",
    "    ans = []\n",
    "    hh = 0\n",
    "    tt = -1\n",
    "    point = []\n",
    "    \n",
    "    return ans\n",
    "\n",
    "if __name__ == '__main__':\n",
    "    m, n = input().split()\n",
    "    m = int(m)\n",
    "    n = int(n)\n",
    "    list = [int(a) for a in input().split()]\n",
    "    ansmax = dealmax(list)\n",
    "    ansmin = dealmin(list)\n",
    "    print(ansmax)\n",
    "    print(ansmin)"
   ]
  }
 ],
 "metadata": {
  "kernelspec": {
   "display_name": "Algorithm",
   "language": "python",
   "name": "python3"
  },
  "language_info": {
   "codemirror_mode": {
    "name": "ipython",
    "version": 3
   },
   "file_extension": ".py",
   "mimetype": "text/x-python",
   "name": "python",
   "nbconvert_exporter": "python",
   "pygments_lexer": "ipython3",
   "version": "3.8.0"
  }
 },
 "nbformat": 4,
 "nbformat_minor": 2
}
