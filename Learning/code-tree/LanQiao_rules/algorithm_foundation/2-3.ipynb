{
 "cells": [
  {
   "cell_type": "markdown",
   "metadata": {},
   "source": [
    "Hash是做数值映射的,核心是hash函数  \n",
    "拉链法的hash散列,核心是用两个数组维护一个数的左右指针,用一个数组当插槽的头,一个index保持当前数  \n",
    "字符串hash的要点是把一个字串变成一个k进制数,通常取131,13331"
   ]
  },
  {
   "cell_type": "code",
   "execution_count": 5,
   "metadata": {},
   "outputs": [
    {
     "name": "stdout",
     "output_type": "stream",
     "text": [
      "Yes\n",
      "No\n"
     ]
    }
   ],
   "source": [
    "def head_Insert(m):\n",
    "    global index\n",
    "    k = m % N\n",
    "    e[index] = m\n",
    "    ne[index] = h[k]\n",
    "    h[k] = index\n",
    "    index += 1\n",
    "\n",
    "def head_Query(m):\n",
    "    k = m % N\n",
    "    i = h[k]\n",
    "    while(e[i] != m and i != -1):\n",
    "        i = ne[i]\n",
    "    if (e[i] == m):\n",
    "        return \"Yes\"\n",
    "    elif():\n",
    "        return \"NO\"\n",
    "\n",
    "if __name__ == '__main__':\n",
    "    N = 10003\n",
    "    index = 0\n",
    "    h = [-1 for i in range(N)]\n",
    "    e = [0 for i in range(N)]\n",
    "    ne = [0 for i in range(N)]\n",
    "\n",
    "    n = int(input())\n",
    "    while(n):\n",
    "        n -= 1\n",
    "        c, m = input().split()\n",
    "        m = int(m)\n",
    "        if c == 'I':\n",
    "            head_Insert(m)\n",
    "        elif c == 'Q':\n",
    "            if (head_Query(m)):\n",
    "                print(\"Yes\")\n",
    "            else:\n",
    "                print(\"No\")\n",
    "        "
   ]
  },
  {
   "cell_type": "code",
   "execution_count": 8,
   "metadata": {},
   "outputs": [
    {
     "name": "stdout",
     "output_type": "stream",
     "text": [
      "Yes\n",
      "No\n",
      "Yes\n"
     ]
    }
   ],
   "source": [
    "def trans(l, r):\n",
    "    return h[r] - h[l - 1] * d[r - l + 1]\n",
    "\n",
    "def deal():\n",
    "    a, b, c, d = input().split()\n",
    "    a = int(a)\n",
    "    b = int(b)\n",
    "    c = int(c)\n",
    "    d = int(d)\n",
    "    if(trans(a, b) == trans(c, d)):\n",
    "        return \"Yes\"\n",
    "    else:\n",
    "        return \"No\"\n",
    "\n",
    "if __name__ == '__main__':\n",
    "    D = 131\n",
    "    N = 10003\n",
    "    d = [0 for i in range(N)]\n",
    "    h = [0 for i in range(N)]\n",
    "    d[0] = 1\n",
    "    n, m = input().split()\n",
    "    n = int(n)\n",
    "    m = int(m)\n",
    "    str = input()\n",
    "    for i in range(1, n + 1):\n",
    "        d[i] = d[i - 1] * D\n",
    "        h[i] = h[i - 1] * D + ord(str[i - 1]) - ord('a')\n",
    "    while(m):\n",
    "        m -= 1\n",
    "        print(deal())"
   ]
  }
 ],
 "metadata": {
  "kernelspec": {
   "display_name": "Algorithm",
   "language": "python",
   "name": "python3"
  },
  "language_info": {
   "codemirror_mode": {
    "name": "ipython",
    "version": 3
   },
   "file_extension": ".py",
   "mimetype": "text/x-python",
   "name": "python",
   "nbconvert_exporter": "python",
   "pygments_lexer": "ipython3",
   "version": "3.8.0"
  }
 },
 "nbformat": 4,
 "nbformat_minor": 2
}
