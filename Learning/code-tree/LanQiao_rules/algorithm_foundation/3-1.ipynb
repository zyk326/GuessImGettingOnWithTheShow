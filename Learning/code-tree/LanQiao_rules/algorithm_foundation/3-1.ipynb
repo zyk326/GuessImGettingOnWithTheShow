{
 "cells": [
  {
   "cell_type": "markdown",
   "metadata": {},
   "source": [
    "dfs,bfs,图论  \n",
    "全排列和n皇后问题(与递归没有区别)  \n",
    "bfs,走迷宫问题  \n",
    "图的深度优先搜索:去除重心(输入的变量作为全局时,不要直接处理,用另一个变量存一下)  \n",
    "图的宽搜:最短路径,有向图的拓扑序列"
   ]
  },
  {
   "cell_type": "code",
   "execution_count": 4,
   "metadata": {},
   "outputs": [
    {
     "name": "stdout",
     "output_type": "stream",
     "text": [
      "1 2 3 \n",
      "1 3 2 \n",
      "2 1 3 \n",
      "2 3 1 \n",
      "3 1 2 \n",
      "3 2 1 \n"
     ]
    }
   ],
   "source": [
    "def dfs(m):\n",
    "    global n\n",
    "    if(m == n):\n",
    "        for i in range(n):\n",
    "            print(ans[i] + 1, end=\" \")\n",
    "        print()\n",
    "        return \n",
    "    for i in range(n):\n",
    "        if(st[i] == 0):\n",
    "           ans[m] = i\n",
    "           st[i] = 1\n",
    "           dfs(m + 1)\n",
    "           st[i] = 0\n",
    "\n",
    "if __name__ == '__main__':\n",
    "    n = int(input())\n",
    "    ans = [0 for i in range(n)]\n",
    "    st = [0 for i in range(n)]\n",
    "    dfs(0)"
   ]
  },
  {
   "cell_type": "code",
   "execution_count": 17,
   "metadata": {},
   "outputs": [
    {
     "name": "stdout",
     "output_type": "stream",
     "text": [
      "[[0, 0, 0, 0, 0, 0, 0, 0, 0, 0, 0, 0, 0, 0, 0, 0, 0, 0, 0, 0], [0, 0, 0, 0, 0, 0, 0, 0, 0, 0, 0, 0, 0, 0, 0, 0, 0, 0, 0, 0], [0, 0, 0, 0, 0, 0, 0, 0, 0, 0, 0, 0, 0, 0, 0, 0, 0, 0, 0, 0], [0, 0, 0, 0, 0, 0, 0, 0, 0, 0, 0, 0, 0, 0, 0, 0, 0, 0, 0, 0], [0, 0, 0, 0, 0, 0, 0, 0, 0, 0, 0, 0, 0, 0, 0, 0, 0, 0, 0, 0], [0, 0, 0, 0, 0, 0, 0, 0, 0, 0, 0, 0, 0, 0, 0, 0, 0, 0, 0, 0], [0, 0, 0, 0, 0, 0, 0, 0, 0, 0, 0, 0, 0, 0, 0, 0, 0, 0, 0, 0], [0, 0, 0, 0, 0, 0, 0, 0, 0, 0, 0, 0, 0, 0, 0, 0, 0, 0, 0, 0], [0, 0, 0, 0, 0, 0, 0, 0, 0, 0, 0, 0, 0, 0, 0, 0, 0, 0, 0, 0], [0, 0, 0, 0, 0, 0, 0, 0, 0, 0, 0, 0, 0, 0, 0, 0, 0, 0, 0, 0], [0, 0, 0, 0, 0, 0, 0, 0, 0, 0, 0, 0, 0, 0, 0, 0, 0, 0, 0, 0], [0, 0, 0, 0, 0, 0, 0, 0, 0, 0, 0, 0, 0, 0, 0, 0, 0, 0, 0, 0], [0, 0, 0, 0, 0, 0, 0, 0, 0, 0, 0, 0, 0, 0, 0, 0, 0, 0, 0, 0], [0, 0, 0, 0, 0, 0, 0, 0, 0, 0, 0, 0, 0, 0, 0, 0, 0, 0, 0, 0], [0, 0, 0, 0, 0, 0, 0, 0, 0, 0, 0, 0, 0, 0, 0, 0, 0, 0, 0, 0], [0, 0, 0, 0, 0, 0, 0, 0, 0, 0, 0, 0, 0, 0, 0, 0, 0, 0, 0, 0], [0, 0, 0, 0, 0, 0, 0, 0, 0, 0, 0, 0, 0, 0, 0, 0, 0, 0, 0, 0], [0, 0, 0, 0, 0, 0, 0, 0, 0, 0, 0, 0, 0, 0, 0, 0, 0, 0, 0, 0], [0, 0, 0, 0, 0, 0, 0, 0, 0, 0, 0, 0, 0, 0, 0, 0, 0, 0, 0, 0], [0, 0, 0, 0, 0, 0, 0, 0, 0, 0, 0, 0, 0, 0, 0, 0, 0, 0, 0, 0]]\n"
     ]
    }
   ],
   "source": [
    "# 八皇后\n",
    "def dfs(m):\n",
    "    if(m == n):\n",
    "        for i in range(n):\n",
    "            for j in range(n):\n",
    "                if(g[i][j] == 0):\n",
    "                    print(\".\", end=\" \")\n",
    "                else:\n",
    "                    print(\"Q\", end=\" \")\n",
    "            print()\n",
    "        print()\n",
    "        return \n",
    "    for i in range(n):\n",
    "        if(st[i] == 0 and dg[m + i] == 0 and udg[n - m + i] == 0):\n",
    "           g[m][i] = 1\n",
    "           st[i], dg[m + i], udg[n - m + i] = 1, 1, 1\n",
    "           dfs(m + 1)\n",
    "           st[i], dg[m + i], udg[n - m + i] = 0, 0, 0\n",
    "           g[m][i] = 0\n",
    "\n",
    "if __name__ == '__main__':\n",
    "    n = int(input())\n",
    "    N = 20\n",
    "    g = [[0 for i in range(N)] for i in range(N)]\n",
    "    print(g)\n",
    "    # st = [0 for i in range(N)]\n",
    "    # dg = [0 for i in range(N)]\n",
    "    # udg = [0 for i in range(N)]\n",
    "    # dfs(0)"
   ]
  },
  {
   "cell_type": "code",
   "execution_count": 20,
   "metadata": {},
   "outputs": [
    {
     "name": "stdout",
     "output_type": "stream",
     "text": [
      "9\n"
     ]
    }
   ],
   "source": [
    "#走迷宫\n",
    "def bfs():\n",
    "    hh, tt = 0, 0\n",
    "    q.append((0, 0))\n",
    "    d[0][0] = 1\n",
    "    dx, dy = [-1, 0, 1, 0], [0, 1, 0, -1]\n",
    "    while(hh <= tt):\n",
    "        t = q[hh]\n",
    "        hh += 1\n",
    "        for i in range(4):\n",
    "            x = t[0] + dx[i]\n",
    "            y = t[1] + dy[i]\n",
    "            if(x >= 0 and x < n and y >= 0 and y < m and d[x][y] == 0 and g[x][y] == 0):\n",
    "                d[x][y] = d[t[0]][t[1]] + 1\n",
    "                q.append([x, y])\n",
    "                tt += 1\n",
    "    return d[n - 1][m - 1]\n",
    "\n",
    "if __name__ == '__main__':\n",
    "    n, m = input().split()\n",
    "    n = int(n)\n",
    "    m = int(m)\n",
    "    N = 110\n",
    "    g = [[0 for i in range(N)] for i in range(N)]\n",
    "    q = []\n",
    "    d = [[0 for i in range(N)] for i in range(N)]\n",
    "    for i in range(n):\n",
    "        li = list(input().split())\n",
    "        for j in range(m):\n",
    "            g[i][j] = int(li[j])\n",
    "    print(bfs() - 1)"
   ]
  },
  {
   "cell_type": "code",
   "execution_count": 48,
   "metadata": {},
   "outputs": [
    {
     "name": "stdout",
     "output_type": "stream",
     "text": [
      "4\n"
     ]
    }
   ],
   "source": [
    "N = 10010\n",
    "index = 0\n",
    "ans = N\n",
    "n = 0\n",
    "\n",
    "def add(a, b):\n",
    "    global index, e, ne, index, h\n",
    "    e[index] = b\n",
    "    ne[index] = h[a]\n",
    "    h[a] = index\n",
    "    index += 1\n",
    "    \n",
    "def dfs(u):\n",
    "    global ans\n",
    "    st[u] = 1\n",
    "    sum = 1\n",
    "    res = 0\n",
    "    i = h[u]\n",
    "    while(i != -1):\n",
    "        i = ne[i]\n",
    "        j = e[i]\n",
    "        if(st[j] == 0):\n",
    "            s = dfs(j)\n",
    "            sum += s\n",
    "            res = max(res, s)\n",
    "    res = max(res, n - sum)\n",
    "    ans = min(ans, res)\n",
    "    return sum\n",
    "\n",
    "if __name__ == '__main__':\n",
    "    h = [-1 for i in range(N)]\n",
    "    e = [0 for i in range(2 * N)]\n",
    "    ne = [0 for i in range(2 * N)]\n",
    "    st = [0 for i in range(N)]\n",
    "    n = int(input())\n",
    "    m = n - 1\n",
    "    while(m):\n",
    "        m -= 1\n",
    "        a, b = input().split()\n",
    "        a = int(a)\n",
    "        b = int(b)\n",
    "        add(a, b)\n",
    "        add(b, a)\n",
    "    dfs(1)\n",
    "    print(ans)"
   ]
  },
  {
   "cell_type": "code",
   "execution_count": 54,
   "metadata": {},
   "outputs": [
    {
     "name": "stdout",
     "output_type": "stream",
     "text": [
      "4 4\n",
      "3 3\n",
      "0 2\n",
      "2 4\n",
      "1 3\n",
      "1\n"
     ]
    }
   ],
   "source": [
    "N = 100010\n",
    "index = 0\n",
    "\n",
    "def add(a, b):\n",
    "    global index, e, ne, index, h\n",
    "    e[index] = b\n",
    "    ne[index] = h[a]\n",
    "    h[a] = index\n",
    "    index += 1\n",
    "\n",
    "def bfs():\n",
    "    hh, tt = 0, 0\n",
    "    q[0] = 1\n",
    "    d[1] = 0\n",
    "    while(hh <= tt):\n",
    "        t = q[hh]\n",
    "        hh += 1\n",
    "        i = h[t]\n",
    "        while(i != -1):\n",
    "            j = e[i]\n",
    "            if(d[j] == -1):\n",
    "                d[j] = d[t] + 1\n",
    "                tt += 1\n",
    "                q[tt] = j\n",
    "            i = ne[i]\n",
    "    return d[n]\n",
    "\n",
    "if __name__ == '__main__':\n",
    "    h = [-1 for i in range(N)]\n",
    "    e = [0 for i in range(2 * N)]\n",
    "    ne = [0 for i in range(2 * N)]\n",
    "    st = [0 for i in range(N)]\n",
    "    q = [0 for i in range(N)]\n",
    "    d = [-1 for i in range(N)]\n",
    "    n, m = input().split()\n",
    "    n = int(n)\n",
    "    m = int(m)\n",
    "    while(m):\n",
    "        m -= 1\n",
    "        a, b = input().split()\n",
    "        a = int(a)\n",
    "        b = int(b)\n",
    "        add(a, b)\n",
    "    print(bfs())\n"
   ]
  }
 ],
 "metadata": {
  "kernelspec": {
   "display_name": "Algorithm",
   "language": "python",
   "name": "python3"
  },
  "language_info": {
   "codemirror_mode": {
    "name": "ipython",
    "version": 3
   },
   "file_extension": ".py",
   "mimetype": "text/x-python",
   "name": "python",
   "nbconvert_exporter": "python",
   "pygments_lexer": "ipython3",
   "version": "3.8.0"
  }
 },
 "nbformat": 4,
 "nbformat_minor": 2
}
