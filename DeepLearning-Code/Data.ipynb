{
 "cells": [
  {
   "cell_type": "code",
   "execution_count": 1,
   "metadata": {},
   "outputs": [
    {
     "name": "stdout",
     "output_type": "stream",
     "text": [
      "tensor([ 0,  1,  2,  3,  4,  5,  6,  7,  8,  9, 10, 11])\n",
      "torch.Size([12])\n",
      "12\n",
      "tensor([[ 0,  1,  2,  3],\n",
      "        [ 4,  5,  6,  7],\n",
      "        [ 8,  9, 10, 11]])\n",
      "tensor([[[0., 0., 0., 0.],\n",
      "         [0., 0., 0., 0.],\n",
      "         [0., 0., 0., 0.]],\n",
      "\n",
      "        [[0., 0., 0., 0.],\n",
      "         [0., 0., 0., 0.],\n",
      "         [0., 0., 0., 0.]]])\n",
      "tensor([[[1., 1., 1., 1.],\n",
      "         [1., 1., 1., 1.],\n",
      "         [1., 1., 1., 1.]],\n",
      "\n",
      "        [[1., 1., 1., 1.],\n",
      "         [1., 1., 1., 1.],\n",
      "         [1., 1., 1., 1.]]])\n",
      "tensor([[[2, 1, 3],\n",
      "         [5, 6, 4]],\n",
      "\n",
      "        [[2, 6, 4],\n",
      "         [2, 3, 6]]])\n",
      "torch.Size([2, 2, 3])\n",
      "tensor([[[  7.3891,   2.7183,  20.0855],\n",
      "         [148.4132, 403.4288,  54.5981]],\n",
      "\n",
      "        [[  7.3891, 403.4288,  54.5981],\n",
      "         [  7.3891,  20.0855, 403.4288]]])\n",
      "tensor([[ 0.,  1.,  2.,  3.],\n",
      "        [ 4.,  5.,  6.,  7.],\n",
      "        [ 8.,  9., 10., 11.],\n",
      "        [ 1.,  2.,  5.,  6.],\n",
      "        [ 1.,  2.,  3.,  4.],\n",
      "        [ 4.,  5.,  6.,  7.]])\n",
      "tensor([[ 0.,  1.,  2.,  3.,  1.,  2.,  5.,  6.],\n",
      "        [ 4.,  5.,  6.,  7.,  1.,  2.,  3.,  4.],\n",
      "        [ 8.,  9., 10., 11.,  4.,  5.,  6.,  7.]])\n",
      "tensor(66.)\n",
      "1992095541504\n",
      "1992095541504\n"
     ]
    }
   ],
   "source": [
    "import torch\n",
    "\n",
    "x = torch.arange(12)\n",
    "print(x)\n",
    "\n",
    "print(x.shape)\n",
    "\n",
    "# number of element\n",
    "print(x.numel())\n",
    "\n",
    "x = x.reshape(3, 4)\n",
    "print(x)\n",
    "\n",
    "y = torch.zeros((2, 3, 4))\n",
    "print(y)\n",
    "\n",
    "z = torch.ones((2, 3, 4))\n",
    "print(z)\n",
    "\n",
    "# the element number of outside to inside \n",
    "k = torch.tensor([[[2,1,3], [5,6,4]],[[2,6,4],[2,3,6]]])\n",
    "print(k)\n",
    "print(k.shape)\n",
    "\n",
    "# exp(x) = e^x\n",
    "print(torch.exp(k))\n",
    "\n",
    "# cat : merge with dim = ? , which lay to merge by the number with outside to inside \n",
    "x = torch.arange(12, dtype = torch.float32).reshape((3, 4))\n",
    "y = torch.tensor([[1.0,2,5,6],[1,2,3,4],[4,5,6,7]])\n",
    "z = torch.cat((x, y), dim = 0)\n",
    "print(z)\n",
    "z = torch.cat((x, y), dim = 1)\n",
    "print(z)\n",
    "\n",
    "# the sum of the elements in x\n",
    "print(x.sum())\n",
    "\n",
    "x = torch.arange(12).reshape((3, 4))\n",
    "y = torch.arange(12).reshape((3, 4))\n",
    "print(id(x))\n",
    "x += y\n",
    "print(id(x))"
   ]
  },
  {
   "cell_type": "code",
   "execution_count": 23,
   "metadata": {},
   "outputs": [],
   "source": [
    "import os\n",
    "\n",
    "os.makedirs(os.path.join('.', 'src',), exist_ok=True)\n",
    "data_file = os.path.join('.', 'src', 'test.csv') # Comma-Separated Values\n",
    "with open(data_file, 'w') as f:\n",
    "    f.write('NumRooms,Alley,Price\\n')\n",
    "    f.write('NA,Pave,127500\\n')\n",
    "    f.write('2,NA,106000\\n')\n",
    "    f.write('4,NA,178100\\n')\n",
    "    f.write('NA,NA,140000\\n')"
   ]
  },
  {
   "cell_type": "code",
   "execution_count": 2,
   "metadata": {},
   "outputs": [
    {
     "name": "stdout",
     "output_type": "stream",
     "text": [
      "   NumRooms Alley   Price\n",
      "0       NaN  Pave  127500\n",
      "1       2.0   NaN  106000\n",
      "2       4.0   NaN  178100\n",
      "3       NaN   NaN  140000\n",
      "0    3.0\n",
      "1    2.0\n",
      "2    4.0\n",
      "3    3.0\n",
      "Name: NumRooms, dtype: float64\n",
      "   Pave  NaN\n",
      "0     1    0\n",
      "1     0    1\n",
      "2     0    1\n",
      "3     0    1\n"
     ]
    },
    {
     "data": {
      "text/plain": [
       "(tensor([3., 2., 4., 3.], dtype=torch.float64),\n",
       " tensor([[1, 0],\n",
       "         [0, 1],\n",
       "         [0, 1],\n",
       "         [0, 1]], dtype=torch.int32),\n",
       " tensor([127500, 106000, 178100, 140000]))"
      ]
     },
     "execution_count": 2,
     "metadata": {},
     "output_type": "execute_result"
    }
   ],
   "source": [
    "import pandas as pd\n",
    "\n",
    "data = pd.read_csv('./src/test.csv')\n",
    "print(data)\n",
    "\n",
    "inputs, inputs1, outputs = data.iloc[:, 0], data.iloc[:,1], data.iloc[:, 2]\n",
    "\n",
    "inputs = inputs.fillna(inputs.mean())\n",
    "print(inputs)\n",
    "\n",
    "inputs1 = pd.get_dummies(inputs1, dummy_na = True, dtype=int)\n",
    "print(inputs1)\n",
    "\n",
    "import torch\n",
    "X, y, z = torch.tensor(inputs.values), torch.tensor(inputs1.values), torch.tensor(outputs.values)\n",
    "X, y, z"
   ]
  }
 ],
 "metadata": {
  "kernelspec": {
   "display_name": "d2l-zh",
   "language": "python",
   "name": "python3"
  },
  "language_info": {
   "codemirror_mode": {
    "name": "ipython",
    "version": 3
   },
   "file_extension": ".py",
   "mimetype": "text/x-python",
   "name": "python",
   "nbconvert_exporter": "python",
   "pygments_lexer": "ipython3",
   "version": "3.8.17"
  },
  "orig_nbformat": 4
 },
 "nbformat": 4,
 "nbformat_minor": 2
}
