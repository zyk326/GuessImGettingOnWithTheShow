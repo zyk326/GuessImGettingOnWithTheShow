{
 "cells": [
  {
   "cell_type": "code",
   "execution_count": 17,
   "metadata": {},
   "outputs": [
    {
     "name": "stdout",
     "output_type": "stream",
     "text": [
      "tensor([0., 1., 2., 3.])\n",
      "None\n",
      "tensor([True, True, True, True])\n",
      "tensor([ 1.,  5.,  9., 13.])\n",
      "----   tensor([0., 2., 4., 6.])\n",
      "tensor([True, True, True, True])\n",
      "tensor(True)\n"
     ]
    }
   ],
   "source": [
    "import torch\n",
    "\n",
    "x = torch.arange(4.0)\n",
    "print(x)\n",
    "\n",
    "x.requires_grad_(True) # 设置把x的梯度保存下来,y关于x的导数是放在这里的\n",
    "print(x.grad)\n",
    "\n",
    "y = 2 * torch.dot(x, x)\n",
    "y.backward() #调用反向传播函数,意思是给你求个导\n",
    "print(x.grad == 4 * x)\n",
    "\n",
    "# x.grad.zero_() #下划线表示重写里面的内容 这里没有累计梯度,直接用会报错\n",
    "y = x.sum()\n",
    "y.backward()  \n",
    "print(x.grad) #x.gard 是x的导数,对x求导\n",
    "\n",
    "x.grad.zero_()\n",
    "y = x * x # 这里乘出来是一个矩阵,下一行用sum就成了一个向量\n",
    "y.sum().backward()\n",
    "print('----  ',x.grad)\n",
    "\n",
    "x.grad.zero_()\n",
    "y = x * x\n",
    "u = y.detach() # 把y当做一个常数,丢掉y跟x的函数关系,用u保存\n",
    "z = u * x\n",
    "z.sum().backward()    \n",
    "print(x.grad == u) # z对x求导结果是常数u\n",
    "\n",
    "def f(a):\n",
    "    b = a * 2\n",
    "    while b.norm() < 1000:\n",
    "        b = b * 2\n",
    "    if b.sum() > 0:\n",
    "        c = b\n",
    "    else:\n",
    "        c = 100 * b\n",
    "    return c\n",
    "\n",
    "a = torch.randn(size = (), requires_grad=True)\n",
    "d = f(a)\n",
    "d.backward()\n",
    "\n",
    "print(a.grad == d / a) # d是一个加系数的a的函数,记作k,则d = k * a,显然对a求导就是 d / a"
   ]
  }
 ],
 "metadata": {
  "kernelspec": {
   "display_name": "d2l-zh",
   "language": "python",
   "name": "python3"
  },
  "language_info": {
   "codemirror_mode": {
    "name": "ipython",
    "version": 3
   },
   "file_extension": ".py",
   "mimetype": "text/x-python",
   "name": "python",
   "nbconvert_exporter": "python",
   "pygments_lexer": "ipython3",
   "version": "3.8.17"
  }
 },
 "nbformat": 4,
 "nbformat_minor": 2
}
