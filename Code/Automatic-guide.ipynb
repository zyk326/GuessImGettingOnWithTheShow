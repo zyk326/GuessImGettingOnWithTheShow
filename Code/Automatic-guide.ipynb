{
 "cells": [
  {
   "cell_type": "code",
   "execution_count": 14,
   "metadata": {},
   "outputs": [
    {
     "name": "stdout",
     "output_type": "stream",
     "text": [
      "tensor([0., 1., 2., 3.])\n",
      "None\n",
      "tensor([True, True, True, True])\n",
      "tensor([ 1.,  5.,  9., 13.])\n",
      "tensor([0., 2., 4., 6.])\n",
      "tensor([True, True, True, True])\n"
     ]
    }
   ],
   "source": [
    "import torch\n",
    "\n",
    "x = torch.arange(4.0)\n",
    "print(x)\n",
    "\n",
    "x.requires_grad_(True) # 设置把x的梯度保存下来,y关于x的导数是放在这里的\n",
    "print(x.grad)\n",
    "\n",
    "y = 2 * torch.dot(x, x)\n",
    "y.backward() #调用反向传播函数,意思是给你求个导\n",
    "print(x.grad == 4 * x)\n",
    "\n",
    "# x.grad.zero_() #下划线表示重写里面的内容 这里没有累计梯度,直接用会报错\n",
    "y = x.sum()\n",
    "y.backward()  \n",
    "print(x.grad) #x.gard 是x的导数,求导\n",
    "\n",
    "x.grad.zero_()\n",
    "y = x * x\n",
    "y.sum().backward()\n",
    "print(x.grad)\n",
    "\n",
    "x.grad.zero_()\n",
    "y = x * x\n",
    "u = y.detach() # 把y当做一个常数,丢掉y跟x的函数关系,用u保存\n",
    "z = u * x\n",
    "z.sum().backward()\n",
    "print(x.grad == u)"
   ]
  }
 ],
 "metadata": {
  "kernelspec": {
   "display_name": "d2l-zh",
   "language": "python",
   "name": "python3"
  },
  "language_info": {
   "codemirror_mode": {
    "name": "ipython",
    "version": 3
   },
   "file_extension": ".py",
   "mimetype": "text/x-python",
   "name": "python",
   "nbconvert_exporter": "python",
   "pygments_lexer": "ipython3",
   "version": "3.8.17"
  }
 },
 "nbformat": 4,
 "nbformat_minor": 2
}
